{
  "cells": [
    {
      "cell_type": "markdown",
      "metadata": {
        "id": "uVbEYCD6r5IU"
      },
      "source": [
        "## Imports\n"
      ]
    },
    {
      "cell_type": "code",
      "execution_count": 1,
      "metadata": {
        "id": "20n-Jad2r5IV"
      },
      "outputs": [],
      "source": [
        "import os\n",
        "import matplotlib.pyplot as plt\n",
        "\n",
        "import requests\n",
        "import tarfile\n",
        "import os\n",
        "\n",
        "from tqdm import tqdm\n",
        "\n",
        "import torch\n",
        "from torchvision.io import read_image\n",
        "from torch.utils.data import Dataset, DataLoader\n",
        "from torchsummary import summary\n",
        "from torchvision import models\n",
        "from torch import nn\n",
        "from torchvision import transforms\n",
        "from torchvision.transforms import v2\n",
        "\n",
        "from torchvision.models import ResNet34_Weights\n",
        "from torchvision.models import ResNet152_Weights\n",
        "\n",
        "\n",
        "os.environ['CUDA_LAUNCH_BLOCKING'] = \"1\"\n",
        "\n",
        "device = torch.device(\"cuda\" if torch.cuda.is_available() else \"cpu\")\n"
      ]
    },
    {
      "cell_type": "markdown",
      "metadata": {
        "id": "d9UHkmd7r5IV"
      },
      "source": [
        "## Definition of global constants"
      ]
    },
    {
      "cell_type": "code",
      "execution_count": 2,
      "metadata": {
        "id": "BTxDyguZr5IW"
      },
      "outputs": [],
      "source": [
        "IMG_SIZE = (224,224)\n",
        "IMAGE_PATH = os.path.join(os.getcwd(), 'dataset/images')\n",
        "NUM_CLASSES = 37"
      ]
    },
    {
      "cell_type": "markdown",
      "metadata": {
        "id": "iy7dFm5vr5IW"
      },
      "source": [
        "## Defining transformations"
      ]
    },
    {
      "cell_type": "markdown",
      "metadata": {
        "id": "miFgNiper5IW"
      },
      "source": [
        "Defining transforms for images and labels. These are used for preprocessing each image used in the model"
      ]
    },
    {
      "cell_type": "markdown",
      "metadata": {
        "id": "mbzxyU8fr5IX"
      },
      "source": [
        "## Definition of training/testing loops"
      ]
    },
    {
      "cell_type": "markdown",
      "metadata": {
        "id": "gGuoaOA4r5IX"
      },
      "source": [
        "We now define the training/test functions as implemented in\n",
        "https://pytorch.org/tutorials/beginner/basics/optimization_tutorial.html"
      ]
    },
    {
      "cell_type": "code",
      "execution_count": 3,
      "metadata": {
        "id": "nbbW8ojcL5FR"
      },
      "outputs": [],
      "source": [
        "\n",
        "# cutmix operations\n",
        "cutmix = v2.CutMix(num_classes=NUM_CLASSES)\n",
        "mixup = v2.MixUp(num_classes=NUM_CLASSES)\n",
        "cutmix_or_mixup = v2.RandomChoice([cutmix, mixup])"
      ]
    },
    {
      "cell_type": "code",
      "execution_count": 4,
      "metadata": {
        "id": "PeHPKKAzL5FS"
      },
      "outputs": [],
      "source": [
        "def set_bn_to_eval(model):\n",
        "    \"\"\"Set all BatchNorm layers to evaluation mode.\"\"\"\n",
        "    for layer in model.modules():\n",
        "        if isinstance(layer, nn.BatchNorm2d):\n",
        "            layer.eval()\n",
        "\n",
        "def set_bn_to_eval_and_freeze_parameters(model):\n",
        "    for layer in model.modules():\n",
        "        if isinstance(layer, nn.BatchNorm2d):\n",
        "            layer.eval()\n",
        "            layer.requires_grad = False\n",
        "\n",
        "def set_bn_to_train_and_unfreeze_parameters(model):\n",
        "    for layer in model.modules():\n",
        "        if isinstance(layer, nn.BatchNorm2d):\n",
        "            layer.train()\n",
        "            layer.requires_grad = True"
      ]
    },
    {
      "cell_type": "code",
      "execution_count": 5,
      "metadata": {
        "id": "r0nTPUWBr5IX"
      },
      "outputs": [],
      "source": [
        "def train_loop(dataloader, model, loss_fn, optimizer, device, DEBUG=True, BN_MODE='FREEZE', **kwargs):\n",
        "    \"\"\"\n",
        "    Trains the model provided for one epoch.\n",
        "\n",
        "    Args:\n",
        "        BN_MODE : 'DEFAULT', 'FREEZE', 'UNLOCK_ALL'\n",
        "        data_aug = 'DEFAULT', 'CUTMIX', 'MIXUP', 'RANDOM'\n",
        "\n",
        "    Returns:\n",
        "        results : {\n",
        "            'train_loss' : float, this is the average loss over the entire dataset,\n",
        "            'train_accuracy' : float, this is the accuracy over the entire dataset\n",
        "        }\n",
        "    \"\"\"\n",
        "    print_every = int(kwargs.get('print_every', 10))\n",
        "    data_aug = kwargs.get('data_aug', 'DEFAULT')\n",
        "\n",
        "\n",
        "    train_loss = 0\n",
        "    train_accuracy = 0\n",
        "\n",
        "    num_batches = len(dataloader)\n",
        "    model.train()\n",
        "    if BN_MODE == 'DEFAULT':\n",
        "        set_bn_to_eval(model)\n",
        "    elif BN_MODE == 'FREEZE':\n",
        "        # This will change layers to eval and freeze batch norm parameters\n",
        "        set_bn_to_eval_and_freeze_parameters(model)\n",
        "    elif BN_MODE == 'UNLOCK_ALL':\n",
        "        set_bn_to_train_and_unfreeze_parameters(model)\n",
        "    else:\n",
        "        # This will update batch norm mean and variance and update parameters inside unlocked layers\n",
        "        pass\n",
        "\n",
        "    model.to(device)\n",
        "\n",
        "    with tqdm(total=num_batches, dynamic_ncols=True) as pbar:\n",
        "        for batch, (X, y) in enumerate(dataloader):\n",
        "            optimizer.zero_grad()\n",
        "            X, y = X.to(device), y.to(device)\n",
        "\n",
        "            if data_aug == 'DEFAULT':\n",
        "                X, y = X, y\n",
        "            elif data_aug == 'CUTMIX':\n",
        "                #https://pytorch.org/vision/main/auto_examples/transforms/plot_cutmix_mixup.html#sphx-glr-auto-examples-transforms-plot-cutmix-mixup-py\n",
        "                X,y = cutmix(X,y)\n",
        "            elif data_aug == 'MIXUP':\n",
        "                X,y = mixup(X,y)\n",
        "            elif data_aug == 'RANDOM':\n",
        "                X,y = cutmix_or_mixup(X,y)\n",
        "            else:\n",
        "                X, y = X, y\n",
        "\n",
        "            pred = model(X)\n",
        "            loss = loss_fn(pred, y)\n",
        "\n",
        "            loss.backward()\n",
        "            optimizer.step()\n",
        "\n",
        "            # update loss and accuracy\n",
        "            train_loss += loss.item()\n",
        "\n",
        "            # Update accuracy\n",
        "            if data_aug == 'DEFAULT':\n",
        "                train_accuracy += (pred.argmax(1) == y).type(torch.float).sum().item()\n",
        "            else:\n",
        "                train_accuracy += 0\n",
        "\n",
        "            if DEBUG and batch % print_every == 0:\n",
        "                loss_item = loss.item()\n",
        "                pbar.set_description(f\"loss: {loss_item:>7f}  Batch:[{batch+1:>5d}/{num_batches:>5d}]\")\n",
        "            pbar.update(1)\n",
        "\n",
        "    train_loss /= num_batches\n",
        "    train_accuracy /= len(dataloader.dataset)\n",
        "    return {\n",
        "        'train_loss' : train_loss,\n",
        "        'train_accuracy' : train_accuracy\n",
        "    }"
      ]
    },
    {
      "cell_type": "code",
      "execution_count": 6,
      "metadata": {
        "id": "SZxkltLrr5IY"
      },
      "outputs": [],
      "source": [
        "def test_loop(dataloader, model, loss_fn, device):\n",
        "    model.eval()\n",
        "    size = len(dataloader.dataset)\n",
        "    num_batches = len(dataloader)\n",
        "    test_loss, correct = 0, 0\n",
        "    model.to(device)  # Move the model to the device\n",
        "\n",
        "    with torch.no_grad():\n",
        "        for X, y in dataloader:\n",
        "            X, y = X.to(device), y.to(device)  # Move the data to the device\n",
        "            pred = model(X)\n",
        "            test_loss += loss_fn(pred, y).item()\n",
        "            correct += (pred.argmax(1) == y).type(torch.float).sum().item()\n",
        "\n",
        "    test_loss /= num_batches\n",
        "    correct /= size\n",
        "    print(f\"Validation Error: \\n Accuracy: {(100*correct):>0.1f}%, Avg loss: {test_loss:>8f} \\n\")\n",
        "\n",
        "    return {'validation_loss': test_loss, 'validation_acc': correct}"
      ]
    },
    {
      "cell_type": "code",
      "execution_count": 7,
      "metadata": {
        "id": "ks5QJbT0r5IY"
      },
      "outputs": [],
      "source": [
        "def evaluate_model(dataloader, model, loss_fn, device):\n",
        "    model.eval()\n",
        "    size = len(dataloader.dataset)\n",
        "    num_batches = len(dataloader)\n",
        "    test_loss, correct = 0, 0\n",
        "    model.to(device)  # Move the model to the device\n",
        "\n",
        "    with torch.no_grad():\n",
        "        for X, y in dataloader:\n",
        "            X, y = X.to(device), y.to(device)  # Move the data to the device\n",
        "            pred = model(X)\n",
        "            test_loss += loss_fn(pred, y).item()\n",
        "            correct += (pred.argmax(1) == y).type(torch.float).sum().item()\n",
        "\n",
        "    test_loss /= num_batches\n",
        "    correct /= size\n",
        "    accuracy = 100*correct\n",
        "    return accuracy, test_loss"
      ]
    },
    {
      "cell_type": "markdown",
      "metadata": {
        "id": "VyTCIbXdr5IY"
      },
      "source": [
        "## We create a function that creates the datasets and loads the data"
      ]
    },
    {
      "cell_type": "code",
      "execution_count": 8,
      "metadata": {
        "id": "3nTWr-SCr5IY"
      },
      "outputs": [],
      "source": [
        "import random\n",
        "from torch.utils.data import Subset\n",
        "from torchvision.datasets import OxfordIIITPet\n",
        "\n",
        "def load_data(train_transform=None, val_transform=None):\n",
        "    if val_transform == None:\n",
        "        val_transform = train_transform\n",
        "\n",
        "\n",
        "\n",
        "\n",
        "    training_data = OxfordIIITPet(root='dataset', split='trainval', target_types='category', transform=train_transform, download=True)\n",
        "    validation_data = OxfordIIITPet(root='dataset', split='trainval', target_types='category', transform=val_transform, download=False)\n",
        "    test_data = OxfordIIITPet(root='dataset', split='test', target_types='category', transform=val_transform, download=False)\n",
        "\n",
        "    # shuffle and split into validation and training\n",
        "    indices = list(range(len(training_data)))\n",
        "    random.seed(310)  # fix the seed\n",
        "    random.shuffle(indices)\n",
        "\n",
        "    train_size = int(0.8 * len(training_data))\n",
        "    train_dataset_split = Subset(training_data, indices[:train_size])\n",
        "    val_dataset_split = Subset(validation_data, indices[train_size:])\n",
        "\n",
        "    return train_dataset_split, val_dataset_split, test_data"
      ]
    },
    {
      "cell_type": "markdown",
      "metadata": {
        "id": "3oo4EQ_Nr5IY"
      },
      "source": [
        "## Next we define the training function"
      ]
    },
    {
      "cell_type": "code",
      "execution_count": 9,
      "metadata": {
        "id": "fQB6QUYtr5IZ"
      },
      "outputs": [],
      "source": [
        "def train_model(model, loss_fn, optimizer, train_dataloader, val_dataloader, **kwargs):\n",
        "    \"\"\"\n",
        "    Args:\n",
        "        **kwargs : {\n",
        "            'epochs' : int,\n",
        "            'device' : torch.device,\n",
        "            'scheduler' : torch.scheduler,\n",
        "            'data_aug' : bool\n",
        "        }\n",
        "    \"\"\"\n",
        "    epochs = kwargs.get('epochs', 5)\n",
        "    device = kwargs.get('device', torch.device('cpu'))\n",
        "    scheduler = kwargs.get('scheduler', None)\n",
        "    patience = kwargs.get('patience', 5)\n",
        "\n",
        "    training_results = []\n",
        "    validation_results = []\n",
        "    best_loss = 999\n",
        "    best_acc = 0\n",
        "    counter = 0\n",
        "\n",
        "    for t in range(epochs):\n",
        "        print(f\"Epoch {t+1}\\n-------------------------------\")\n",
        "        train_res = train_loop(train_dataloader, model, loss_fn, optimizer, **kwargs)\n",
        "        if scheduler is not None:\n",
        "            scheduler.step()\n",
        "        val_res = test_loop(val_dataloader, model, loss_fn, device)\n",
        "\n",
        "        # append data\n",
        "        training_results.append(train_res)\n",
        "        validation_results.append(val_res)\n",
        "\n",
        "        if val_res['validation_loss'] < best_loss:\n",
        "            best_loss = val_res['validation_loss']\n",
        "            # save the best loss model\n",
        "            torch.save(model.state_dict(), 'best_model_loss.pth')\n",
        "            counter = 0\n",
        "        else:\n",
        "            counter += 1\n",
        "        # save best acc model\n",
        "        if val_res['validation_acc'] >= best_acc:\n",
        "            best_acc = val_res['validation_acc']\n",
        "            torch.save(model.state_dict(), 'best_model_acc.pth')\n",
        "        # break if not improving for last 5 epochs\n",
        "        if t > patience and counter == patience:\n",
        "            print(\"Early stopping!\")\n",
        "            break\n",
        "    print(\"Training done!\")\n",
        "\n",
        "    return {'train_res': training_results, 'val_res': validation_results}"
      ]
    },
    {
      "cell_type": "markdown",
      "metadata": {
        "id": "ad0Adinzr5IZ"
      },
      "source": [
        "## function for plotting loss and acc"
      ]
    },
    {
      "cell_type": "code",
      "execution_count": 10,
      "metadata": {
        "id": "ujJTGy2Rr5IZ"
      },
      "outputs": [],
      "source": [
        "# make one graph for accuracy and one for loss\n",
        "import seaborn as sns\n",
        "# use style\n",
        "sns.set_theme(style='whitegrid')\n",
        "\n",
        "def create_graphs(results, filename):\n",
        "    train_loss = [res['train_loss'] for res in results['train_res']]\n",
        "    val_loss = [res['validation_loss'] for res in results['val_res']]\n",
        "\n",
        "    train_acc = [res['train_accuracy'] for res in results['train_res']]\n",
        "\n",
        "    val_acc = [res['validation_acc'] for res in results['val_res']]\n",
        "\n",
        "    fig, ax = plt.subplots(1, 2, figsize=(12, 6))\n",
        "\n",
        "    sns.lineplot(x=range(1, len(train_loss)+1), y=train_loss, ax=ax[0], label='train_loss')\n",
        "    sns.lineplot(x=range(1, len(val_loss)+1), y=val_loss, ax=ax[0], label='val_loss')\n",
        "\n",
        "    sns.lineplot(x=range(1, len(train_acc)+1), y=train_acc, ax=ax[1], label='train_acc')\n",
        "    sns.lineplot(x=range(1, len(val_acc)+1), y=val_acc, ax=ax[1], label='val_acc')\n",
        "\n",
        "    ax[0].set_title('Loss')\n",
        "    ax[1].set_title('Accuracy')\n",
        "\n",
        "    ax[0].set_xlabel('Epochs')\n",
        "    ax[1].set_xlabel('Epochs')\n",
        "\n",
        "    plt.savefig(filename)\n"
      ]
    },
    {
      "cell_type": "code",
      "execution_count": 11,
      "metadata": {
        "id": "Shimu48eL5FT"
      },
      "outputs": [],
      "source": [
        "# get transforms from resnet\n",
        "weights = ResNet34_Weights.DEFAULT\n",
        "resnet34_preprocess = weights.transforms() # this is the preprocessing done by resnet34\n",
        "\n",
        "# transforms used are those in https://pytorch.org/vision/stable/transforms.html example\n",
        "# get transforms from resnet\n",
        "weights = ResNet152_Weights.DEFAULT\n",
        "resnet152_preprocess = weights.transforms() # this is the preprocessing done by resnet34\n",
        "\n",
        "#train_transform = v2.RandAugment()"
      ]
    },
    {
      "cell_type": "markdown",
      "metadata": {
        "id": "ypS-Xfq1_acs"
      },
      "source": [
        "# Extension 1: Deeper networks"
      ]
    },
    {
      "cell_type": "markdown",
      "metadata": {
        "id": "jiXRiZzV_acs"
      },
      "source": [
        "Explore using deeper networks than you used in the basic project. Does the deeper network\n",
        "help? Is it trickier to fine-tune? Do you even need to fine-tune the earlier layers? Do you\n",
        "need to change the optimizer to for instance AdamW to ensure good training?"
      ]
    },
    {
      "cell_type": "markdown",
      "metadata": {
        "id": "urYcvBPlL5FU"
      },
      "source": [
        "### Establish baseline"
      ]
    },
    {
      "cell_type": "markdown",
      "metadata": {
        "id": "xa5avJV6L5FU"
      },
      "source": [
        "First we establish a baseline by training the ResNet34 model (only the connected layer at first)"
      ]
    },
    {
      "cell_type": "code",
      "execution_count": 12,
      "metadata": {
        "colab": {
          "base_uri": "https://localhost:8080/",
          "height": 585
        },
        "id": "mx3-Q5Z8L5FU",
        "outputId": "a6132ac5-b68a-4c9e-b352-e4bf464b4490"
      },
      "outputs": [
        {
          "output_type": "stream",
          "name": "stderr",
          "text": [
            "Downloading: \"https://download.pytorch.org/models/resnet34-b627a593.pth\" to /root/.cache/torch/hub/checkpoints/resnet34-b627a593.pth\n",
            "100%|██████████| 83.3M/83.3M [00:01<00:00, 61.7MB/s]\n"
          ]
        },
        {
          "output_type": "stream",
          "name": "stdout",
          "text": [
            "Downloading https://thor.robots.ox.ac.uk/datasets/pets/images.tar.gz to dataset/oxford-iiit-pet/images.tar.gz\n"
          ]
        },
        {
          "output_type": "stream",
          "name": "stderr",
          "text": [
            "100%|██████████| 791918971/791918971 [00:07<00:00, 111481948.27it/s]\n"
          ]
        },
        {
          "output_type": "stream",
          "name": "stdout",
          "text": [
            "Extracting dataset/oxford-iiit-pet/images.tar.gz to dataset/oxford-iiit-pet\n",
            "Downloading https://thor.robots.ox.ac.uk/datasets/pets/annotations.tar.gz to dataset/oxford-iiit-pet/annotations.tar.gz\n"
          ]
        },
        {
          "output_type": "stream",
          "name": "stderr",
          "text": [
            "100%|██████████| 19173078/19173078 [00:00<00:00, 74259386.80it/s]\n"
          ]
        },
        {
          "output_type": "stream",
          "name": "stdout",
          "text": [
            "Extracting dataset/oxford-iiit-pet/annotations.tar.gz to dataset/oxford-iiit-pet\n",
            "Epoch 1\n",
            "-------------------------------\n"
          ]
        },
        {
          "output_type": "stream",
          "name": "stderr",
          "text": [
            "loss: 3.762492  Batch:[    1/   92]:   9%|▊         | 8/92 [00:03<00:37,  2.21it/s]\n"
          ]
        },
        {
          "output_type": "error",
          "ename": "KeyboardInterrupt",
          "evalue": "",
          "traceback": [
            "\u001b[0;31m---------------------------------------------------------------------------\u001b[0m",
            "\u001b[0;31mKeyboardInterrupt\u001b[0m                         Traceback (most recent call last)",
            "\u001b[0;32m<ipython-input-12-826000442ed8>\u001b[0m in \u001b[0;36m<cell line: 34>\u001b[0;34m()\u001b[0m\n\u001b[1;32m     32\u001b[0m \u001b[0mscheduler\u001b[0m \u001b[0;34m=\u001b[0m \u001b[0;32mNone\u001b[0m\u001b[0;34m\u001b[0m\u001b[0;34m\u001b[0m\u001b[0m\n\u001b[1;32m     33\u001b[0m \u001b[0;34m\u001b[0m\u001b[0m\n\u001b[0;32m---> 34\u001b[0;31m \u001b[0mresults\u001b[0m \u001b[0;34m=\u001b[0m \u001b[0mtrain_model\u001b[0m\u001b[0;34m(\u001b[0m\u001b[0mmodel\u001b[0m\u001b[0;34m,\u001b[0m \u001b[0mnn\u001b[0m\u001b[0;34m.\u001b[0m\u001b[0mCrossEntropyLoss\u001b[0m\u001b[0;34m(\u001b[0m\u001b[0;34m)\u001b[0m\u001b[0;34m,\u001b[0m \u001b[0moptimizer\u001b[0m\u001b[0;34m,\u001b[0m \u001b[0mtrain_dataloader\u001b[0m\u001b[0;34m,\u001b[0m \u001b[0mval_dataloader\u001b[0m\u001b[0;34m,\u001b[0m \u001b[0mepochs\u001b[0m\u001b[0;34m=\u001b[0m\u001b[0m_epochs\u001b[0m\u001b[0;34m,\u001b[0m \u001b[0mdevice\u001b[0m\u001b[0;34m=\u001b[0m\u001b[0mdevice\u001b[0m\u001b[0;34m,\u001b[0m \u001b[0mscheduler\u001b[0m\u001b[0;34m=\u001b[0m\u001b[0mscheduler\u001b[0m\u001b[0;34m)\u001b[0m\u001b[0;34m\u001b[0m\u001b[0;34m\u001b[0m\u001b[0m\n\u001b[0m\u001b[1;32m     35\u001b[0m \u001b[0;31m# plot results\u001b[0m\u001b[0;34m\u001b[0m\u001b[0;34m\u001b[0m\u001b[0m\n\u001b[1;32m     36\u001b[0m \u001b[0mcreate_graphs\u001b[0m\u001b[0;34m(\u001b[0m\u001b[0mresults\u001b[0m\u001b[0;34m,\u001b[0m \u001b[0;34m'extension_graphs/resnet_34baseline'\u001b[0m\u001b[0;34m)\u001b[0m\u001b[0;34m\u001b[0m\u001b[0;34m\u001b[0m\u001b[0m\n",
            "\u001b[0;32m<ipython-input-9-1bf4d3905998>\u001b[0m in \u001b[0;36mtrain_model\u001b[0;34m(model, loss_fn, optimizer, train_dataloader, val_dataloader, **kwargs)\u001b[0m\n\u001b[1;32m     22\u001b[0m     \u001b[0;32mfor\u001b[0m \u001b[0mt\u001b[0m \u001b[0;32min\u001b[0m \u001b[0mrange\u001b[0m\u001b[0;34m(\u001b[0m\u001b[0mepochs\u001b[0m\u001b[0;34m)\u001b[0m\u001b[0;34m:\u001b[0m\u001b[0;34m\u001b[0m\u001b[0;34m\u001b[0m\u001b[0m\n\u001b[1;32m     23\u001b[0m         \u001b[0mprint\u001b[0m\u001b[0;34m(\u001b[0m\u001b[0;34mf\"Epoch {t+1}\\n-------------------------------\"\u001b[0m\u001b[0;34m)\u001b[0m\u001b[0;34m\u001b[0m\u001b[0;34m\u001b[0m\u001b[0m\n\u001b[0;32m---> 24\u001b[0;31m         \u001b[0mtrain_res\u001b[0m \u001b[0;34m=\u001b[0m \u001b[0mtrain_loop\u001b[0m\u001b[0;34m(\u001b[0m\u001b[0mtrain_dataloader\u001b[0m\u001b[0;34m,\u001b[0m \u001b[0mmodel\u001b[0m\u001b[0;34m,\u001b[0m \u001b[0mloss_fn\u001b[0m\u001b[0;34m,\u001b[0m \u001b[0moptimizer\u001b[0m\u001b[0;34m,\u001b[0m \u001b[0;34m**\u001b[0m\u001b[0mkwargs\u001b[0m\u001b[0;34m)\u001b[0m\u001b[0;34m\u001b[0m\u001b[0;34m\u001b[0m\u001b[0m\n\u001b[0m\u001b[1;32m     25\u001b[0m         \u001b[0;32mif\u001b[0m \u001b[0mscheduler\u001b[0m \u001b[0;32mis\u001b[0m \u001b[0;32mnot\u001b[0m \u001b[0;32mNone\u001b[0m\u001b[0;34m:\u001b[0m\u001b[0;34m\u001b[0m\u001b[0;34m\u001b[0m\u001b[0m\n\u001b[1;32m     26\u001b[0m             \u001b[0mscheduler\u001b[0m\u001b[0;34m.\u001b[0m\u001b[0mstep\u001b[0m\u001b[0;34m(\u001b[0m\u001b[0;34m)\u001b[0m\u001b[0;34m\u001b[0m\u001b[0;34m\u001b[0m\u001b[0m\n",
            "\u001b[0;32m<ipython-input-5-ace952f4d773>\u001b[0m in \u001b[0;36mtrain_loop\u001b[0;34m(dataloader, model, loss_fn, optimizer, device, DEBUG, BN_MODE, **kwargs)\u001b[0m\n\u001b[1;32m     52\u001b[0m                 \u001b[0mX\u001b[0m\u001b[0;34m,\u001b[0m \u001b[0my\u001b[0m \u001b[0;34m=\u001b[0m \u001b[0mX\u001b[0m\u001b[0;34m,\u001b[0m \u001b[0my\u001b[0m\u001b[0;34m\u001b[0m\u001b[0;34m\u001b[0m\u001b[0m\n\u001b[1;32m     53\u001b[0m \u001b[0;34m\u001b[0m\u001b[0m\n\u001b[0;32m---> 54\u001b[0;31m             \u001b[0mpred\u001b[0m \u001b[0;34m=\u001b[0m \u001b[0mmodel\u001b[0m\u001b[0;34m(\u001b[0m\u001b[0mX\u001b[0m\u001b[0;34m)\u001b[0m\u001b[0;34m\u001b[0m\u001b[0;34m\u001b[0m\u001b[0m\n\u001b[0m\u001b[1;32m     55\u001b[0m             \u001b[0mloss\u001b[0m \u001b[0;34m=\u001b[0m \u001b[0mloss_fn\u001b[0m\u001b[0;34m(\u001b[0m\u001b[0mpred\u001b[0m\u001b[0;34m,\u001b[0m \u001b[0my\u001b[0m\u001b[0;34m)\u001b[0m\u001b[0;34m\u001b[0m\u001b[0;34m\u001b[0m\u001b[0m\n\u001b[1;32m     56\u001b[0m \u001b[0;34m\u001b[0m\u001b[0m\n",
            "\u001b[0;32m/usr/local/lib/python3.10/dist-packages/torch/nn/modules/module.py\u001b[0m in \u001b[0;36m_wrapped_call_impl\u001b[0;34m(self, *args, **kwargs)\u001b[0m\n\u001b[1;32m   1530\u001b[0m             \u001b[0;32mreturn\u001b[0m \u001b[0mself\u001b[0m\u001b[0;34m.\u001b[0m\u001b[0m_compiled_call_impl\u001b[0m\u001b[0;34m(\u001b[0m\u001b[0;34m*\u001b[0m\u001b[0margs\u001b[0m\u001b[0;34m,\u001b[0m \u001b[0;34m**\u001b[0m\u001b[0mkwargs\u001b[0m\u001b[0;34m)\u001b[0m  \u001b[0;31m# type: ignore[misc]\u001b[0m\u001b[0;34m\u001b[0m\u001b[0;34m\u001b[0m\u001b[0m\n\u001b[1;32m   1531\u001b[0m         \u001b[0;32melse\u001b[0m\u001b[0;34m:\u001b[0m\u001b[0;34m\u001b[0m\u001b[0;34m\u001b[0m\u001b[0m\n\u001b[0;32m-> 1532\u001b[0;31m             \u001b[0;32mreturn\u001b[0m \u001b[0mself\u001b[0m\u001b[0;34m.\u001b[0m\u001b[0m_call_impl\u001b[0m\u001b[0;34m(\u001b[0m\u001b[0;34m*\u001b[0m\u001b[0margs\u001b[0m\u001b[0;34m,\u001b[0m \u001b[0;34m**\u001b[0m\u001b[0mkwargs\u001b[0m\u001b[0;34m)\u001b[0m\u001b[0;34m\u001b[0m\u001b[0;34m\u001b[0m\u001b[0m\n\u001b[0m\u001b[1;32m   1533\u001b[0m \u001b[0;34m\u001b[0m\u001b[0m\n\u001b[1;32m   1534\u001b[0m     \u001b[0;32mdef\u001b[0m \u001b[0m_call_impl\u001b[0m\u001b[0;34m(\u001b[0m\u001b[0mself\u001b[0m\u001b[0;34m,\u001b[0m \u001b[0;34m*\u001b[0m\u001b[0margs\u001b[0m\u001b[0;34m,\u001b[0m \u001b[0;34m**\u001b[0m\u001b[0mkwargs\u001b[0m\u001b[0;34m)\u001b[0m\u001b[0;34m:\u001b[0m\u001b[0;34m\u001b[0m\u001b[0;34m\u001b[0m\u001b[0m\n",
            "\u001b[0;32m/usr/local/lib/python3.10/dist-packages/torch/nn/modules/module.py\u001b[0m in \u001b[0;36m_call_impl\u001b[0;34m(self, *args, **kwargs)\u001b[0m\n\u001b[1;32m   1539\u001b[0m                 \u001b[0;32mor\u001b[0m \u001b[0m_global_backward_pre_hooks\u001b[0m \u001b[0;32mor\u001b[0m \u001b[0m_global_backward_hooks\u001b[0m\u001b[0;34m\u001b[0m\u001b[0;34m\u001b[0m\u001b[0m\n\u001b[1;32m   1540\u001b[0m                 or _global_forward_hooks or _global_forward_pre_hooks):\n\u001b[0;32m-> 1541\u001b[0;31m             \u001b[0;32mreturn\u001b[0m \u001b[0mforward_call\u001b[0m\u001b[0;34m(\u001b[0m\u001b[0;34m*\u001b[0m\u001b[0margs\u001b[0m\u001b[0;34m,\u001b[0m \u001b[0;34m**\u001b[0m\u001b[0mkwargs\u001b[0m\u001b[0;34m)\u001b[0m\u001b[0;34m\u001b[0m\u001b[0;34m\u001b[0m\u001b[0m\n\u001b[0m\u001b[1;32m   1542\u001b[0m \u001b[0;34m\u001b[0m\u001b[0m\n\u001b[1;32m   1543\u001b[0m         \u001b[0;32mtry\u001b[0m\u001b[0;34m:\u001b[0m\u001b[0;34m\u001b[0m\u001b[0;34m\u001b[0m\u001b[0m\n",
            "\u001b[0;32m/usr/local/lib/python3.10/dist-packages/torchvision/models/resnet.py\u001b[0m in \u001b[0;36mforward\u001b[0;34m(self, x)\u001b[0m\n\u001b[1;32m    283\u001b[0m \u001b[0;34m\u001b[0m\u001b[0m\n\u001b[1;32m    284\u001b[0m     \u001b[0;32mdef\u001b[0m \u001b[0mforward\u001b[0m\u001b[0;34m(\u001b[0m\u001b[0mself\u001b[0m\u001b[0;34m,\u001b[0m \u001b[0mx\u001b[0m\u001b[0;34m:\u001b[0m \u001b[0mTensor\u001b[0m\u001b[0;34m)\u001b[0m \u001b[0;34m->\u001b[0m \u001b[0mTensor\u001b[0m\u001b[0;34m:\u001b[0m\u001b[0;34m\u001b[0m\u001b[0;34m\u001b[0m\u001b[0m\n\u001b[0;32m--> 285\u001b[0;31m         \u001b[0;32mreturn\u001b[0m \u001b[0mself\u001b[0m\u001b[0;34m.\u001b[0m\u001b[0m_forward_impl\u001b[0m\u001b[0;34m(\u001b[0m\u001b[0mx\u001b[0m\u001b[0;34m)\u001b[0m\u001b[0;34m\u001b[0m\u001b[0;34m\u001b[0m\u001b[0m\n\u001b[0m\u001b[1;32m    286\u001b[0m \u001b[0;34m\u001b[0m\u001b[0m\n\u001b[1;32m    287\u001b[0m \u001b[0;34m\u001b[0m\u001b[0m\n",
            "\u001b[0;32m/usr/local/lib/python3.10/dist-packages/torchvision/models/resnet.py\u001b[0m in \u001b[0;36m_forward_impl\u001b[0;34m(self, x)\u001b[0m\n\u001b[1;32m    273\u001b[0m         \u001b[0mx\u001b[0m \u001b[0;34m=\u001b[0m \u001b[0mself\u001b[0m\u001b[0;34m.\u001b[0m\u001b[0mlayer1\u001b[0m\u001b[0;34m(\u001b[0m\u001b[0mx\u001b[0m\u001b[0;34m)\u001b[0m\u001b[0;34m\u001b[0m\u001b[0;34m\u001b[0m\u001b[0m\n\u001b[1;32m    274\u001b[0m         \u001b[0mx\u001b[0m \u001b[0;34m=\u001b[0m \u001b[0mself\u001b[0m\u001b[0;34m.\u001b[0m\u001b[0mlayer2\u001b[0m\u001b[0;34m(\u001b[0m\u001b[0mx\u001b[0m\u001b[0;34m)\u001b[0m\u001b[0;34m\u001b[0m\u001b[0;34m\u001b[0m\u001b[0m\n\u001b[0;32m--> 275\u001b[0;31m         \u001b[0mx\u001b[0m \u001b[0;34m=\u001b[0m \u001b[0mself\u001b[0m\u001b[0;34m.\u001b[0m\u001b[0mlayer3\u001b[0m\u001b[0;34m(\u001b[0m\u001b[0mx\u001b[0m\u001b[0;34m)\u001b[0m\u001b[0;34m\u001b[0m\u001b[0;34m\u001b[0m\u001b[0m\n\u001b[0m\u001b[1;32m    276\u001b[0m         \u001b[0mx\u001b[0m \u001b[0;34m=\u001b[0m \u001b[0mself\u001b[0m\u001b[0;34m.\u001b[0m\u001b[0mlayer4\u001b[0m\u001b[0;34m(\u001b[0m\u001b[0mx\u001b[0m\u001b[0;34m)\u001b[0m\u001b[0;34m\u001b[0m\u001b[0;34m\u001b[0m\u001b[0m\n\u001b[1;32m    277\u001b[0m \u001b[0;34m\u001b[0m\u001b[0m\n",
            "\u001b[0;32m/usr/local/lib/python3.10/dist-packages/torch/nn/modules/module.py\u001b[0m in \u001b[0;36m_wrapped_call_impl\u001b[0;34m(self, *args, **kwargs)\u001b[0m\n\u001b[1;32m   1530\u001b[0m             \u001b[0;32mreturn\u001b[0m \u001b[0mself\u001b[0m\u001b[0;34m.\u001b[0m\u001b[0m_compiled_call_impl\u001b[0m\u001b[0;34m(\u001b[0m\u001b[0;34m*\u001b[0m\u001b[0margs\u001b[0m\u001b[0;34m,\u001b[0m \u001b[0;34m**\u001b[0m\u001b[0mkwargs\u001b[0m\u001b[0;34m)\u001b[0m  \u001b[0;31m# type: ignore[misc]\u001b[0m\u001b[0;34m\u001b[0m\u001b[0;34m\u001b[0m\u001b[0m\n\u001b[1;32m   1531\u001b[0m         \u001b[0;32melse\u001b[0m\u001b[0;34m:\u001b[0m\u001b[0;34m\u001b[0m\u001b[0;34m\u001b[0m\u001b[0m\n\u001b[0;32m-> 1532\u001b[0;31m             \u001b[0;32mreturn\u001b[0m \u001b[0mself\u001b[0m\u001b[0;34m.\u001b[0m\u001b[0m_call_impl\u001b[0m\u001b[0;34m(\u001b[0m\u001b[0;34m*\u001b[0m\u001b[0margs\u001b[0m\u001b[0;34m,\u001b[0m \u001b[0;34m**\u001b[0m\u001b[0mkwargs\u001b[0m\u001b[0;34m)\u001b[0m\u001b[0;34m\u001b[0m\u001b[0;34m\u001b[0m\u001b[0m\n\u001b[0m\u001b[1;32m   1533\u001b[0m \u001b[0;34m\u001b[0m\u001b[0m\n\u001b[1;32m   1534\u001b[0m     \u001b[0;32mdef\u001b[0m \u001b[0m_call_impl\u001b[0m\u001b[0;34m(\u001b[0m\u001b[0mself\u001b[0m\u001b[0;34m,\u001b[0m \u001b[0;34m*\u001b[0m\u001b[0margs\u001b[0m\u001b[0;34m,\u001b[0m \u001b[0;34m**\u001b[0m\u001b[0mkwargs\u001b[0m\u001b[0;34m)\u001b[0m\u001b[0;34m:\u001b[0m\u001b[0;34m\u001b[0m\u001b[0;34m\u001b[0m\u001b[0m\n",
            "\u001b[0;32m/usr/local/lib/python3.10/dist-packages/torch/nn/modules/module.py\u001b[0m in \u001b[0;36m_call_impl\u001b[0;34m(self, *args, **kwargs)\u001b[0m\n\u001b[1;32m   1539\u001b[0m                 \u001b[0;32mor\u001b[0m \u001b[0m_global_backward_pre_hooks\u001b[0m \u001b[0;32mor\u001b[0m \u001b[0m_global_backward_hooks\u001b[0m\u001b[0;34m\u001b[0m\u001b[0;34m\u001b[0m\u001b[0m\n\u001b[1;32m   1540\u001b[0m                 or _global_forward_hooks or _global_forward_pre_hooks):\n\u001b[0;32m-> 1541\u001b[0;31m             \u001b[0;32mreturn\u001b[0m \u001b[0mforward_call\u001b[0m\u001b[0;34m(\u001b[0m\u001b[0;34m*\u001b[0m\u001b[0margs\u001b[0m\u001b[0;34m,\u001b[0m \u001b[0;34m**\u001b[0m\u001b[0mkwargs\u001b[0m\u001b[0;34m)\u001b[0m\u001b[0;34m\u001b[0m\u001b[0;34m\u001b[0m\u001b[0m\n\u001b[0m\u001b[1;32m   1542\u001b[0m \u001b[0;34m\u001b[0m\u001b[0m\n\u001b[1;32m   1543\u001b[0m         \u001b[0;32mtry\u001b[0m\u001b[0;34m:\u001b[0m\u001b[0;34m\u001b[0m\u001b[0;34m\u001b[0m\u001b[0m\n",
            "\u001b[0;32m/usr/local/lib/python3.10/dist-packages/torch/nn/modules/container.py\u001b[0m in \u001b[0;36mforward\u001b[0;34m(self, input)\u001b[0m\n\u001b[1;32m    215\u001b[0m     \u001b[0;32mdef\u001b[0m \u001b[0mforward\u001b[0m\u001b[0;34m(\u001b[0m\u001b[0mself\u001b[0m\u001b[0;34m,\u001b[0m \u001b[0minput\u001b[0m\u001b[0;34m)\u001b[0m\u001b[0;34m:\u001b[0m\u001b[0;34m\u001b[0m\u001b[0;34m\u001b[0m\u001b[0m\n\u001b[1;32m    216\u001b[0m         \u001b[0;32mfor\u001b[0m \u001b[0mmodule\u001b[0m \u001b[0;32min\u001b[0m \u001b[0mself\u001b[0m\u001b[0;34m:\u001b[0m\u001b[0;34m\u001b[0m\u001b[0;34m\u001b[0m\u001b[0m\n\u001b[0;32m--> 217\u001b[0;31m             \u001b[0minput\u001b[0m \u001b[0;34m=\u001b[0m \u001b[0mmodule\u001b[0m\u001b[0;34m(\u001b[0m\u001b[0minput\u001b[0m\u001b[0;34m)\u001b[0m\u001b[0;34m\u001b[0m\u001b[0;34m\u001b[0m\u001b[0m\n\u001b[0m\u001b[1;32m    218\u001b[0m         \u001b[0;32mreturn\u001b[0m \u001b[0minput\u001b[0m\u001b[0;34m\u001b[0m\u001b[0;34m\u001b[0m\u001b[0m\n\u001b[1;32m    219\u001b[0m \u001b[0;34m\u001b[0m\u001b[0m\n",
            "\u001b[0;32m/usr/local/lib/python3.10/dist-packages/torch/nn/modules/module.py\u001b[0m in \u001b[0;36m_wrapped_call_impl\u001b[0;34m(self, *args, **kwargs)\u001b[0m\n\u001b[1;32m   1530\u001b[0m             \u001b[0;32mreturn\u001b[0m \u001b[0mself\u001b[0m\u001b[0;34m.\u001b[0m\u001b[0m_compiled_call_impl\u001b[0m\u001b[0;34m(\u001b[0m\u001b[0;34m*\u001b[0m\u001b[0margs\u001b[0m\u001b[0;34m,\u001b[0m \u001b[0;34m**\u001b[0m\u001b[0mkwargs\u001b[0m\u001b[0;34m)\u001b[0m  \u001b[0;31m# type: ignore[misc]\u001b[0m\u001b[0;34m\u001b[0m\u001b[0;34m\u001b[0m\u001b[0m\n\u001b[1;32m   1531\u001b[0m         \u001b[0;32melse\u001b[0m\u001b[0;34m:\u001b[0m\u001b[0;34m\u001b[0m\u001b[0;34m\u001b[0m\u001b[0m\n\u001b[0;32m-> 1532\u001b[0;31m             \u001b[0;32mreturn\u001b[0m \u001b[0mself\u001b[0m\u001b[0;34m.\u001b[0m\u001b[0m_call_impl\u001b[0m\u001b[0;34m(\u001b[0m\u001b[0;34m*\u001b[0m\u001b[0margs\u001b[0m\u001b[0;34m,\u001b[0m \u001b[0;34m**\u001b[0m\u001b[0mkwargs\u001b[0m\u001b[0;34m)\u001b[0m\u001b[0;34m\u001b[0m\u001b[0;34m\u001b[0m\u001b[0m\n\u001b[0m\u001b[1;32m   1533\u001b[0m \u001b[0;34m\u001b[0m\u001b[0m\n\u001b[1;32m   1534\u001b[0m     \u001b[0;32mdef\u001b[0m \u001b[0m_call_impl\u001b[0m\u001b[0;34m(\u001b[0m\u001b[0mself\u001b[0m\u001b[0;34m,\u001b[0m \u001b[0;34m*\u001b[0m\u001b[0margs\u001b[0m\u001b[0;34m,\u001b[0m \u001b[0;34m**\u001b[0m\u001b[0mkwargs\u001b[0m\u001b[0;34m)\u001b[0m\u001b[0;34m:\u001b[0m\u001b[0;34m\u001b[0m\u001b[0;34m\u001b[0m\u001b[0m\n",
            "\u001b[0;32m/usr/local/lib/python3.10/dist-packages/torch/nn/modules/module.py\u001b[0m in \u001b[0;36m_call_impl\u001b[0;34m(self, *args, **kwargs)\u001b[0m\n\u001b[1;32m   1539\u001b[0m                 \u001b[0;32mor\u001b[0m \u001b[0m_global_backward_pre_hooks\u001b[0m \u001b[0;32mor\u001b[0m \u001b[0m_global_backward_hooks\u001b[0m\u001b[0;34m\u001b[0m\u001b[0;34m\u001b[0m\u001b[0m\n\u001b[1;32m   1540\u001b[0m                 or _global_forward_hooks or _global_forward_pre_hooks):\n\u001b[0;32m-> 1541\u001b[0;31m             \u001b[0;32mreturn\u001b[0m \u001b[0mforward_call\u001b[0m\u001b[0;34m(\u001b[0m\u001b[0;34m*\u001b[0m\u001b[0margs\u001b[0m\u001b[0;34m,\u001b[0m \u001b[0;34m**\u001b[0m\u001b[0mkwargs\u001b[0m\u001b[0;34m)\u001b[0m\u001b[0;34m\u001b[0m\u001b[0;34m\u001b[0m\u001b[0m\n\u001b[0m\u001b[1;32m   1542\u001b[0m \u001b[0;34m\u001b[0m\u001b[0m\n\u001b[1;32m   1543\u001b[0m         \u001b[0;32mtry\u001b[0m\u001b[0;34m:\u001b[0m\u001b[0;34m\u001b[0m\u001b[0;34m\u001b[0m\u001b[0m\n",
            "\u001b[0;32m/usr/local/lib/python3.10/dist-packages/torchvision/models/resnet.py\u001b[0m in \u001b[0;36mforward\u001b[0;34m(self, x)\u001b[0m\n\u001b[1;32m     90\u001b[0m         \u001b[0midentity\u001b[0m \u001b[0;34m=\u001b[0m \u001b[0mx\u001b[0m\u001b[0;34m\u001b[0m\u001b[0;34m\u001b[0m\u001b[0m\n\u001b[1;32m     91\u001b[0m \u001b[0;34m\u001b[0m\u001b[0m\n\u001b[0;32m---> 92\u001b[0;31m         \u001b[0mout\u001b[0m \u001b[0;34m=\u001b[0m \u001b[0mself\u001b[0m\u001b[0;34m.\u001b[0m\u001b[0mconv1\u001b[0m\u001b[0;34m(\u001b[0m\u001b[0mx\u001b[0m\u001b[0;34m)\u001b[0m\u001b[0;34m\u001b[0m\u001b[0;34m\u001b[0m\u001b[0m\n\u001b[0m\u001b[1;32m     93\u001b[0m         \u001b[0mout\u001b[0m \u001b[0;34m=\u001b[0m \u001b[0mself\u001b[0m\u001b[0;34m.\u001b[0m\u001b[0mbn1\u001b[0m\u001b[0;34m(\u001b[0m\u001b[0mout\u001b[0m\u001b[0;34m)\u001b[0m\u001b[0;34m\u001b[0m\u001b[0;34m\u001b[0m\u001b[0m\n\u001b[1;32m     94\u001b[0m         \u001b[0mout\u001b[0m \u001b[0;34m=\u001b[0m \u001b[0mself\u001b[0m\u001b[0;34m.\u001b[0m\u001b[0mrelu\u001b[0m\u001b[0;34m(\u001b[0m\u001b[0mout\u001b[0m\u001b[0;34m)\u001b[0m\u001b[0;34m\u001b[0m\u001b[0;34m\u001b[0m\u001b[0m\n",
            "\u001b[0;32m/usr/local/lib/python3.10/dist-packages/torch/nn/modules/module.py\u001b[0m in \u001b[0;36m_wrapped_call_impl\u001b[0;34m(self, *args, **kwargs)\u001b[0m\n\u001b[1;32m   1530\u001b[0m             \u001b[0;32mreturn\u001b[0m \u001b[0mself\u001b[0m\u001b[0;34m.\u001b[0m\u001b[0m_compiled_call_impl\u001b[0m\u001b[0;34m(\u001b[0m\u001b[0;34m*\u001b[0m\u001b[0margs\u001b[0m\u001b[0;34m,\u001b[0m \u001b[0;34m**\u001b[0m\u001b[0mkwargs\u001b[0m\u001b[0;34m)\u001b[0m  \u001b[0;31m# type: ignore[misc]\u001b[0m\u001b[0;34m\u001b[0m\u001b[0;34m\u001b[0m\u001b[0m\n\u001b[1;32m   1531\u001b[0m         \u001b[0;32melse\u001b[0m\u001b[0;34m:\u001b[0m\u001b[0;34m\u001b[0m\u001b[0;34m\u001b[0m\u001b[0m\n\u001b[0;32m-> 1532\u001b[0;31m             \u001b[0;32mreturn\u001b[0m \u001b[0mself\u001b[0m\u001b[0;34m.\u001b[0m\u001b[0m_call_impl\u001b[0m\u001b[0;34m(\u001b[0m\u001b[0;34m*\u001b[0m\u001b[0margs\u001b[0m\u001b[0;34m,\u001b[0m \u001b[0;34m**\u001b[0m\u001b[0mkwargs\u001b[0m\u001b[0;34m)\u001b[0m\u001b[0;34m\u001b[0m\u001b[0;34m\u001b[0m\u001b[0m\n\u001b[0m\u001b[1;32m   1533\u001b[0m \u001b[0;34m\u001b[0m\u001b[0m\n\u001b[1;32m   1534\u001b[0m     \u001b[0;32mdef\u001b[0m \u001b[0m_call_impl\u001b[0m\u001b[0;34m(\u001b[0m\u001b[0mself\u001b[0m\u001b[0;34m,\u001b[0m \u001b[0;34m*\u001b[0m\u001b[0margs\u001b[0m\u001b[0;34m,\u001b[0m \u001b[0;34m**\u001b[0m\u001b[0mkwargs\u001b[0m\u001b[0;34m)\u001b[0m\u001b[0;34m:\u001b[0m\u001b[0;34m\u001b[0m\u001b[0;34m\u001b[0m\u001b[0m\n",
            "\u001b[0;32m/usr/local/lib/python3.10/dist-packages/torch/nn/modules/module.py\u001b[0m in \u001b[0;36m_call_impl\u001b[0;34m(self, *args, **kwargs)\u001b[0m\n\u001b[1;32m   1539\u001b[0m                 \u001b[0;32mor\u001b[0m \u001b[0m_global_backward_pre_hooks\u001b[0m \u001b[0;32mor\u001b[0m \u001b[0m_global_backward_hooks\u001b[0m\u001b[0;34m\u001b[0m\u001b[0;34m\u001b[0m\u001b[0m\n\u001b[1;32m   1540\u001b[0m                 or _global_forward_hooks or _global_forward_pre_hooks):\n\u001b[0;32m-> 1541\u001b[0;31m             \u001b[0;32mreturn\u001b[0m \u001b[0mforward_call\u001b[0m\u001b[0;34m(\u001b[0m\u001b[0;34m*\u001b[0m\u001b[0margs\u001b[0m\u001b[0;34m,\u001b[0m \u001b[0;34m**\u001b[0m\u001b[0mkwargs\u001b[0m\u001b[0;34m)\u001b[0m\u001b[0;34m\u001b[0m\u001b[0;34m\u001b[0m\u001b[0m\n\u001b[0m\u001b[1;32m   1542\u001b[0m \u001b[0;34m\u001b[0m\u001b[0m\n\u001b[1;32m   1543\u001b[0m         \u001b[0;32mtry\u001b[0m\u001b[0;34m:\u001b[0m\u001b[0;34m\u001b[0m\u001b[0;34m\u001b[0m\u001b[0m\n",
            "\u001b[0;32m/usr/local/lib/python3.10/dist-packages/torch/nn/modules/conv.py\u001b[0m in \u001b[0;36mforward\u001b[0;34m(self, input)\u001b[0m\n\u001b[1;32m    458\u001b[0m \u001b[0;34m\u001b[0m\u001b[0m\n\u001b[1;32m    459\u001b[0m     \u001b[0;32mdef\u001b[0m \u001b[0mforward\u001b[0m\u001b[0;34m(\u001b[0m\u001b[0mself\u001b[0m\u001b[0;34m,\u001b[0m \u001b[0minput\u001b[0m\u001b[0;34m:\u001b[0m \u001b[0mTensor\u001b[0m\u001b[0;34m)\u001b[0m \u001b[0;34m->\u001b[0m \u001b[0mTensor\u001b[0m\u001b[0;34m:\u001b[0m\u001b[0;34m\u001b[0m\u001b[0;34m\u001b[0m\u001b[0m\n\u001b[0;32m--> 460\u001b[0;31m         \u001b[0;32mreturn\u001b[0m \u001b[0mself\u001b[0m\u001b[0;34m.\u001b[0m\u001b[0m_conv_forward\u001b[0m\u001b[0;34m(\u001b[0m\u001b[0minput\u001b[0m\u001b[0;34m,\u001b[0m \u001b[0mself\u001b[0m\u001b[0;34m.\u001b[0m\u001b[0mweight\u001b[0m\u001b[0;34m,\u001b[0m \u001b[0mself\u001b[0m\u001b[0;34m.\u001b[0m\u001b[0mbias\u001b[0m\u001b[0;34m)\u001b[0m\u001b[0;34m\u001b[0m\u001b[0;34m\u001b[0m\u001b[0m\n\u001b[0m\u001b[1;32m    461\u001b[0m \u001b[0;34m\u001b[0m\u001b[0m\n\u001b[1;32m    462\u001b[0m \u001b[0;32mclass\u001b[0m \u001b[0mConv3d\u001b[0m\u001b[0;34m(\u001b[0m\u001b[0m_ConvNd\u001b[0m\u001b[0;34m)\u001b[0m\u001b[0;34m:\u001b[0m\u001b[0;34m\u001b[0m\u001b[0;34m\u001b[0m\u001b[0m\n",
            "\u001b[0;32m/usr/local/lib/python3.10/dist-packages/torch/nn/modules/conv.py\u001b[0m in \u001b[0;36m_conv_forward\u001b[0;34m(self, input, weight, bias)\u001b[0m\n\u001b[1;32m    454\u001b[0m                             \u001b[0mweight\u001b[0m\u001b[0;34m,\u001b[0m \u001b[0mbias\u001b[0m\u001b[0;34m,\u001b[0m \u001b[0mself\u001b[0m\u001b[0;34m.\u001b[0m\u001b[0mstride\u001b[0m\u001b[0;34m,\u001b[0m\u001b[0;34m\u001b[0m\u001b[0;34m\u001b[0m\u001b[0m\n\u001b[1;32m    455\u001b[0m                             _pair(0), self.dilation, self.groups)\n\u001b[0;32m--> 456\u001b[0;31m         return F.conv2d(input, weight, bias, self.stride,\n\u001b[0m\u001b[1;32m    457\u001b[0m                         self.padding, self.dilation, self.groups)\n\u001b[1;32m    458\u001b[0m \u001b[0;34m\u001b[0m\u001b[0m\n",
            "\u001b[0;31mKeyboardInterrupt\u001b[0m: "
          ]
        }
      ],
      "source": [
        "num_classes = 37\n",
        "# create the model\n",
        "model = models.resnet34(weights='DEFAULT')\n",
        "\n",
        "# load data\n",
        "train_data, val_data, test_data = load_data(train_transform=resnet34_preprocess, val_transform=resnet34_preprocess)\n",
        "\n",
        "# dataloaders\n",
        "train_dataloader = DataLoader(train_data, batch_size=32, shuffle=True, num_workers=2)\n",
        "val_dataloader = DataLoader(val_data, batch_size=32, shuffle=False, num_workers=2)\n",
        "test_dataloader = DataLoader(test_data, batch_size=32, shuffle=False, num_workers=2)\n",
        "\n",
        "# Change the output layer\n",
        "in_features = model.fc.in_features\n",
        "#model.fc = torch.nn.Linear(in_features=in_features, out_features=num_classes, bias=True)\n",
        "model.fc = nn.Linear(in_features, num_classes, bias=True)\n",
        "\n",
        "# freeze all layers\n",
        "for param in model.parameters():\n",
        "    param.requires_grad = False\n",
        "\n",
        "# unfreeze fc\n",
        "for param in model.fc.parameters():\n",
        "    param.requires_grad = True\n",
        "\n",
        "# train the model\n",
        "_epochs = 100\n",
        "batch_size = 32\n",
        "\n",
        "optimizer = torch.optim.Adam(model.parameters(), lr=1e-3, weight_decay=1e-4)\n",
        "\n",
        "scheduler = None\n",
        "\n",
        "results = train_model(model, nn.CrossEntropyLoss(), optimizer, train_dataloader, val_dataloader, epochs=_epochs, device=device, scheduler=scheduler)\n",
        "# plot results\n",
        "create_graphs(results, 'extension_graphs/resnet_34baseline')\n",
        "print(f\"Best achieved validation loss: {min([res['validation_loss'] for res in results['val_res']])}\")"
      ]
    },
    {
      "cell_type": "code",
      "execution_count": null,
      "metadata": {
        "id": "-6EeiNLQL5FU"
      },
      "outputs": [],
      "source": [
        "base34 = results\n",
        "# load best loss model\n",
        "model.load_state_dict(torch.load('best_model_loss.pth'))\n",
        "# save model\n",
        "torch.save(model.state_dict(), 'resnet34_baseline.pth')"
      ]
    },
    {
      "cell_type": "markdown",
      "metadata": {
        "id": "7LITVZDBL5FU"
      },
      "source": [
        "### Deeper networks"
      ]
    },
    {
      "cell_type": "markdown",
      "metadata": {
        "id": "RGxbj12yL5FU"
      },
      "source": [
        "First we create the baseline but train with a deeper network"
      ]
    },
    {
      "cell_type": "code",
      "execution_count": null,
      "metadata": {
        "id": "o0LQVWGWL5FU"
      },
      "outputs": [],
      "source": [
        "num_classes = 37\n",
        "# create the model\n",
        "model = models.resnet152(weights='DEFAULT')\n",
        "\n",
        "# load data\n",
        "train_data, val_data, test_data = load_data(train_transform=resnet152_preprocess, val_transform=resnet152_preprocess)\n",
        "\n",
        "# dataloaders\n",
        "train_dataloader = DataLoader(train_data, batch_size=32, shuffle=True, num_workers=2)\n",
        "val_dataloader = DataLoader(val_data, batch_size=32, shuffle=False, num_workers=2)\n",
        "test_dataloader = DataLoader(test_data, batch_size=32, shuffle=False, num_workers=2)\n",
        "\n",
        "# Change the output layer\n",
        "in_features = model.fc.in_features\n",
        "#model.fc = torch.nn.Linear(in_features=in_features, out_features=num_classes, bias=True)\n",
        "model.fc = nn.Linear(in_features, num_classes, bias=True)\n",
        "\n",
        "# freeze all layers\n",
        "for param in model.parameters():\n",
        "    param.requires_grad = False\n",
        "\n",
        "# unfreeze fc\n",
        "for param in model.fc.parameters():\n",
        "    param.requires_grad = True\n",
        "\n",
        "# train the model\n",
        "_epochs = 100\n",
        "batch_size = 32\n",
        "\n",
        "optimizer = torch.optim.Adam(model.parameters(), lr=1e-3, weight_decay=1e-4)\n",
        "\n",
        "scheduler = None\n",
        "\n",
        "results = train_model(model, nn.CrossEntropyLoss(), optimizer, train_dataloader, val_dataloader, epochs=_epochs, device=device, scheduler=scheduler)\n",
        "# plot results\n",
        "create_graphs(results, 'extension_graphs/resnet_152baseline')\n",
        "# print best achieved validation loss\n",
        "print(f\"Best achieved validation loss: {min([res['validation_loss'] for res in results['val_res']])}\")"
      ]
    },
    {
      "cell_type": "code",
      "execution_count": null,
      "metadata": {
        "id": "dhPdBtY4L5FU"
      },
      "outputs": [],
      "source": [
        "base152 = results\n",
        "# load best loss model\n",
        "model.load_state_dict(torch.load('best_model_loss.pth'))\n",
        "# save model\n",
        "torch.save(model.state_dict(), 'resnet152_baseline.pth')"
      ]
    },
    {
      "cell_type": "markdown",
      "metadata": {
        "id": "A6dWup89L5FU"
      },
      "source": [
        "# Extension 2: More sophisticated data augmentation"
      ]
    },
    {
      "cell_type": "markdown",
      "metadata": {
        "id": "Gv_JNoLdL5FU"
      },
      "source": [
        "## first we create the different transformations"
      ]
    },
    {
      "cell_type": "code",
      "execution_count": 13,
      "metadata": {
        "id": "KfV3FiouL5FV"
      },
      "outputs": [],
      "source": [
        "def no_transforms():\n",
        "    \"\"\"Returns regular resnet34 preprocess\"\"\"\n",
        "    return resnet34_preprocess\n",
        "\n",
        "def randAug():\n",
        "    return v2.Compose([\n",
        "        resnet34_preprocess,\n",
        "        v2.RandAugment()\n",
        "    ])"
      ]
    },
    {
      "cell_type": "markdown",
      "metadata": {
        "id": "cyTKGm9wL5FV"
      },
      "source": [
        "## And a function for the basic resnet network + data"
      ]
    },
    {
      "cell_type": "code",
      "execution_count": 34,
      "metadata": {
        "id": "0mee9vqyL5FV"
      },
      "outputs": [],
      "source": [
        "def data_aug_extension(model=None, data=None, data_aug=None, optimizer=None, scheduler=None, **kwargs):\n",
        "    \"\"\"\n",
        "    data_aug = 'DEFAULT', 'RAND_AUG', 'CUTMIX', 'MIXUP', 'RANDOM'\n",
        "    \"\"\"\n",
        "    if model is None:\n",
        "        # define the model\n",
        "        model = models.resnet34(weights='DEFAULT')\n",
        "        num_classes = 37\n",
        "        # Change the output layer\n",
        "        in_features = model.fc.in_features\n",
        "        #model.fc = torch.nn.Linear(in_features=in_features, out_features=num_classes, bias=True)\n",
        "        model.fc = nn.Linear(in_features, num_classes, bias=True)\n",
        "\n",
        "            # freeze all layers\n",
        "        for param in model.parameters():\n",
        "            param.requires_grad = False\n",
        "\n",
        "        # unfreeze fc\n",
        "        for param in model.fc.parameters():\n",
        "            param.requires_grad = True\n",
        "\n",
        "\n",
        "    if data is None:\n",
        "        if data_aug == 'RAND_AUG':\n",
        "            train_transform = randAug()\n",
        "        else:\n",
        "            train_transform = no_transforms()\n",
        "        # load data\n",
        "        train_data, val_data, test_data = load_data(train_transform=train_transform, val_transform=resnet34_preprocess)\n",
        "\n",
        "        # dataloaders\n",
        "        train_dataloader = DataLoader(train_data, batch_size=32, shuffle=True, num_workers=2)\n",
        "        val_dataloader = DataLoader(val_data, batch_size=32, shuffle=False, num_workers=2)\n",
        "        test_dataloader = DataLoader(test_data, batch_size=32, shuffle=False, num_workers=2)\n",
        "\n",
        "    if data_aug is None or data_aug == 'RAND_AUG':\n",
        "        data_aug = 'DEFAULT'\n",
        "\n",
        "    # train the model\n",
        "    _epochs = 25\n",
        "    batch_size = 32\n",
        "    if optimizer is None:\n",
        "        optimizer = torch.optim.Adam(model.parameters(), lr=1e-3, weight_decay=1e-4)\n",
        "\n",
        "    if scheduler is None:\n",
        "      scheduler = None\n",
        "\n",
        "    results = train_model(model, nn.CrossEntropyLoss(), optimizer, train_dataloader, val_dataloader, epochs=_epochs, device=device, scheduler=scheduler, data_aug=data_aug, **kwargs)\n",
        "    # plot results\n",
        "\n",
        "    print(f\"Best achieved validation loss: {min([res['validation_loss'] for res in results['val_res']])}\")\n",
        "    return results"
      ]
    },
    {
      "cell_type": "markdown",
      "metadata": {
        "id": "Df6vhighL5FV"
      },
      "source": [
        "### Baseline is basic resnet34"
      ]
    },
    {
      "cell_type": "code",
      "execution_count": null,
      "metadata": {
        "id": "H508gVNxL5FV"
      },
      "outputs": [],
      "source": [
        "# plot graph of baseline\n",
        "create_graphs(base34, 'extension_graphs/resnet_34baseline')"
      ]
    },
    {
      "cell_type": "markdown",
      "metadata": {
        "id": "iy_sOY9AL5FV"
      },
      "source": [
        "### Lets try training from the ground up using the different extensions"
      ]
    },
    {
      "cell_type": "markdown",
      "metadata": {
        "id": "ypm5iJwVL5FV"
      },
      "source": [
        "First we define a model to be able to save"
      ]
    },
    {
      "cell_type": "code",
      "execution_count": 42,
      "metadata": {
        "id": "FU0ruPr4L5FW"
      },
      "outputs": [],
      "source": [
        "model = models.resnet34(weights='DEFAULT')\n",
        "num_classes = 37\n",
        "# Change the output layer\n",
        "in_features = model.fc.in_features\n",
        "#model.fc = torch.nn.Linear(in_features=in_features, out_features=num_classes, bias=True)\n",
        "model.fc = nn.Linear(in_features, num_classes, bias=True)\n",
        "\n",
        "    # freeze all layers\n",
        "for param in model.parameters():\n",
        "    param.requires_grad = False\n",
        "\n",
        "# unfreeze fc\n",
        "for param in model.fc.parameters():\n",
        "    param.requires_grad = True"
      ]
    },
    {
      "cell_type": "code",
      "execution_count": 17,
      "metadata": {
        "colab": {
          "base_uri": "https://localhost:8080/",
          "height": 1000
        },
        "id": "m4E1q3jeL5FW",
        "outputId": "c9f4a4ec-ebe5-4a64-e1c0-52119b29e084"
      },
      "outputs": [
        {
          "output_type": "stream",
          "name": "stdout",
          "text": [
            "Epoch 1\n",
            "-------------------------------\n"
          ]
        },
        {
          "output_type": "stream",
          "name": "stderr",
          "text": [
            "loss: 2.609129  Batch:[   91/   92]: 100%|██████████| 92/92 [00:20<00:00,  4.41it/s]\n"
          ]
        },
        {
          "output_type": "stream",
          "name": "stdout",
          "text": [
            "Validation Error: \n",
            " Accuracy: 77.2%, Avg loss: 1.239860 \n",
            "\n",
            "Epoch 2\n",
            "-------------------------------\n"
          ]
        },
        {
          "output_type": "stream",
          "name": "stderr",
          "text": [
            "loss: 0.951876  Batch:[   91/   92]: 100%|██████████| 92/92 [00:20<00:00,  4.40it/s]\n"
          ]
        },
        {
          "output_type": "stream",
          "name": "stdout",
          "text": [
            "Validation Error: \n",
            " Accuracy: 85.5%, Avg loss: 0.738240 \n",
            "\n",
            "Epoch 3\n",
            "-------------------------------\n"
          ]
        },
        {
          "output_type": "stream",
          "name": "stderr",
          "text": [
            "loss: 2.049075  Batch:[   91/   92]: 100%|██████████| 92/92 [00:21<00:00,  4.20it/s]\n"
          ]
        },
        {
          "output_type": "stream",
          "name": "stdout",
          "text": [
            "Validation Error: \n",
            " Accuracy: 89.3%, Avg loss: 0.611272 \n",
            "\n",
            "Epoch 4\n",
            "-------------------------------\n"
          ]
        },
        {
          "output_type": "stream",
          "name": "stderr",
          "text": [
            "loss: 1.201915  Batch:[   91/   92]: 100%|██████████| 92/92 [00:20<00:00,  4.40it/s]\n"
          ]
        },
        {
          "output_type": "stream",
          "name": "stdout",
          "text": [
            "Validation Error: \n",
            " Accuracy: 89.0%, Avg loss: 0.548461 \n",
            "\n",
            "Epoch 5\n",
            "-------------------------------\n"
          ]
        },
        {
          "output_type": "stream",
          "name": "stderr",
          "text": [
            "loss: 1.885182  Batch:[   91/   92]: 100%|██████████| 92/92 [00:20<00:00,  4.44it/s]\n"
          ]
        },
        {
          "output_type": "stream",
          "name": "stdout",
          "text": [
            "Validation Error: \n",
            " Accuracy: 87.6%, Avg loss: 0.511811 \n",
            "\n",
            "Epoch 6\n",
            "-------------------------------\n"
          ]
        },
        {
          "output_type": "stream",
          "name": "stderr",
          "text": [
            "loss: 2.246099  Batch:[   91/   92]: 100%|██████████| 92/92 [00:20<00:00,  4.38it/s]\n"
          ]
        },
        {
          "output_type": "stream",
          "name": "stdout",
          "text": [
            "Validation Error: \n",
            " Accuracy: 90.4%, Avg loss: 0.474374 \n",
            "\n",
            "Epoch 7\n",
            "-------------------------------\n"
          ]
        },
        {
          "output_type": "stream",
          "name": "stderr",
          "text": [
            "loss: 1.214596  Batch:[   91/   92]: 100%|██████████| 92/92 [00:22<00:00,  4.14it/s]\n"
          ]
        },
        {
          "output_type": "stream",
          "name": "stdout",
          "text": [
            "Validation Error: \n",
            " Accuracy: 88.6%, Avg loss: 0.480447 \n",
            "\n",
            "Epoch 8\n",
            "-------------------------------\n"
          ]
        },
        {
          "output_type": "stream",
          "name": "stderr",
          "text": [
            "loss: 1.531727  Batch:[   91/   92]: 100%|██████████| 92/92 [00:22<00:00,  4.05it/s]\n"
          ]
        },
        {
          "output_type": "stream",
          "name": "stdout",
          "text": [
            "Validation Error: \n",
            " Accuracy: 91.2%, Avg loss: 0.447855 \n",
            "\n",
            "Epoch 9\n",
            "-------------------------------\n"
          ]
        },
        {
          "output_type": "stream",
          "name": "stderr",
          "text": [
            "loss: 1.342278  Batch:[   91/   92]: 100%|██████████| 92/92 [00:22<00:00,  4.10it/s]\n"
          ]
        },
        {
          "output_type": "stream",
          "name": "stdout",
          "text": [
            "Validation Error: \n",
            " Accuracy: 90.8%, Avg loss: 0.460094 \n",
            "\n",
            "Epoch 10\n",
            "-------------------------------\n"
          ]
        },
        {
          "output_type": "stream",
          "name": "stderr",
          "text": [
            "loss: 2.183399  Batch:[   91/   92]: 100%|██████████| 92/92 [00:20<00:00,  4.39it/s]\n"
          ]
        },
        {
          "output_type": "stream",
          "name": "stdout",
          "text": [
            "Validation Error: \n",
            " Accuracy: 90.4%, Avg loss: 0.434586 \n",
            "\n",
            "Epoch 11\n",
            "-------------------------------\n"
          ]
        },
        {
          "output_type": "stream",
          "name": "stderr",
          "text": [
            "loss: 2.111687  Batch:[   91/   92]: 100%|██████████| 92/92 [00:20<00:00,  4.46it/s]\n"
          ]
        },
        {
          "output_type": "stream",
          "name": "stdout",
          "text": [
            "Validation Error: \n",
            " Accuracy: 91.2%, Avg loss: 0.427944 \n",
            "\n",
            "Epoch 12\n",
            "-------------------------------\n"
          ]
        },
        {
          "output_type": "stream",
          "name": "stderr",
          "text": [
            "loss: 1.985111  Batch:[   91/   92]: 100%|██████████| 92/92 [00:20<00:00,  4.42it/s]\n"
          ]
        },
        {
          "output_type": "stream",
          "name": "stdout",
          "text": [
            "Validation Error: \n",
            " Accuracy: 90.8%, Avg loss: 0.449631 \n",
            "\n",
            "Epoch 13\n",
            "-------------------------------\n"
          ]
        },
        {
          "output_type": "stream",
          "name": "stderr",
          "text": [
            "loss: 2.199624  Batch:[   91/   92]: 100%|██████████| 92/92 [00:29<00:00,  3.12it/s]\n"
          ]
        },
        {
          "output_type": "stream",
          "name": "stdout",
          "text": [
            "Validation Error: \n",
            " Accuracy: 90.5%, Avg loss: 0.443959 \n",
            "\n",
            "Epoch 14\n",
            "-------------------------------\n"
          ]
        },
        {
          "output_type": "stream",
          "name": "stderr",
          "text": [
            "loss: 2.008316  Batch:[   91/   92]: 100%|██████████| 92/92 [00:26<00:00,  3.52it/s]\n"
          ]
        },
        {
          "output_type": "stream",
          "name": "stdout",
          "text": [
            "Validation Error: \n",
            " Accuracy: 91.2%, Avg loss: 0.444900 \n",
            "\n",
            "Epoch 15\n",
            "-------------------------------\n"
          ]
        },
        {
          "output_type": "stream",
          "name": "stderr",
          "text": [
            "loss: 1.603011  Batch:[   91/   92]: 100%|██████████| 92/92 [00:23<00:00,  3.88it/s]\n"
          ]
        },
        {
          "output_type": "stream",
          "name": "stdout",
          "text": [
            "Validation Error: \n",
            " Accuracy: 89.8%, Avg loss: 0.455206 \n",
            "\n",
            "Epoch 16\n",
            "-------------------------------\n"
          ]
        },
        {
          "output_type": "stream",
          "name": "stderr",
          "text": [
            "loss: 2.090805  Batch:[   91/   92]: 100%|██████████| 92/92 [00:22<00:00,  4.09it/s]\n"
          ]
        },
        {
          "output_type": "stream",
          "name": "stdout",
          "text": [
            "Validation Error: \n",
            " Accuracy: 90.9%, Avg loss: 0.429561 \n",
            "\n",
            "Early stopping!\n",
            "Training done!\n",
            "Best achieved validation loss: 0.4279436883719071\n"
          ]
        },
        {
          "output_type": "error",
          "ename": "FileNotFoundError",
          "evalue": "[Errno 2] No such file or directory: 'extension_graphs/resnet_34cutmix.png'",
          "traceback": [
            "\u001b[0;31m---------------------------------------------------------------------------\u001b[0m",
            "\u001b[0;31mFileNotFoundError\u001b[0m                         Traceback (most recent call last)",
            "\u001b[0;32m<ipython-input-17-5919c31ee111>\u001b[0m in \u001b[0;36m<cell line: 2>\u001b[0;34m()\u001b[0m\n\u001b[1;32m      1\u001b[0m \u001b[0mcutmixres\u001b[0m \u001b[0;34m=\u001b[0m \u001b[0mdata_aug_extension\u001b[0m\u001b[0;34m(\u001b[0m\u001b[0mdata_aug\u001b[0m\u001b[0;34m=\u001b[0m\u001b[0;34m'CUTMIX'\u001b[0m\u001b[0;34m)\u001b[0m\u001b[0;34m\u001b[0m\u001b[0;34m\u001b[0m\u001b[0m\n\u001b[0;32m----> 2\u001b[0;31m \u001b[0mcreate_graphs\u001b[0m\u001b[0;34m(\u001b[0m\u001b[0mcutmixres\u001b[0m\u001b[0;34m,\u001b[0m \u001b[0;34m'extension_graphs/resnet_34cutmix'\u001b[0m\u001b[0;34m)\u001b[0m\u001b[0;34m\u001b[0m\u001b[0;34m\u001b[0m\u001b[0m\n\u001b[0m\u001b[1;32m      3\u001b[0m \u001b[0mprint\u001b[0m\u001b[0;34m(\u001b[0m\u001b[0;34mf\"Best achieved validation loss: {min([res['validation_loss'] for res in cutmixres['val_res']])}\"\u001b[0m\u001b[0;34m)\u001b[0m\u001b[0;34m\u001b[0m\u001b[0;34m\u001b[0m\u001b[0m\n",
            "\u001b[0;32m<ipython-input-10-917573060648>\u001b[0m in \u001b[0;36mcreate_graphs\u001b[0;34m(results, filename)\u001b[0m\n\u001b[1;32m     26\u001b[0m     \u001b[0max\u001b[0m\u001b[0;34m[\u001b[0m\u001b[0;36m1\u001b[0m\u001b[0;34m]\u001b[0m\u001b[0;34m.\u001b[0m\u001b[0mset_xlabel\u001b[0m\u001b[0;34m(\u001b[0m\u001b[0;34m'Epochs'\u001b[0m\u001b[0;34m)\u001b[0m\u001b[0;34m\u001b[0m\u001b[0;34m\u001b[0m\u001b[0m\n\u001b[1;32m     27\u001b[0m \u001b[0;34m\u001b[0m\u001b[0m\n\u001b[0;32m---> 28\u001b[0;31m     \u001b[0mplt\u001b[0m\u001b[0;34m.\u001b[0m\u001b[0msavefig\u001b[0m\u001b[0;34m(\u001b[0m\u001b[0mfilename\u001b[0m\u001b[0;34m)\u001b[0m\u001b[0;34m\u001b[0m\u001b[0;34m\u001b[0m\u001b[0m\n\u001b[0m",
            "\u001b[0;32m/usr/local/lib/python3.10/dist-packages/matplotlib/pyplot.py\u001b[0m in \u001b[0;36msavefig\u001b[0;34m(*args, **kwargs)\u001b[0m\n\u001b[1;32m   1021\u001b[0m \u001b[0;32mdef\u001b[0m \u001b[0msavefig\u001b[0m\u001b[0;34m(\u001b[0m\u001b[0;34m*\u001b[0m\u001b[0margs\u001b[0m\u001b[0;34m,\u001b[0m \u001b[0;34m**\u001b[0m\u001b[0mkwargs\u001b[0m\u001b[0;34m)\u001b[0m\u001b[0;34m:\u001b[0m\u001b[0;34m\u001b[0m\u001b[0;34m\u001b[0m\u001b[0m\n\u001b[1;32m   1022\u001b[0m     \u001b[0mfig\u001b[0m \u001b[0;34m=\u001b[0m \u001b[0mgcf\u001b[0m\u001b[0;34m(\u001b[0m\u001b[0;34m)\u001b[0m\u001b[0;34m\u001b[0m\u001b[0;34m\u001b[0m\u001b[0m\n\u001b[0;32m-> 1023\u001b[0;31m     \u001b[0mres\u001b[0m \u001b[0;34m=\u001b[0m \u001b[0mfig\u001b[0m\u001b[0;34m.\u001b[0m\u001b[0msavefig\u001b[0m\u001b[0;34m(\u001b[0m\u001b[0;34m*\u001b[0m\u001b[0margs\u001b[0m\u001b[0;34m,\u001b[0m \u001b[0;34m**\u001b[0m\u001b[0mkwargs\u001b[0m\u001b[0;34m)\u001b[0m\u001b[0;34m\u001b[0m\u001b[0;34m\u001b[0m\u001b[0m\n\u001b[0m\u001b[1;32m   1024\u001b[0m     \u001b[0mfig\u001b[0m\u001b[0;34m.\u001b[0m\u001b[0mcanvas\u001b[0m\u001b[0;34m.\u001b[0m\u001b[0mdraw_idle\u001b[0m\u001b[0;34m(\u001b[0m\u001b[0;34m)\u001b[0m  \u001b[0;31m# Need this if 'transparent=True', to reset colors.\u001b[0m\u001b[0;34m\u001b[0m\u001b[0;34m\u001b[0m\u001b[0m\n\u001b[1;32m   1025\u001b[0m     \u001b[0;32mreturn\u001b[0m \u001b[0mres\u001b[0m\u001b[0;34m\u001b[0m\u001b[0;34m\u001b[0m\u001b[0m\n",
            "\u001b[0;32m/usr/local/lib/python3.10/dist-packages/matplotlib/figure.py\u001b[0m in \u001b[0;36msavefig\u001b[0;34m(self, fname, transparent, **kwargs)\u001b[0m\n\u001b[1;32m   3341\u001b[0m                         ax.patch._cm_set(facecolor='none', edgecolor='none'))\n\u001b[1;32m   3342\u001b[0m \u001b[0;34m\u001b[0m\u001b[0m\n\u001b[0;32m-> 3343\u001b[0;31m             \u001b[0mself\u001b[0m\u001b[0;34m.\u001b[0m\u001b[0mcanvas\u001b[0m\u001b[0;34m.\u001b[0m\u001b[0mprint_figure\u001b[0m\u001b[0;34m(\u001b[0m\u001b[0mfname\u001b[0m\u001b[0;34m,\u001b[0m \u001b[0;34m**\u001b[0m\u001b[0mkwargs\u001b[0m\u001b[0;34m)\u001b[0m\u001b[0;34m\u001b[0m\u001b[0;34m\u001b[0m\u001b[0m\n\u001b[0m\u001b[1;32m   3344\u001b[0m \u001b[0;34m\u001b[0m\u001b[0m\n\u001b[1;32m   3345\u001b[0m     def ginput(self, n=1, timeout=30, show_clicks=True,\n",
            "\u001b[0;32m/usr/local/lib/python3.10/dist-packages/matplotlib/backend_bases.py\u001b[0m in \u001b[0;36mprint_figure\u001b[0;34m(self, filename, dpi, facecolor, edgecolor, orientation, format, bbox_inches, pad_inches, bbox_extra_artists, backend, **kwargs)\u001b[0m\n\u001b[1;32m   2364\u001b[0m                 \u001b[0;31m# force the figure dpi to 72), so we need to set it again here.\u001b[0m\u001b[0;34m\u001b[0m\u001b[0;34m\u001b[0m\u001b[0m\n\u001b[1;32m   2365\u001b[0m                 \u001b[0;32mwith\u001b[0m \u001b[0mcbook\u001b[0m\u001b[0;34m.\u001b[0m\u001b[0m_setattr_cm\u001b[0m\u001b[0;34m(\u001b[0m\u001b[0mself\u001b[0m\u001b[0;34m.\u001b[0m\u001b[0mfigure\u001b[0m\u001b[0;34m,\u001b[0m \u001b[0mdpi\u001b[0m\u001b[0;34m=\u001b[0m\u001b[0mdpi\u001b[0m\u001b[0;34m)\u001b[0m\u001b[0;34m:\u001b[0m\u001b[0;34m\u001b[0m\u001b[0;34m\u001b[0m\u001b[0m\n\u001b[0;32m-> 2366\u001b[0;31m                     result = print_method(\n\u001b[0m\u001b[1;32m   2367\u001b[0m                         \u001b[0mfilename\u001b[0m\u001b[0;34m,\u001b[0m\u001b[0;34m\u001b[0m\u001b[0;34m\u001b[0m\u001b[0m\n\u001b[1;32m   2368\u001b[0m                         \u001b[0mfacecolor\u001b[0m\u001b[0;34m=\u001b[0m\u001b[0mfacecolor\u001b[0m\u001b[0;34m,\u001b[0m\u001b[0;34m\u001b[0m\u001b[0;34m\u001b[0m\u001b[0m\n",
            "\u001b[0;32m/usr/local/lib/python3.10/dist-packages/matplotlib/backend_bases.py\u001b[0m in \u001b[0;36m<lambda>\u001b[0;34m(*args, **kwargs)\u001b[0m\n\u001b[1;32m   2230\u001b[0m                 \"bbox_inches_restore\"}\n\u001b[1;32m   2231\u001b[0m             \u001b[0mskip\u001b[0m \u001b[0;34m=\u001b[0m \u001b[0moptional_kws\u001b[0m \u001b[0;34m-\u001b[0m \u001b[0;34m{\u001b[0m\u001b[0;34m*\u001b[0m\u001b[0minspect\u001b[0m\u001b[0;34m.\u001b[0m\u001b[0msignature\u001b[0m\u001b[0;34m(\u001b[0m\u001b[0mmeth\u001b[0m\u001b[0;34m)\u001b[0m\u001b[0;34m.\u001b[0m\u001b[0mparameters\u001b[0m\u001b[0;34m}\u001b[0m\u001b[0;34m\u001b[0m\u001b[0;34m\u001b[0m\u001b[0m\n\u001b[0;32m-> 2232\u001b[0;31m             print_method = functools.wraps(meth)(lambda *args, **kwargs: meth(\n\u001b[0m\u001b[1;32m   2233\u001b[0m                 *args, **{k: v for k, v in kwargs.items() if k not in skip}))\n\u001b[1;32m   2234\u001b[0m         \u001b[0;32melse\u001b[0m\u001b[0;34m:\u001b[0m  \u001b[0;31m# Let third-parties do as they see fit.\u001b[0m\u001b[0;34m\u001b[0m\u001b[0;34m\u001b[0m\u001b[0m\n",
            "\u001b[0;32m/usr/local/lib/python3.10/dist-packages/matplotlib/backends/backend_agg.py\u001b[0m in \u001b[0;36mprint_png\u001b[0;34m(self, filename_or_obj, metadata, pil_kwargs)\u001b[0m\n\u001b[1;32m    507\u001b[0m             \u001b[0;34m*\u001b[0m\u001b[0mmetadata\u001b[0m\u001b[0;34m*\u001b[0m\u001b[0;34m,\u001b[0m \u001b[0mincluding\u001b[0m \u001b[0mthe\u001b[0m \u001b[0mdefault\u001b[0m \u001b[0;34m'Software'\u001b[0m \u001b[0mkey\u001b[0m\u001b[0;34m.\u001b[0m\u001b[0;34m\u001b[0m\u001b[0;34m\u001b[0m\u001b[0m\n\u001b[1;32m    508\u001b[0m         \"\"\"\n\u001b[0;32m--> 509\u001b[0;31m         \u001b[0mself\u001b[0m\u001b[0;34m.\u001b[0m\u001b[0m_print_pil\u001b[0m\u001b[0;34m(\u001b[0m\u001b[0mfilename_or_obj\u001b[0m\u001b[0;34m,\u001b[0m \u001b[0;34m\"png\"\u001b[0m\u001b[0;34m,\u001b[0m \u001b[0mpil_kwargs\u001b[0m\u001b[0;34m,\u001b[0m \u001b[0mmetadata\u001b[0m\u001b[0;34m)\u001b[0m\u001b[0;34m\u001b[0m\u001b[0;34m\u001b[0m\u001b[0m\n\u001b[0m\u001b[1;32m    510\u001b[0m \u001b[0;34m\u001b[0m\u001b[0m\n\u001b[1;32m    511\u001b[0m     \u001b[0;32mdef\u001b[0m \u001b[0mprint_to_buffer\u001b[0m\u001b[0;34m(\u001b[0m\u001b[0mself\u001b[0m\u001b[0;34m)\u001b[0m\u001b[0;34m:\u001b[0m\u001b[0;34m\u001b[0m\u001b[0;34m\u001b[0m\u001b[0m\n",
            "\u001b[0;32m/usr/local/lib/python3.10/dist-packages/matplotlib/backends/backend_agg.py\u001b[0m in \u001b[0;36m_print_pil\u001b[0;34m(self, filename_or_obj, fmt, pil_kwargs, metadata)\u001b[0m\n\u001b[1;32m    456\u001b[0m         \"\"\"\n\u001b[1;32m    457\u001b[0m         \u001b[0mFigureCanvasAgg\u001b[0m\u001b[0;34m.\u001b[0m\u001b[0mdraw\u001b[0m\u001b[0;34m(\u001b[0m\u001b[0mself\u001b[0m\u001b[0;34m)\u001b[0m\u001b[0;34m\u001b[0m\u001b[0;34m\u001b[0m\u001b[0m\n\u001b[0;32m--> 458\u001b[0;31m         mpl.image.imsave(\n\u001b[0m\u001b[1;32m    459\u001b[0m             \u001b[0mfilename_or_obj\u001b[0m\u001b[0;34m,\u001b[0m \u001b[0mself\u001b[0m\u001b[0;34m.\u001b[0m\u001b[0mbuffer_rgba\u001b[0m\u001b[0;34m(\u001b[0m\u001b[0;34m)\u001b[0m\u001b[0;34m,\u001b[0m \u001b[0mformat\u001b[0m\u001b[0;34m=\u001b[0m\u001b[0mfmt\u001b[0m\u001b[0;34m,\u001b[0m \u001b[0morigin\u001b[0m\u001b[0;34m=\u001b[0m\u001b[0;34m\"upper\"\u001b[0m\u001b[0;34m,\u001b[0m\u001b[0;34m\u001b[0m\u001b[0;34m\u001b[0m\u001b[0m\n\u001b[1;32m    460\u001b[0m             dpi=self.figure.dpi, metadata=metadata, pil_kwargs=pil_kwargs)\n",
            "\u001b[0;32m/usr/local/lib/python3.10/dist-packages/matplotlib/image.py\u001b[0m in \u001b[0;36mimsave\u001b[0;34m(fname, arr, vmin, vmax, cmap, format, origin, dpi, metadata, pil_kwargs)\u001b[0m\n\u001b[1;32m   1687\u001b[0m         \u001b[0mpil_kwargs\u001b[0m\u001b[0;34m.\u001b[0m\u001b[0msetdefault\u001b[0m\u001b[0;34m(\u001b[0m\u001b[0;34m\"format\"\u001b[0m\u001b[0;34m,\u001b[0m \u001b[0mformat\u001b[0m\u001b[0;34m)\u001b[0m\u001b[0;34m\u001b[0m\u001b[0;34m\u001b[0m\u001b[0m\n\u001b[1;32m   1688\u001b[0m         \u001b[0mpil_kwargs\u001b[0m\u001b[0;34m.\u001b[0m\u001b[0msetdefault\u001b[0m\u001b[0;34m(\u001b[0m\u001b[0;34m\"dpi\"\u001b[0m\u001b[0;34m,\u001b[0m \u001b[0;34m(\u001b[0m\u001b[0mdpi\u001b[0m\u001b[0;34m,\u001b[0m \u001b[0mdpi\u001b[0m\u001b[0;34m)\u001b[0m\u001b[0;34m)\u001b[0m\u001b[0;34m\u001b[0m\u001b[0;34m\u001b[0m\u001b[0m\n\u001b[0;32m-> 1689\u001b[0;31m         \u001b[0mimage\u001b[0m\u001b[0;34m.\u001b[0m\u001b[0msave\u001b[0m\u001b[0;34m(\u001b[0m\u001b[0mfname\u001b[0m\u001b[0;34m,\u001b[0m \u001b[0;34m**\u001b[0m\u001b[0mpil_kwargs\u001b[0m\u001b[0;34m)\u001b[0m\u001b[0;34m\u001b[0m\u001b[0;34m\u001b[0m\u001b[0m\n\u001b[0m\u001b[1;32m   1690\u001b[0m \u001b[0;34m\u001b[0m\u001b[0m\n\u001b[1;32m   1691\u001b[0m \u001b[0;34m\u001b[0m\u001b[0m\n",
            "\u001b[0;32m/usr/local/lib/python3.10/dist-packages/PIL/Image.py\u001b[0m in \u001b[0;36msave\u001b[0;34m(self, fp, format, **params)\u001b[0m\n\u001b[1;32m   2426\u001b[0m                 \u001b[0mfp\u001b[0m \u001b[0;34m=\u001b[0m \u001b[0mbuiltins\u001b[0m\u001b[0;34m.\u001b[0m\u001b[0mopen\u001b[0m\u001b[0;34m(\u001b[0m\u001b[0mfilename\u001b[0m\u001b[0;34m,\u001b[0m \u001b[0;34m\"r+b\"\u001b[0m\u001b[0;34m)\u001b[0m\u001b[0;34m\u001b[0m\u001b[0;34m\u001b[0m\u001b[0m\n\u001b[1;32m   2427\u001b[0m             \u001b[0;32melse\u001b[0m\u001b[0;34m:\u001b[0m\u001b[0;34m\u001b[0m\u001b[0;34m\u001b[0m\u001b[0m\n\u001b[0;32m-> 2428\u001b[0;31m                 \u001b[0mfp\u001b[0m \u001b[0;34m=\u001b[0m \u001b[0mbuiltins\u001b[0m\u001b[0;34m.\u001b[0m\u001b[0mopen\u001b[0m\u001b[0;34m(\u001b[0m\u001b[0mfilename\u001b[0m\u001b[0;34m,\u001b[0m \u001b[0;34m\"w+b\"\u001b[0m\u001b[0;34m)\u001b[0m\u001b[0;34m\u001b[0m\u001b[0;34m\u001b[0m\u001b[0m\n\u001b[0m\u001b[1;32m   2429\u001b[0m \u001b[0;34m\u001b[0m\u001b[0m\n\u001b[1;32m   2430\u001b[0m         \u001b[0;32mtry\u001b[0m\u001b[0;34m:\u001b[0m\u001b[0;34m\u001b[0m\u001b[0;34m\u001b[0m\u001b[0m\n",
            "\u001b[0;31mFileNotFoundError\u001b[0m: [Errno 2] No such file or directory: 'extension_graphs/resnet_34cutmix.png'"
          ]
        },
        {
          "output_type": "display_data",
          "data": {
            "text/plain": [
              "<Figure size 1200x600 with 2 Axes>"
            ],
            "image/png": "[encoded data removed]"
          },
          "metadata": {}
        }
      ],
      "source": [
        "cutmixres = data_aug_extension(data_aug='CUTMIX')\n",
        "create_graphs(cutmixres, 'extension_graphs/resnet_34cutmix')\n",
        "print(f\"Best achieved validation loss: {min([res['validation_loss'] for res in cutmixres['val_res']])}\")"
      ]
    },
    {
      "cell_type": "code",
      "source": [
        "# load best loss\n",
        "model.load_state_dict(torch.load('best_model_loss.pth'))\n",
        "# save\n",
        "torch.save(model.state_dict(), 'resnet34_cutmix.pth')"
      ],
      "metadata": {
        "id": "99T7wq3OPnJO"
      },
      "execution_count": 18,
      "outputs": []
    },
    {
      "cell_type": "markdown",
      "metadata": {
        "id": "fHdaBeHKL5FW"
      },
      "source": [
        "## Lets continue training but use unfreeze layer4"
      ]
    },
    {
      "cell_type": "code",
      "execution_count": 19,
      "metadata": {
        "colab": {
          "base_uri": "https://localhost:8080/",
          "height": 1000
        },
        "id": "FW-9GxwQL5FW",
        "outputId": "15eecfcb-f01e-4f2c-8518-e9736f608537"
      },
      "outputs": [
        {
          "output_type": "stream",
          "name": "stdout",
          "text": [
            "Epoch 1\n",
            "-------------------------------\n"
          ]
        },
        {
          "output_type": "stream",
          "name": "stderr",
          "text": [
            "loss: 2.076626  Batch:[   91/   92]: 100%|██████████| 92/92 [00:24<00:00,  3.80it/s]\n"
          ]
        },
        {
          "output_type": "stream",
          "name": "stdout",
          "text": [
            "Validation Error: \n",
            " Accuracy: 90.2%, Avg loss: 0.519656 \n",
            "\n",
            "Epoch 2\n",
            "-------------------------------\n"
          ]
        },
        {
          "output_type": "stream",
          "name": "stderr",
          "text": [
            "loss: 1.629925  Batch:[   91/   92]: 100%|██████████| 92/92 [00:23<00:00,  3.97it/s]\n"
          ]
        },
        {
          "output_type": "stream",
          "name": "stdout",
          "text": [
            "Validation Error: \n",
            " Accuracy: 88.5%, Avg loss: 0.457401 \n",
            "\n",
            "Epoch 3\n",
            "-------------------------------\n"
          ]
        },
        {
          "output_type": "stream",
          "name": "stderr",
          "text": [
            "loss: 1.074422  Batch:[   91/   92]: 100%|██████████| 92/92 [00:23<00:00,  3.92it/s]\n"
          ]
        },
        {
          "output_type": "stream",
          "name": "stdout",
          "text": [
            "Validation Error: \n",
            " Accuracy: 89.3%, Avg loss: 0.452574 \n",
            "\n",
            "Epoch 4\n",
            "-------------------------------\n"
          ]
        },
        {
          "output_type": "stream",
          "name": "stderr",
          "text": [
            "loss: 1.899506  Batch:[   91/   92]: 100%|██████████| 92/92 [00:23<00:00,  3.93it/s]\n"
          ]
        },
        {
          "output_type": "stream",
          "name": "stdout",
          "text": [
            "Validation Error: \n",
            " Accuracy: 91.7%, Avg loss: 0.397407 \n",
            "\n",
            "Epoch 5\n",
            "-------------------------------\n"
          ]
        },
        {
          "output_type": "stream",
          "name": "stderr",
          "text": [
            "loss: 1.903508  Batch:[   91/   92]: 100%|██████████| 92/92 [00:23<00:00,  3.95it/s]\n"
          ]
        },
        {
          "output_type": "stream",
          "name": "stdout",
          "text": [
            "Validation Error: \n",
            " Accuracy: 90.1%, Avg loss: 0.433426 \n",
            "\n",
            "Epoch 6\n",
            "-------------------------------\n"
          ]
        },
        {
          "output_type": "stream",
          "name": "stderr",
          "text": [
            "loss: 0.380687  Batch:[   91/   92]: 100%|██████████| 92/92 [00:23<00:00,  3.96it/s]\n"
          ]
        },
        {
          "output_type": "stream",
          "name": "stdout",
          "text": [
            "Validation Error: \n",
            " Accuracy: 91.6%, Avg loss: 0.410078 \n",
            "\n",
            "Epoch 7\n",
            "-------------------------------\n"
          ]
        },
        {
          "output_type": "stream",
          "name": "stderr",
          "text": [
            "loss: 1.757838  Batch:[   91/   92]: 100%|██████████| 92/92 [00:22<00:00,  4.01it/s]\n"
          ]
        },
        {
          "output_type": "stream",
          "name": "stdout",
          "text": [
            "Validation Error: \n",
            " Accuracy: 92.7%, Avg loss: 0.320878 \n",
            "\n",
            "Epoch 8\n",
            "-------------------------------\n"
          ]
        },
        {
          "output_type": "stream",
          "name": "stderr",
          "text": [
            "loss: 1.191116  Batch:[   91/   92]: 100%|██████████| 92/92 [00:24<00:00,  3.76it/s]\n"
          ]
        },
        {
          "output_type": "stream",
          "name": "stdout",
          "text": [
            "Validation Error: \n",
            " Accuracy: 90.5%, Avg loss: 0.451687 \n",
            "\n",
            "Epoch 9\n",
            "-------------------------------\n"
          ]
        },
        {
          "output_type": "stream",
          "name": "stderr",
          "text": [
            "loss: 1.180327  Batch:[   91/   92]: 100%|██████████| 92/92 [00:24<00:00,  3.80it/s]\n"
          ]
        },
        {
          "output_type": "stream",
          "name": "stdout",
          "text": [
            "Validation Error: \n",
            " Accuracy: 90.6%, Avg loss: 0.370998 \n",
            "\n",
            "Epoch 10\n",
            "-------------------------------\n"
          ]
        },
        {
          "output_type": "stream",
          "name": "stderr",
          "text": [
            "loss: 1.456841  Batch:[   91/   92]: 100%|██████████| 92/92 [00:24<00:00,  3.82it/s]\n"
          ]
        },
        {
          "output_type": "stream",
          "name": "stdout",
          "text": [
            "Validation Error: \n",
            " Accuracy: 92.5%, Avg loss: 0.431595 \n",
            "\n",
            "Epoch 11\n",
            "-------------------------------\n"
          ]
        },
        {
          "output_type": "stream",
          "name": "stderr",
          "text": [
            "loss: 0.517719  Batch:[   91/   92]: 100%|██████████| 92/92 [00:23<00:00,  3.90it/s]\n"
          ]
        },
        {
          "output_type": "stream",
          "name": "stdout",
          "text": [
            "Validation Error: \n",
            " Accuracy: 92.4%, Avg loss: 0.407406 \n",
            "\n",
            "Epoch 12\n",
            "-------------------------------\n"
          ]
        },
        {
          "output_type": "stream",
          "name": "stderr",
          "text": [
            "loss: 1.719401  Batch:[   91/   92]: 100%|██████████| 92/92 [00:26<00:00,  3.52it/s]\n"
          ]
        },
        {
          "output_type": "stream",
          "name": "stdout",
          "text": [
            "Validation Error: \n",
            " Accuracy: 91.4%, Avg loss: 0.402780 \n",
            "\n",
            "Early stopping!\n",
            "Training done!\n",
            "Best achieved validation loss: 0.32087845776392065\n",
            "Best achieved validation loss: 0.32087845776392065\n"
          ]
        },
        {
          "output_type": "display_data",
          "data": {
            "text/plain": [
              "<Figure size 1200x600 with 2 Axes>"
            ],
            "image/png": "[encoded data removed]"
          },
          "metadata": {}
        }
      ],
      "source": [
        "\n",
        "\n",
        "# load cutmix model\n",
        "model.load_state_dict(torch.load('resnet34_cutmix.pth'))\n",
        "\n",
        "# unfreeze layer 4\n",
        "for param in model.layer4.parameters():\n",
        "    param.requires_grad = True\n",
        "for param in model.fc.parameters():\n",
        "    param.requires_grad = True\n",
        "\n",
        "optimizer = torch.optim.Adam([\n",
        "        {'params': model.layer4.parameters(), 'lr': 1e-4},\n",
        "    ], weight_decay=1e-4)\n",
        "\n",
        "# train the model\n",
        "cutmix_2 = data_aug_extension(model=model, data_aug='CUTMIX', optimizer=optimizer)\n",
        "create_graphs(cutmix_2, 'extension_graphs/resnet_34cutmix2')\n",
        "print(f\"Best achieved validation loss: {min([res['validation_loss'] for res in cutmix_2['val_res']])}\")\n",
        "model.load_state_dict(torch.load('best_model_loss.pth'))\n",
        "# save\n",
        "torch.save(model.state_dict(), 'resnet34_cutmix2.pth')"
      ]
    },
    {
      "cell_type": "code",
      "source": [
        "\n",
        "# load cutmix model\n",
        "model.load_state_dict(torch.load('resnet34_cutmix2.pth'))\n",
        "\n",
        "# unfreeze layer 4\n",
        "for param in model.layer3.parameters():\n",
        "    param.requires_grad = True\n",
        "\n",
        "for param in model.layer4.parameters():\n",
        "    param.requires_grad = True\n",
        "for param in model.fc.parameters():\n",
        "    param.requires_grad = True\n",
        "\n",
        "optimizer = torch.optim.Adam([\n",
        "        {'params': model.layer4.parameters(), 'lr': 1e-4},\n",
        "    ], lr=1e-4, weight_decay=1e-4)\n",
        "\n",
        "# train the model\n",
        "cutmix_3 = data_aug_extension(model=model, data_aug='CUTMIX', optimizer=optimizer)\n",
        "create_graphs(cutmix_3, 'extension_graphs/resnet_34cutmix3')\n",
        "print(f\"Best achieved validation loss: {min([res['validation_loss'] for res in cutmix_3['val_res']])}\")\n",
        "model.load_state_dict(torch.load('best_model_loss.pth'))\n",
        "# save\n",
        "torch.save(model.state_dict(), 'resnet34_cutmix3.pth')"
      ],
      "metadata": {
        "colab": {
          "base_uri": "https://localhost:8080/",
          "height": 1000
        },
        "id": "Z1cFOEj8urri",
        "outputId": "f836f26d-96e4-47ac-b54e-0e4a4f02faa2"
      },
      "execution_count": 20,
      "outputs": [
        {
          "output_type": "stream",
          "name": "stdout",
          "text": [
            "Epoch 1\n",
            "-------------------------------\n"
          ]
        },
        {
          "output_type": "stream",
          "name": "stderr",
          "text": [
            "loss: 0.469438  Batch:[   91/   92]: 100%|██████████| 92/92 [00:24<00:00,  3.78it/s]\n"
          ]
        },
        {
          "output_type": "stream",
          "name": "stdout",
          "text": [
            "Validation Error: \n",
            " Accuracy: 91.2%, Avg loss: 0.359599 \n",
            "\n",
            "Epoch 2\n",
            "-------------------------------\n"
          ]
        },
        {
          "output_type": "stream",
          "name": "stderr",
          "text": [
            "loss: 1.718805  Batch:[   91/   92]: 100%|██████████| 92/92 [00:24<00:00,  3.70it/s]\n"
          ]
        },
        {
          "output_type": "stream",
          "name": "stdout",
          "text": [
            "Validation Error: \n",
            " Accuracy: 90.6%, Avg loss: 0.363858 \n",
            "\n",
            "Epoch 3\n",
            "-------------------------------\n"
          ]
        },
        {
          "output_type": "stream",
          "name": "stderr",
          "text": [
            "loss: 2.017550  Batch:[   91/   92]: 100%|██████████| 92/92 [00:26<00:00,  3.53it/s]\n"
          ]
        },
        {
          "output_type": "stream",
          "name": "stdout",
          "text": [
            "Validation Error: \n",
            " Accuracy: 91.7%, Avg loss: 0.392881 \n",
            "\n",
            "Epoch 4\n",
            "-------------------------------\n"
          ]
        },
        {
          "output_type": "stream",
          "name": "stderr",
          "text": [
            "loss: 1.304414  Batch:[   91/   92]: 100%|██████████| 92/92 [00:27<00:00,  3.32it/s]\n"
          ]
        },
        {
          "output_type": "stream",
          "name": "stdout",
          "text": [
            "Validation Error: \n",
            " Accuracy: 92.5%, Avg loss: 0.371878 \n",
            "\n",
            "Epoch 5\n",
            "-------------------------------\n"
          ]
        },
        {
          "output_type": "stream",
          "name": "stderr",
          "text": [
            "loss: 1.638370  Batch:[   91/   92]: 100%|██████████| 92/92 [00:25<00:00,  3.65it/s]\n"
          ]
        },
        {
          "output_type": "stream",
          "name": "stdout",
          "text": [
            "Validation Error: \n",
            " Accuracy: 90.9%, Avg loss: 0.431425 \n",
            "\n",
            "Epoch 6\n",
            "-------------------------------\n"
          ]
        },
        {
          "output_type": "stream",
          "name": "stderr",
          "text": [
            "loss: 1.281110  Batch:[   91/   92]: 100%|██████████| 92/92 [00:25<00:00,  3.63it/s]\n"
          ]
        },
        {
          "output_type": "stream",
          "name": "stdout",
          "text": [
            "Validation Error: \n",
            " Accuracy: 92.7%, Avg loss: 0.425914 \n",
            "\n",
            "Epoch 7\n",
            "-------------------------------\n"
          ]
        },
        {
          "output_type": "stream",
          "name": "stderr",
          "text": [
            "loss: 1.653761  Batch:[   91/   92]: 100%|██████████| 92/92 [00:24<00:00,  3.72it/s]\n"
          ]
        },
        {
          "output_type": "stream",
          "name": "stdout",
          "text": [
            "Validation Error: \n",
            " Accuracy: 91.4%, Avg loss: 0.388636 \n",
            "\n",
            "Epoch 8\n",
            "-------------------------------\n"
          ]
        },
        {
          "output_type": "stream",
          "name": "stderr",
          "text": [
            "loss: 1.595327  Batch:[   91/   92]: 100%|██████████| 92/92 [00:23<00:00,  3.93it/s]\n"
          ]
        },
        {
          "output_type": "stream",
          "name": "stdout",
          "text": [
            "Validation Error: \n",
            " Accuracy: 91.6%, Avg loss: 0.439394 \n",
            "\n",
            "Epoch 9\n",
            "-------------------------------\n"
          ]
        },
        {
          "output_type": "stream",
          "name": "stderr",
          "text": [
            "loss: 1.482527  Batch:[   91/   92]: 100%|██████████| 92/92 [00:35<00:00,  2.62it/s]\n"
          ]
        },
        {
          "output_type": "stream",
          "name": "stdout",
          "text": [
            "Validation Error: \n",
            " Accuracy: 93.1%, Avg loss: 0.382774 \n",
            "\n",
            "Epoch 10\n",
            "-------------------------------\n"
          ]
        },
        {
          "output_type": "stream",
          "name": "stderr",
          "text": [
            "loss: 0.530152  Batch:[   91/   92]: 100%|██████████| 92/92 [00:32<00:00,  2.82it/s]\n"
          ]
        },
        {
          "output_type": "stream",
          "name": "stdout",
          "text": [
            "Validation Error: \n",
            " Accuracy: 91.2%, Avg loss: 0.467131 \n",
            "\n",
            "Epoch 11\n",
            "-------------------------------\n"
          ]
        },
        {
          "output_type": "stream",
          "name": "stderr",
          "text": [
            "loss: 0.871535  Batch:[   91/   92]: 100%|██████████| 92/92 [00:25<00:00,  3.65it/s]\n"
          ]
        },
        {
          "output_type": "stream",
          "name": "stdout",
          "text": [
            "Validation Error: \n",
            " Accuracy: 91.0%, Avg loss: 0.466258 \n",
            "\n",
            "Epoch 12\n",
            "-------------------------------\n"
          ]
        },
        {
          "output_type": "stream",
          "name": "stderr",
          "text": [
            "loss: 1.548775  Batch:[   91/   92]: 100%|██████████| 92/92 [00:24<00:00,  3.71it/s]\n"
          ]
        },
        {
          "output_type": "stream",
          "name": "stdout",
          "text": [
            "Validation Error: \n",
            " Accuracy: 92.0%, Avg loss: 0.418837 \n",
            "\n",
            "Epoch 13\n",
            "-------------------------------\n"
          ]
        },
        {
          "output_type": "stream",
          "name": "stderr",
          "text": [
            "loss: 1.511976  Batch:[   91/   92]: 100%|██████████| 92/92 [00:25<00:00,  3.60it/s]\n"
          ]
        },
        {
          "output_type": "stream",
          "name": "stdout",
          "text": [
            "Validation Error: \n",
            " Accuracy: 90.5%, Avg loss: 0.437157 \n",
            "\n",
            "Epoch 14\n",
            "-------------------------------\n"
          ]
        },
        {
          "output_type": "stream",
          "name": "stderr",
          "text": [
            "loss: 0.135469  Batch:[   91/   92]: 100%|██████████| 92/92 [00:25<00:00,  3.60it/s]\n"
          ]
        },
        {
          "output_type": "stream",
          "name": "stdout",
          "text": [
            "Validation Error: \n",
            " Accuracy: 91.2%, Avg loss: 0.359593 \n",
            "\n",
            "Epoch 15\n",
            "-------------------------------\n"
          ]
        },
        {
          "output_type": "stream",
          "name": "stderr",
          "text": [
            "loss: 0.308451  Batch:[   91/   92]: 100%|██████████| 92/92 [00:24<00:00,  3.81it/s]\n"
          ]
        },
        {
          "output_type": "stream",
          "name": "stdout",
          "text": [
            "Validation Error: \n",
            " Accuracy: 91.8%, Avg loss: 0.432941 \n",
            "\n",
            "Epoch 16\n",
            "-------------------------------\n"
          ]
        },
        {
          "output_type": "stream",
          "name": "stderr",
          "text": [
            "loss: 1.414248  Batch:[   91/   92]: 100%|██████████| 92/92 [00:22<00:00,  4.04it/s]\n"
          ]
        },
        {
          "output_type": "stream",
          "name": "stdout",
          "text": [
            "Validation Error: \n",
            " Accuracy: 91.7%, Avg loss: 0.456461 \n",
            "\n",
            "Epoch 17\n",
            "-------------------------------\n"
          ]
        },
        {
          "output_type": "stream",
          "name": "stderr",
          "text": [
            "loss: 1.250352  Batch:[   91/   92]: 100%|██████████| 92/92 [00:22<00:00,  4.01it/s]\n"
          ]
        },
        {
          "output_type": "stream",
          "name": "stdout",
          "text": [
            "Validation Error: \n",
            " Accuracy: 90.6%, Avg loss: 0.454561 \n",
            "\n",
            "Epoch 18\n",
            "-------------------------------\n"
          ]
        },
        {
          "output_type": "stream",
          "name": "stderr",
          "text": [
            "loss: 1.182161  Batch:[   91/   92]: 100%|██████████| 92/92 [00:22<00:00,  4.05it/s]\n"
          ]
        },
        {
          "output_type": "stream",
          "name": "stdout",
          "text": [
            "Validation Error: \n",
            " Accuracy: 92.3%, Avg loss: 0.423503 \n",
            "\n",
            "Epoch 19\n",
            "-------------------------------\n"
          ]
        },
        {
          "output_type": "stream",
          "name": "stderr",
          "text": [
            "loss: 1.460407  Batch:[   91/   92]: 100%|██████████| 92/92 [00:23<00:00,  3.98it/s]\n"
          ]
        },
        {
          "output_type": "stream",
          "name": "stdout",
          "text": [
            "Validation Error: \n",
            " Accuracy: 92.8%, Avg loss: 0.492885 \n",
            "\n",
            "Early stopping!\n",
            "Training done!\n",
            "Best achieved validation loss: 0.35959300917127857\n",
            "Best achieved validation loss: 0.35959300917127857\n"
          ]
        },
        {
          "output_type": "display_data",
          "data": {
            "text/plain": [
              "<Figure size 1200x600 with 2 Axes>"
            ],
            "image/png": "[encoded data removed]"
          },
          "metadata": {}
        }
      ]
    },
    {
      "cell_type": "code",
      "source": [
        "# repeat previous step but lets try freezing fc and layer4\n",
        "# load cutmix model\n",
        "model.load_state_dict(torch.load('resnet34_cutmix2.pth'))\n",
        "\n",
        "# unfreeze layer 4\n",
        "for param in model.layer3.parameters():\n",
        "    param.requires_grad = True\n",
        "\n",
        "for param in model.layer4.parameters():\n",
        "    param.requires_grad = False\n",
        "for param in model.fc.parameters():\n",
        "    param.requires_grad = False\n",
        "\n",
        "optimizer = torch.optim.Adam(model.parameters(), lr=1e-5, weight_decay=1e-4)\n",
        "\n",
        "# train the model\n",
        "cutmix_4= data_aug_extension(model=model, data_aug='CUTMIX', optimizer=optimizer)\n",
        "create_graphs(cutmix_4, 'extension_graphs/resnet_34cutmix4')\n",
        "print(f\"Best achieved validation loss: {min([res['validation_loss'] for res in cutmix_4['val_res']])}\")\n",
        "model.load_state_dict(torch.load('best_model_loss.pth'))\n",
        "# save\n",
        "torch.save(model.state_dict(), 'resnet34_cutmix4.pth')"
      ],
      "metadata": {
        "colab": {
          "base_uri": "https://localhost:8080/",
          "height": 1000
        },
        "id": "p2augpgRv6dg",
        "outputId": "01f98e0d-400c-42e6-959b-97a01920b42c"
      },
      "execution_count": 22,
      "outputs": [
        {
          "output_type": "stream",
          "name": "stdout",
          "text": [
            "Epoch 1\n",
            "-------------------------------\n"
          ]
        },
        {
          "output_type": "stream",
          "name": "stderr",
          "text": [
            "loss: 1.103048  Batch:[   91/   92]: 100%|██████████| 92/92 [00:26<00:00,  3.53it/s]\n"
          ]
        },
        {
          "output_type": "stream",
          "name": "stdout",
          "text": [
            "Validation Error: \n",
            " Accuracy: 92.9%, Avg loss: 0.330888 \n",
            "\n",
            "Epoch 2\n",
            "-------------------------------\n"
          ]
        },
        {
          "output_type": "stream",
          "name": "stderr",
          "text": [
            "loss: 1.683984  Batch:[   91/   92]: 100%|██████████| 92/92 [00:25<00:00,  3.65it/s]\n"
          ]
        },
        {
          "output_type": "stream",
          "name": "stdout",
          "text": [
            "Validation Error: \n",
            " Accuracy: 92.7%, Avg loss: 0.328243 \n",
            "\n",
            "Epoch 3\n",
            "-------------------------------\n"
          ]
        },
        {
          "output_type": "stream",
          "name": "stderr",
          "text": [
            "loss: 0.528109  Batch:[   91/   92]: 100%|██████████| 92/92 [00:24<00:00,  3.72it/s]\n"
          ]
        },
        {
          "output_type": "stream",
          "name": "stdout",
          "text": [
            "Validation Error: \n",
            " Accuracy: 93.3%, Avg loss: 0.334069 \n",
            "\n",
            "Epoch 4\n",
            "-------------------------------\n"
          ]
        },
        {
          "output_type": "stream",
          "name": "stderr",
          "text": [
            "loss: 1.538085  Batch:[   91/   92]: 100%|██████████| 92/92 [00:25<00:00,  3.66it/s]\n"
          ]
        },
        {
          "output_type": "stream",
          "name": "stdout",
          "text": [
            "Validation Error: \n",
            " Accuracy: 93.2%, Avg loss: 0.322255 \n",
            "\n",
            "Epoch 5\n",
            "-------------------------------\n"
          ]
        },
        {
          "output_type": "stream",
          "name": "stderr",
          "text": [
            "loss: 1.559023  Batch:[   91/   92]: 100%|██████████| 92/92 [00:24<00:00,  3.78it/s]\n"
          ]
        },
        {
          "output_type": "stream",
          "name": "stdout",
          "text": [
            "Validation Error: \n",
            " Accuracy: 92.9%, Avg loss: 0.324677 \n",
            "\n",
            "Epoch 6\n",
            "-------------------------------\n"
          ]
        },
        {
          "output_type": "stream",
          "name": "stderr",
          "text": [
            "loss: 0.990316  Batch:[   91/   92]: 100%|██████████| 92/92 [00:23<00:00,  3.85it/s]\n"
          ]
        },
        {
          "output_type": "stream",
          "name": "stdout",
          "text": [
            "Validation Error: \n",
            " Accuracy: 92.7%, Avg loss: 0.340178 \n",
            "\n",
            "Epoch 7\n",
            "-------------------------------\n"
          ]
        },
        {
          "output_type": "stream",
          "name": "stderr",
          "text": [
            "loss: 1.278784  Batch:[   91/   92]: 100%|██████████| 92/92 [00:24<00:00,  3.79it/s]\n"
          ]
        },
        {
          "output_type": "stream",
          "name": "stdout",
          "text": [
            "Validation Error: \n",
            " Accuracy: 92.5%, Avg loss: 0.328695 \n",
            "\n",
            "Epoch 8\n",
            "-------------------------------\n"
          ]
        },
        {
          "output_type": "stream",
          "name": "stderr",
          "text": [
            "loss: 1.278970  Batch:[   91/   92]: 100%|██████████| 92/92 [00:24<00:00,  3.82it/s]\n"
          ]
        },
        {
          "output_type": "stream",
          "name": "stdout",
          "text": [
            "Validation Error: \n",
            " Accuracy: 93.8%, Avg loss: 0.323053 \n",
            "\n",
            "Epoch 9\n",
            "-------------------------------\n"
          ]
        },
        {
          "output_type": "stream",
          "name": "stderr",
          "text": [
            "loss: 1.230628  Batch:[   91/   92]: 100%|██████████| 92/92 [00:23<00:00,  3.85it/s]\n"
          ]
        },
        {
          "output_type": "stream",
          "name": "stdout",
          "text": [
            "Validation Error: \n",
            " Accuracy: 93.2%, Avg loss: 0.328674 \n",
            "\n",
            "Early stopping!\n",
            "Training done!\n",
            "Best achieved validation loss: 0.32225537105746893\n",
            "Best achieved validation loss: 0.32225537105746893\n"
          ]
        },
        {
          "output_type": "display_data",
          "data": {
            "text/plain": [
              "<Figure size 1200x600 with 2 Axes>"
            ],
            "image/png": "[encoded data removed]"
          },
          "metadata": {}
        }
      ]
    },
    {
      "cell_type": "code",
      "source": [
        "create_graphs(cutmix_3, 'extension_graphs/resnet_34cutmix3')\n",
        "create_graphs(cutmix_4, 'extension_graphs/resnet_34cutmix4')\n"
      ],
      "metadata": {
        "colab": {
          "base_uri": "https://localhost:8080/",
          "height": 1000
        },
        "id": "lzpk7aKlzDue",
        "outputId": "fc48175c-b9dc-49bb-8778-21d4fea9af2a"
      },
      "execution_count": 23,
      "outputs": [
        {
          "output_type": "display_data",
          "data": {
            "text/plain": [
              "<Figure size 1200x600 with 2 Axes>"
            ],
            "image/png": "[encoded data removed]"
          },
          "metadata": {}
        },
        {
          "output_type": "display_data",
          "data": {
            "text/plain": [
              "<Figure size 1200x600 with 2 Axes>"
            ],
            "image/png": "[encoded data removed]"
          },
          "metadata": {}
        }
      ]
    },
    {
      "cell_type": "code",
      "source": [
        "# load cutmix model\n",
        "\n",
        "model.load_state_dict(torch.load('resnet34_cutmix2.pth'))\n",
        "\n",
        "for param in model.parameters():\n",
        "    param.requires_grad = False\n",
        "# unfreeze layer 4\n",
        "for param in model.layer4.parameters():\n",
        "    param.requires_grad = True\n",
        "for param in model.fc.parameters():\n",
        "    param.requires_grad = True\n",
        "\n",
        "\n",
        "\n",
        "optimizer = torch.optim.AdamW(model.parameters(), lr=1e-4, weight_decay=1e-4)\n",
        "scheduler = torch.optim.lr_scheduler.ExponentialLR(optimizer, gamma=0.95)\n",
        "\n",
        "# train the model\n",
        "cutmix_5 = data_aug_extension(model=model, data_aug='CUTMIX', optimizer=optimizer, scheduler=scheduler)\n",
        "create_graphs(cutmix_5, 'extension_graphs/resnet_34cutmix5')\n",
        "print(f\"Best achieved validation loss: {min([res['validation_loss'] for res in cutmix_5['val_res']])}\")\n",
        "model.load_state_dict(torch.load('best_model_loss.pth'))\n",
        "# save\n",
        "torch.save(model.state_dict(), 'resnet34_cutmix5.pth')"
      ],
      "metadata": {
        "colab": {
          "base_uri": "https://localhost:8080/",
          "height": 441
        },
        "id": "Npj7OhdNzr9P",
        "outputId": "3b634d87-4291-4f51-9553-e69efd6fe762"
      },
      "execution_count": 31,
      "outputs": [
        {
          "output_type": "stream",
          "name": "stdout",
          "text": [
            "Epoch 1\n",
            "-------------------------------\n"
          ]
        },
        {
          "output_type": "stream",
          "name": "stderr",
          "text": [
            "loss: 1.732503  Batch:[    1/   92]:   8%|▊         | 7/92 [00:02<00:25,  3.27it/s]\n"
          ]
        },
        {
          "output_type": "error",
          "ename": "KeyboardInterrupt",
          "evalue": "",
          "traceback": [
            "\u001b[0;31m---------------------------------------------------------------------------\u001b[0m",
            "\u001b[0;31mKeyboardInterrupt\u001b[0m                         Traceback (most recent call last)",
            "\u001b[0;32m<ipython-input-31-942226c5c1f4>\u001b[0m in \u001b[0;36m<cell line: 19>\u001b[0;34m()\u001b[0m\n\u001b[1;32m     17\u001b[0m \u001b[0;34m\u001b[0m\u001b[0m\n\u001b[1;32m     18\u001b[0m \u001b[0;31m# train the model\u001b[0m\u001b[0;34m\u001b[0m\u001b[0;34m\u001b[0m\u001b[0m\n\u001b[0;32m---> 19\u001b[0;31m \u001b[0mcutmix_5\u001b[0m \u001b[0;34m=\u001b[0m \u001b[0mdata_aug_extension\u001b[0m\u001b[0;34m(\u001b[0m\u001b[0mmodel\u001b[0m\u001b[0;34m=\u001b[0m\u001b[0mmodel\u001b[0m\u001b[0;34m,\u001b[0m \u001b[0mdata_aug\u001b[0m\u001b[0;34m=\u001b[0m\u001b[0;34m'CUTMIX'\u001b[0m\u001b[0;34m,\u001b[0m \u001b[0moptimizer\u001b[0m\u001b[0;34m=\u001b[0m\u001b[0moptimizer\u001b[0m\u001b[0;34m,\u001b[0m \u001b[0mscheduler\u001b[0m\u001b[0;34m=\u001b[0m\u001b[0mscheduler\u001b[0m\u001b[0;34m)\u001b[0m\u001b[0;34m\u001b[0m\u001b[0;34m\u001b[0m\u001b[0m\n\u001b[0m\u001b[1;32m     20\u001b[0m \u001b[0mcreate_graphs\u001b[0m\u001b[0;34m(\u001b[0m\u001b[0mcutmix_5\u001b[0m\u001b[0;34m,\u001b[0m \u001b[0;34m'extension_graphs/resnet_34cutmix5'\u001b[0m\u001b[0;34m)\u001b[0m\u001b[0;34m\u001b[0m\u001b[0;34m\u001b[0m\u001b[0m\n\u001b[1;32m     21\u001b[0m \u001b[0mprint\u001b[0m\u001b[0;34m(\u001b[0m\u001b[0;34mf\"Best achieved validation loss: {min([res['validation_loss'] for res in cutmix_5['val_res']])}\"\u001b[0m\u001b[0;34m)\u001b[0m\u001b[0;34m\u001b[0m\u001b[0;34m\u001b[0m\u001b[0m\n",
            "\u001b[0;32m<ipython-input-14-de4f4101e97b>\u001b[0m in \u001b[0;36mdata_aug_extension\u001b[0;34m(model, data, data_aug, optimizer, scheduler)\u001b[0m\n\u001b[1;32m     46\u001b[0m       \u001b[0mscheduler\u001b[0m \u001b[0;34m=\u001b[0m \u001b[0;32mNone\u001b[0m\u001b[0;34m\u001b[0m\u001b[0;34m\u001b[0m\u001b[0m\n\u001b[1;32m     47\u001b[0m \u001b[0;34m\u001b[0m\u001b[0m\n\u001b[0;32m---> 48\u001b[0;31m     \u001b[0mresults\u001b[0m \u001b[0;34m=\u001b[0m \u001b[0mtrain_model\u001b[0m\u001b[0;34m(\u001b[0m\u001b[0mmodel\u001b[0m\u001b[0;34m,\u001b[0m \u001b[0mnn\u001b[0m\u001b[0;34m.\u001b[0m\u001b[0mCrossEntropyLoss\u001b[0m\u001b[0;34m(\u001b[0m\u001b[0;34m)\u001b[0m\u001b[0;34m,\u001b[0m \u001b[0moptimizer\u001b[0m\u001b[0;34m,\u001b[0m \u001b[0mtrain_dataloader\u001b[0m\u001b[0;34m,\u001b[0m \u001b[0mval_dataloader\u001b[0m\u001b[0;34m,\u001b[0m \u001b[0mepochs\u001b[0m\u001b[0;34m=\u001b[0m\u001b[0m_epochs\u001b[0m\u001b[0;34m,\u001b[0m \u001b[0mdevice\u001b[0m\u001b[0;34m=\u001b[0m\u001b[0mdevice\u001b[0m\u001b[0;34m,\u001b[0m \u001b[0mscheduler\u001b[0m\u001b[0;34m=\u001b[0m\u001b[0mscheduler\u001b[0m\u001b[0;34m,\u001b[0m \u001b[0mdata_aug\u001b[0m\u001b[0;34m=\u001b[0m\u001b[0mdata_aug\u001b[0m\u001b[0;34m)\u001b[0m\u001b[0;34m\u001b[0m\u001b[0;34m\u001b[0m\u001b[0m\n\u001b[0m\u001b[1;32m     49\u001b[0m     \u001b[0;31m# plot results\u001b[0m\u001b[0;34m\u001b[0m\u001b[0;34m\u001b[0m\u001b[0m\n\u001b[1;32m     50\u001b[0m \u001b[0;34m\u001b[0m\u001b[0m\n",
            "\u001b[0;32m<ipython-input-9-1bf4d3905998>\u001b[0m in \u001b[0;36mtrain_model\u001b[0;34m(model, loss_fn, optimizer, train_dataloader, val_dataloader, **kwargs)\u001b[0m\n\u001b[1;32m     22\u001b[0m     \u001b[0;32mfor\u001b[0m \u001b[0mt\u001b[0m \u001b[0;32min\u001b[0m \u001b[0mrange\u001b[0m\u001b[0;34m(\u001b[0m\u001b[0mepochs\u001b[0m\u001b[0;34m)\u001b[0m\u001b[0;34m:\u001b[0m\u001b[0;34m\u001b[0m\u001b[0;34m\u001b[0m\u001b[0m\n\u001b[1;32m     23\u001b[0m         \u001b[0mprint\u001b[0m\u001b[0;34m(\u001b[0m\u001b[0;34mf\"Epoch {t+1}\\n-------------------------------\"\u001b[0m\u001b[0;34m)\u001b[0m\u001b[0;34m\u001b[0m\u001b[0;34m\u001b[0m\u001b[0m\n\u001b[0;32m---> 24\u001b[0;31m         \u001b[0mtrain_res\u001b[0m \u001b[0;34m=\u001b[0m \u001b[0mtrain_loop\u001b[0m\u001b[0;34m(\u001b[0m\u001b[0mtrain_dataloader\u001b[0m\u001b[0;34m,\u001b[0m \u001b[0mmodel\u001b[0m\u001b[0;34m,\u001b[0m \u001b[0mloss_fn\u001b[0m\u001b[0;34m,\u001b[0m \u001b[0moptimizer\u001b[0m\u001b[0;34m,\u001b[0m \u001b[0;34m**\u001b[0m\u001b[0mkwargs\u001b[0m\u001b[0;34m)\u001b[0m\u001b[0;34m\u001b[0m\u001b[0;34m\u001b[0m\u001b[0m\n\u001b[0m\u001b[1;32m     25\u001b[0m         \u001b[0;32mif\u001b[0m \u001b[0mscheduler\u001b[0m \u001b[0;32mis\u001b[0m \u001b[0;32mnot\u001b[0m \u001b[0;32mNone\u001b[0m\u001b[0;34m:\u001b[0m\u001b[0;34m\u001b[0m\u001b[0;34m\u001b[0m\u001b[0m\n\u001b[1;32m     26\u001b[0m             \u001b[0mscheduler\u001b[0m\u001b[0;34m.\u001b[0m\u001b[0mstep\u001b[0m\u001b[0;34m(\u001b[0m\u001b[0;34m)\u001b[0m\u001b[0;34m\u001b[0m\u001b[0;34m\u001b[0m\u001b[0m\n",
            "\u001b[0;32m<ipython-input-5-ace952f4d773>\u001b[0m in \u001b[0;36mtrain_loop\u001b[0;34m(dataloader, model, loss_fn, optimizer, device, DEBUG, BN_MODE, **kwargs)\u001b[0m\n\u001b[1;32m     55\u001b[0m             \u001b[0mloss\u001b[0m \u001b[0;34m=\u001b[0m \u001b[0mloss_fn\u001b[0m\u001b[0;34m(\u001b[0m\u001b[0mpred\u001b[0m\u001b[0;34m,\u001b[0m \u001b[0my\u001b[0m\u001b[0;34m)\u001b[0m\u001b[0;34m\u001b[0m\u001b[0;34m\u001b[0m\u001b[0m\n\u001b[1;32m     56\u001b[0m \u001b[0;34m\u001b[0m\u001b[0m\n\u001b[0;32m---> 57\u001b[0;31m             \u001b[0mloss\u001b[0m\u001b[0;34m.\u001b[0m\u001b[0mbackward\u001b[0m\u001b[0;34m(\u001b[0m\u001b[0;34m)\u001b[0m\u001b[0;34m\u001b[0m\u001b[0;34m\u001b[0m\u001b[0m\n\u001b[0m\u001b[1;32m     58\u001b[0m             \u001b[0moptimizer\u001b[0m\u001b[0;34m.\u001b[0m\u001b[0mstep\u001b[0m\u001b[0;34m(\u001b[0m\u001b[0;34m)\u001b[0m\u001b[0;34m\u001b[0m\u001b[0;34m\u001b[0m\u001b[0m\n\u001b[1;32m     59\u001b[0m \u001b[0;34m\u001b[0m\u001b[0m\n",
            "\u001b[0;32m/usr/local/lib/python3.10/dist-packages/torch/_tensor.py\u001b[0m in \u001b[0;36mbackward\u001b[0;34m(self, gradient, retain_graph, create_graph, inputs)\u001b[0m\n\u001b[1;32m    523\u001b[0m                 \u001b[0minputs\u001b[0m\u001b[0;34m=\u001b[0m\u001b[0minputs\u001b[0m\u001b[0;34m,\u001b[0m\u001b[0;34m\u001b[0m\u001b[0;34m\u001b[0m\u001b[0m\n\u001b[1;32m    524\u001b[0m             )\n\u001b[0;32m--> 525\u001b[0;31m         torch.autograd.backward(\n\u001b[0m\u001b[1;32m    526\u001b[0m             \u001b[0mself\u001b[0m\u001b[0;34m,\u001b[0m \u001b[0mgradient\u001b[0m\u001b[0;34m,\u001b[0m \u001b[0mretain_graph\u001b[0m\u001b[0;34m,\u001b[0m \u001b[0mcreate_graph\u001b[0m\u001b[0;34m,\u001b[0m \u001b[0minputs\u001b[0m\u001b[0;34m=\u001b[0m\u001b[0minputs\u001b[0m\u001b[0;34m\u001b[0m\u001b[0;34m\u001b[0m\u001b[0m\n\u001b[1;32m    527\u001b[0m         )\n",
            "\u001b[0;32m/usr/local/lib/python3.10/dist-packages/torch/autograd/__init__.py\u001b[0m in \u001b[0;36mbackward\u001b[0;34m(tensors, grad_tensors, retain_graph, create_graph, grad_variables, inputs)\u001b[0m\n\u001b[1;32m    265\u001b[0m     \u001b[0;31m# some Python versions print out the first line of a multi-line function\u001b[0m\u001b[0;34m\u001b[0m\u001b[0;34m\u001b[0m\u001b[0m\n\u001b[1;32m    266\u001b[0m     \u001b[0;31m# calls in the traceback and some print out the last line\u001b[0m\u001b[0;34m\u001b[0m\u001b[0;34m\u001b[0m\u001b[0m\n\u001b[0;32m--> 267\u001b[0;31m     _engine_run_backward(\n\u001b[0m\u001b[1;32m    268\u001b[0m         \u001b[0mtensors\u001b[0m\u001b[0;34m,\u001b[0m\u001b[0;34m\u001b[0m\u001b[0;34m\u001b[0m\u001b[0m\n\u001b[1;32m    269\u001b[0m         \u001b[0mgrad_tensors_\u001b[0m\u001b[0;34m,\u001b[0m\u001b[0;34m\u001b[0m\u001b[0;34m\u001b[0m\u001b[0m\n",
            "\u001b[0;32m/usr/local/lib/python3.10/dist-packages/torch/autograd/graph.py\u001b[0m in \u001b[0;36m_engine_run_backward\u001b[0;34m(t_outputs, *args, **kwargs)\u001b[0m\n\u001b[1;32m    742\u001b[0m         \u001b[0munregister_hooks\u001b[0m \u001b[0;34m=\u001b[0m \u001b[0m_register_logging_hooks_on_whole_graph\u001b[0m\u001b[0;34m(\u001b[0m\u001b[0mt_outputs\u001b[0m\u001b[0;34m)\u001b[0m\u001b[0;34m\u001b[0m\u001b[0;34m\u001b[0m\u001b[0m\n\u001b[1;32m    743\u001b[0m     \u001b[0;32mtry\u001b[0m\u001b[0;34m:\u001b[0m\u001b[0;34m\u001b[0m\u001b[0;34m\u001b[0m\u001b[0m\n\u001b[0;32m--> 744\u001b[0;31m         return Variable._execution_engine.run_backward(  # Calls into the C++ engine to run the backward pass\n\u001b[0m\u001b[1;32m    745\u001b[0m             \u001b[0mt_outputs\u001b[0m\u001b[0;34m,\u001b[0m \u001b[0;34m*\u001b[0m\u001b[0margs\u001b[0m\u001b[0;34m,\u001b[0m \u001b[0;34m**\u001b[0m\u001b[0mkwargs\u001b[0m\u001b[0;34m\u001b[0m\u001b[0;34m\u001b[0m\u001b[0m\n\u001b[1;32m    746\u001b[0m         )  # Calls into the C++ engine to run the backward pass\n",
            "\u001b[0;31mKeyboardInterrupt\u001b[0m: "
          ]
        }
      ]
    },
    {
      "cell_type": "code",
      "source": [
        "# load cutmix model\n",
        "\n",
        "model.load_state_dict(torch.load('resnet34_cutmix2.pth'))\n",
        "\n",
        "for param in model.parameters():\n",
        "    param.requires_grad = False\n",
        "# unfreeze layer 4\n",
        "for param in model.layer4.parameters():\n",
        "    param.requires_grad = True\n",
        "for param in model.fc.parameters():\n",
        "    param.requires_grad = True\n",
        "\n",
        "\n",
        "\n",
        "optimizer = torch.optim.Adam(model.parameters(), lr=1e-4, weight_decay=1e-4)\n",
        "scheduler = torch.optim.lr_scheduler.ExponentialLR(optimizer, gamma=0.95)\n",
        "\n",
        "# train the model\n",
        "cutmix_6 = data_aug_extension(model=model, data_aug='CUTMIX', optimizer=optimizer, scheduler=scheduler)\n",
        "create_graphs(cutmix_6, 'extension_graphs/resnet_34cutmix7')\n",
        "print(f\"Best achieved validation loss: {min([res['validation_loss'] for res in cutmix_6['val_res']])}\")\n",
        "model.load_state_dict(torch.load('best_model_loss.pth'))\n",
        "# save\n",
        "torch.save(model.state_dict(), 'resnet34_cutmix6.pth')"
      ],
      "metadata": {
        "colab": {
          "base_uri": "https://localhost:8080/",
          "height": 1000
        },
        "id": "PJNi-HEJ5IIb",
        "outputId": "264c20d3-31a5-4ab2-ac52-5bd192f7eae3"
      },
      "execution_count": 32,
      "outputs": [
        {
          "output_type": "stream",
          "name": "stdout",
          "text": [
            "Epoch 1\n",
            "-------------------------------\n"
          ]
        },
        {
          "output_type": "stream",
          "name": "stderr",
          "text": [
            "loss: 1.539068  Batch:[   91/   92]: 100%|██████████| 92/92 [00:23<00:00,  3.87it/s]\n"
          ]
        },
        {
          "output_type": "stream",
          "name": "stdout",
          "text": [
            "Validation Error: \n",
            " Accuracy: 90.5%, Avg loss: 0.401616 \n",
            "\n",
            "Epoch 2\n",
            "-------------------------------\n"
          ]
        },
        {
          "output_type": "stream",
          "name": "stderr",
          "text": [
            "loss: 1.711433  Batch:[   91/   92]: 100%|██████████| 92/92 [00:23<00:00,  3.84it/s]\n"
          ]
        },
        {
          "output_type": "stream",
          "name": "stdout",
          "text": [
            "Validation Error: \n",
            " Accuracy: 92.5%, Avg loss: 0.457666 \n",
            "\n",
            "Epoch 3\n",
            "-------------------------------\n"
          ]
        },
        {
          "output_type": "stream",
          "name": "stderr",
          "text": [
            "loss: 1.436269  Batch:[   91/   92]: 100%|██████████| 92/92 [00:25<00:00,  3.56it/s]\n"
          ]
        },
        {
          "output_type": "stream",
          "name": "stdout",
          "text": [
            "Validation Error: \n",
            " Accuracy: 89.8%, Avg loss: 0.422678 \n",
            "\n",
            "Epoch 4\n",
            "-------------------------------\n"
          ]
        },
        {
          "output_type": "stream",
          "name": "stderr",
          "text": [
            "loss: 0.799072  Batch:[   91/   92]: 100%|██████████| 92/92 [00:24<00:00,  3.83it/s]\n"
          ]
        },
        {
          "output_type": "stream",
          "name": "stdout",
          "text": [
            "Validation Error: \n",
            " Accuracy: 91.0%, Avg loss: 0.436250 \n",
            "\n",
            "Epoch 5\n",
            "-------------------------------\n"
          ]
        },
        {
          "output_type": "stream",
          "name": "stderr",
          "text": [
            "loss: 0.854259  Batch:[   91/   92]: 100%|██████████| 92/92 [00:23<00:00,  3.86it/s]\n"
          ]
        },
        {
          "output_type": "stream",
          "name": "stdout",
          "text": [
            "Validation Error: \n",
            " Accuracy: 92.3%, Avg loss: 0.420323 \n",
            "\n",
            "Epoch 6\n",
            "-------------------------------\n"
          ]
        },
        {
          "output_type": "stream",
          "name": "stderr",
          "text": [
            "loss: 1.530235  Batch:[   91/   92]: 100%|██████████| 92/92 [00:23<00:00,  3.85it/s]\n"
          ]
        },
        {
          "output_type": "stream",
          "name": "stdout",
          "text": [
            "Validation Error: \n",
            " Accuracy: 92.0%, Avg loss: 0.322411 \n",
            "\n",
            "Epoch 7\n",
            "-------------------------------\n"
          ]
        },
        {
          "output_type": "stream",
          "name": "stderr",
          "text": [
            "loss: 0.976964  Batch:[   91/   92]: 100%|██████████| 92/92 [00:23<00:00,  3.88it/s]\n"
          ]
        },
        {
          "output_type": "stream",
          "name": "stdout",
          "text": [
            "Validation Error: \n",
            " Accuracy: 90.2%, Avg loss: 0.469042 \n",
            "\n",
            "Epoch 8\n",
            "-------------------------------\n"
          ]
        },
        {
          "output_type": "stream",
          "name": "stderr",
          "text": [
            "loss: 0.471612  Batch:[   91/   92]: 100%|██████████| 92/92 [00:23<00:00,  3.89it/s]\n"
          ]
        },
        {
          "output_type": "stream",
          "name": "stdout",
          "text": [
            "Validation Error: \n",
            " Accuracy: 92.3%, Avg loss: 0.365085 \n",
            "\n",
            "Epoch 9\n",
            "-------------------------------\n"
          ]
        },
        {
          "output_type": "stream",
          "name": "stderr",
          "text": [
            "loss: 0.391461  Batch:[   91/   92]: 100%|██████████| 92/92 [00:23<00:00,  3.90it/s]\n"
          ]
        },
        {
          "output_type": "stream",
          "name": "stdout",
          "text": [
            "Validation Error: \n",
            " Accuracy: 91.8%, Avg loss: 0.397283 \n",
            "\n",
            "Epoch 10\n",
            "-------------------------------\n"
          ]
        },
        {
          "output_type": "stream",
          "name": "stderr",
          "text": [
            "loss: 1.369248  Batch:[   91/   92]: 100%|██████████| 92/92 [00:23<00:00,  3.99it/s]\n"
          ]
        },
        {
          "output_type": "stream",
          "name": "stdout",
          "text": [
            "Validation Error: \n",
            " Accuracy: 91.3%, Avg loss: 0.414266 \n",
            "\n",
            "Epoch 11\n",
            "-------------------------------\n"
          ]
        },
        {
          "output_type": "stream",
          "name": "stderr",
          "text": [
            "loss: 0.794787  Batch:[   91/   92]: 100%|██████████| 92/92 [00:22<00:00,  4.12it/s]\n"
          ]
        },
        {
          "output_type": "stream",
          "name": "stdout",
          "text": [
            "Validation Error: \n",
            " Accuracy: 91.4%, Avg loss: 0.391708 \n",
            "\n",
            "Early stopping!\n",
            "Training done!\n",
            "Best achieved validation loss: 0.3224109262228012\n",
            "Best achieved validation loss: 0.3224109262228012\n"
          ]
        },
        {
          "output_type": "display_data",
          "data": {
            "text/plain": [
              "<Figure size 1200x600 with 2 Axes>"
            ],
            "image/png": "[encoded data removed]"
          },
          "metadata": {}
        }
      ]
    },
    {
      "cell_type": "code",
      "source": [
        "# load cutmix model\n",
        "\n",
        "model.load_state_dict(torch.load('resnet34_cutmix2.pth'))\n",
        "\n",
        "for param in model.parameters():\n",
        "    param.requires_grad = False\n",
        "# unfreeze layer 4\n",
        "for param in model.layer4.parameters():\n",
        "    param.requires_grad = True\n",
        "for param in model.fc.parameters():\n",
        "    param.requires_grad = True\n",
        "\n",
        "\n",
        "\n",
        "optimizer = torch.optim.Adam(model.parameters(), lr=1e-3, weight_decay=1e-4)\n",
        "scheduler = torch.optim.lr_scheduler.ExponentialLR(optimizer, gamma=0.95)\n",
        "\n",
        "# train the model\n",
        "cutmix_7 = data_aug_extension(model=model, data_aug='CUTMIX', optimizer=optimizer, scheduler=scheduler)\n",
        "create_graphs(cutmix_7, 'extension_graphs/resnet_34cutmix7')\n",
        "print(f\"Best achieved validation loss: {min([res['validation_loss'] for res in cutmix_7['val_res']])}\")\n",
        "model.load_state_dict(torch.load('best_model_loss.pth'))\n",
        "# save\n",
        "torch.save(model.state_dict(), 'resnet34_cutmix7.pth')"
      ],
      "metadata": {
        "colab": {
          "base_uri": "https://localhost:8080/",
          "height": 1000
        },
        "id": "MaXr8pXc1DNg",
        "outputId": "115d2942-6768-4a78-8abc-ab1c99476637"
      },
      "execution_count": 33,
      "outputs": [
        {
          "output_type": "stream",
          "name": "stdout",
          "text": [
            "Epoch 1\n",
            "-------------------------------\n"
          ]
        },
        {
          "output_type": "stream",
          "name": "stderr",
          "text": [
            "loss: 3.357109  Batch:[   91/   92]: 100%|██████████| 92/92 [00:21<00:00,  4.20it/s]\n"
          ]
        },
        {
          "output_type": "stream",
          "name": "stdout",
          "text": [
            "Validation Error: \n",
            " Accuracy: 29.5%, Avg loss: 2.416127 \n",
            "\n",
            "Epoch 2\n",
            "-------------------------------\n"
          ]
        },
        {
          "output_type": "stream",
          "name": "stderr",
          "text": [
            "loss: 1.971115  Batch:[   91/   92]: 100%|██████████| 92/92 [00:22<00:00,  4.14it/s]\n"
          ]
        },
        {
          "output_type": "stream",
          "name": "stdout",
          "text": [
            "Validation Error: \n",
            " Accuracy: 68.9%, Avg loss: 1.054977 \n",
            "\n",
            "Epoch 3\n",
            "-------------------------------\n"
          ]
        },
        {
          "output_type": "stream",
          "name": "stderr",
          "text": [
            "loss: 0.746553  Batch:[   91/   92]: 100%|██████████| 92/92 [00:24<00:00,  3.80it/s]\n"
          ]
        },
        {
          "output_type": "stream",
          "name": "stdout",
          "text": [
            "Validation Error: \n",
            " Accuracy: 79.2%, Avg loss: 0.722397 \n",
            "\n",
            "Epoch 4\n",
            "-------------------------------\n"
          ]
        },
        {
          "output_type": "stream",
          "name": "stderr",
          "text": [
            "loss: 1.631821  Batch:[   91/   92]: 100%|██████████| 92/92 [00:24<00:00,  3.78it/s]\n"
          ]
        },
        {
          "output_type": "stream",
          "name": "stdout",
          "text": [
            "Validation Error: \n",
            " Accuracy: 80.4%, Avg loss: 0.745404 \n",
            "\n",
            "Epoch 5\n",
            "-------------------------------\n"
          ]
        },
        {
          "output_type": "stream",
          "name": "stderr",
          "text": [
            "loss: 1.141330  Batch:[   91/   92]: 100%|██████████| 92/92 [00:24<00:00,  3.81it/s]\n"
          ]
        },
        {
          "output_type": "stream",
          "name": "stdout",
          "text": [
            "Validation Error: \n",
            " Accuracy: 86.0%, Avg loss: 0.576259 \n",
            "\n",
            "Epoch 6\n",
            "-------------------------------\n"
          ]
        },
        {
          "output_type": "stream",
          "name": "stderr",
          "text": [
            "loss: 0.409699  Batch:[   91/   92]: 100%|██████████| 92/92 [00:23<00:00,  3.89it/s]\n"
          ]
        },
        {
          "output_type": "stream",
          "name": "stdout",
          "text": [
            "Validation Error: \n",
            " Accuracy: 86.1%, Avg loss: 0.483805 \n",
            "\n",
            "Epoch 7\n",
            "-------------------------------\n"
          ]
        },
        {
          "output_type": "stream",
          "name": "stderr",
          "text": [
            "loss: 1.838822  Batch:[   91/   92]: 100%|██████████| 92/92 [00:23<00:00,  3.84it/s]\n"
          ]
        },
        {
          "output_type": "stream",
          "name": "stdout",
          "text": [
            "Validation Error: \n",
            " Accuracy: 86.8%, Avg loss: 0.558695 \n",
            "\n",
            "Epoch 8\n",
            "-------------------------------\n"
          ]
        },
        {
          "output_type": "stream",
          "name": "stderr",
          "text": [
            "loss: 1.637654  Batch:[   91/   92]: 100%|██████████| 92/92 [00:24<00:00,  3.83it/s]\n"
          ]
        },
        {
          "output_type": "stream",
          "name": "stdout",
          "text": [
            "Validation Error: \n",
            " Accuracy: 88.3%, Avg loss: 0.437807 \n",
            "\n",
            "Epoch 9\n",
            "-------------------------------\n"
          ]
        },
        {
          "output_type": "stream",
          "name": "stderr",
          "text": [
            "loss: 1.723615  Batch:[   91/   92]: 100%|██████████| 92/92 [00:23<00:00,  3.85it/s]\n"
          ]
        },
        {
          "output_type": "stream",
          "name": "stdout",
          "text": [
            "Validation Error: \n",
            " Accuracy: 90.8%, Avg loss: 0.457760 \n",
            "\n",
            "Epoch 10\n",
            "-------------------------------\n"
          ]
        },
        {
          "output_type": "stream",
          "name": "stderr",
          "text": [
            "loss: 1.714965  Batch:[   91/   92]: 100%|██████████| 92/92 [00:23<00:00,  3.87it/s]\n"
          ]
        },
        {
          "output_type": "stream",
          "name": "stdout",
          "text": [
            "Validation Error: \n",
            " Accuracy: 91.3%, Avg loss: 0.468747 \n",
            "\n",
            "Epoch 11\n",
            "-------------------------------\n"
          ]
        },
        {
          "output_type": "stream",
          "name": "stderr",
          "text": [
            "loss: 1.921113  Batch:[   91/   92]: 100%|██████████| 92/92 [00:23<00:00,  4.00it/s]\n"
          ]
        },
        {
          "output_type": "stream",
          "name": "stdout",
          "text": [
            "Validation Error: \n",
            " Accuracy: 90.5%, Avg loss: 0.499539 \n",
            "\n",
            "Epoch 12\n",
            "-------------------------------\n"
          ]
        },
        {
          "output_type": "stream",
          "name": "stderr",
          "text": [
            "loss: 1.640520  Batch:[   91/   92]: 100%|██████████| 92/92 [00:22<00:00,  4.11it/s]\n"
          ]
        },
        {
          "output_type": "stream",
          "name": "stdout",
          "text": [
            "Validation Error: \n",
            " Accuracy: 91.2%, Avg loss: 0.430249 \n",
            "\n",
            "Epoch 13\n",
            "-------------------------------\n"
          ]
        },
        {
          "output_type": "stream",
          "name": "stderr",
          "text": [
            "loss: 1.627282  Batch:[   91/   92]: 100%|██████████| 92/92 [00:22<00:00,  4.10it/s]\n"
          ]
        },
        {
          "output_type": "stream",
          "name": "stdout",
          "text": [
            "Validation Error: \n",
            " Accuracy: 87.0%, Avg loss: 0.557876 \n",
            "\n",
            "Epoch 14\n",
            "-------------------------------\n"
          ]
        },
        {
          "output_type": "stream",
          "name": "stderr",
          "text": [
            "loss: 1.183576  Batch:[   91/   92]: 100%|██████████| 92/92 [00:21<00:00,  4.22it/s]\n"
          ]
        },
        {
          "output_type": "stream",
          "name": "stdout",
          "text": [
            "Validation Error: \n",
            " Accuracy: 89.0%, Avg loss: 0.472775 \n",
            "\n",
            "Epoch 15\n",
            "-------------------------------\n"
          ]
        },
        {
          "output_type": "stream",
          "name": "stderr",
          "text": [
            "loss: 2.215917  Batch:[   91/   92]: 100%|██████████| 92/92 [00:21<00:00,  4.25it/s]\n"
          ]
        },
        {
          "output_type": "stream",
          "name": "stdout",
          "text": [
            "Validation Error: \n",
            " Accuracy: 89.5%, Avg loss: 0.530226 \n",
            "\n",
            "Epoch 16\n",
            "-------------------------------\n"
          ]
        },
        {
          "output_type": "stream",
          "name": "stderr",
          "text": [
            "loss: 1.786082  Batch:[   91/   92]: 100%|██████████| 92/92 [00:22<00:00,  4.17it/s]\n"
          ]
        },
        {
          "output_type": "stream",
          "name": "stdout",
          "text": [
            "Validation Error: \n",
            " Accuracy: 90.2%, Avg loss: 0.484666 \n",
            "\n",
            "Epoch 17\n",
            "-------------------------------\n"
          ]
        },
        {
          "output_type": "stream",
          "name": "stderr",
          "text": [
            "loss: 1.546061  Batch:[   91/   92]: 100%|██████████| 92/92 [00:22<00:00,  4.13it/s]\n"
          ]
        },
        {
          "output_type": "stream",
          "name": "stdout",
          "text": [
            "Validation Error: \n",
            " Accuracy: 92.3%, Avg loss: 0.477997 \n",
            "\n",
            "Early stopping!\n",
            "Training done!\n",
            "Best achieved validation loss: 0.4302492122287336\n",
            "Best achieved validation loss: 0.4302492122287336\n"
          ]
        },
        {
          "output_type": "display_data",
          "data": {
            "text/plain": [
              "<Figure size 1200x600 with 2 Axes>"
            ],
            "image/png": "[encoded data removed]"
          },
          "metadata": {}
        }
      ]
    },
    {
      "cell_type": "code",
      "source": [
        "\n",
        "# load cutmix model\n",
        "model.load_state_dict(torch.load('resnet34_cutmix2.pth'))\n",
        "\n",
        "# unfreeze layer 4\n",
        "for param in model.layer3.parameters():\n",
        "    param.requires_grad = True\n",
        "\n",
        "for param in model.layer4.parameters():\n",
        "    param.requires_grad = True\n",
        "for param in model.fc.parameters():\n",
        "    param.requires_grad = True\n",
        "\n",
        "optimizer = torch.optim.Adam([\n",
        "        {'params': model.layer4.parameters(), 'lr': 1e-4},\n",
        "    ], lr=1e-4, weight_decay=1e-4)\n",
        "\n",
        "# train the model\n",
        "cutmix_8 = data_aug_extension(model=model, data_aug='CUTMIX', optimizer=optimizer, patience=25)\n",
        "create_graphs(cutmix_8, 'extension_graphs/resnet_34cutmix8')\n",
        "print(f\"Best achieved validation loss: {min([res['validation_loss'] for res in cutmix_8['val_res']])}\")\n",
        "model.load_state_dict(torch.load('best_model_loss.pth'))\n",
        "# save\n",
        "torch.save(model.state_dict(), 'resnet34_cutmix8.pth')"
      ],
      "metadata": {
        "colab": {
          "base_uri": "https://localhost:8080/",
          "height": 1000
        },
        "id": "xN8B6ieA9T7S",
        "outputId": "b785f49e-c391-4d28-e95b-7c6b59249ace"
      },
      "execution_count": 35,
      "outputs": [
        {
          "output_type": "stream",
          "name": "stdout",
          "text": [
            "Epoch 1\n",
            "-------------------------------\n"
          ]
        },
        {
          "output_type": "stream",
          "name": "stderr",
          "text": [
            "loss: 1.604952  Batch:[   91/   92]: 100%|██████████| 92/92 [00:25<00:00,  3.64it/s]\n"
          ]
        },
        {
          "output_type": "stream",
          "name": "stdout",
          "text": [
            "Validation Error: \n",
            " Accuracy: 92.0%, Avg loss: 0.447913 \n",
            "\n",
            "Epoch 2\n",
            "-------------------------------\n"
          ]
        },
        {
          "output_type": "stream",
          "name": "stderr",
          "text": [
            "loss: 1.067233  Batch:[   91/   92]: 100%|██████████| 92/92 [00:28<00:00,  3.25it/s]\n"
          ]
        },
        {
          "output_type": "stream",
          "name": "stdout",
          "text": [
            "Validation Error: \n",
            " Accuracy: 90.1%, Avg loss: 0.490985 \n",
            "\n",
            "Epoch 3\n",
            "-------------------------------\n"
          ]
        },
        {
          "output_type": "stream",
          "name": "stderr",
          "text": [
            "loss: 1.463164  Batch:[   91/   92]: 100%|██████████| 92/92 [00:24<00:00,  3.81it/s]\n"
          ]
        },
        {
          "output_type": "stream",
          "name": "stdout",
          "text": [
            "Validation Error: \n",
            " Accuracy: 93.6%, Avg loss: 0.399469 \n",
            "\n",
            "Epoch 4\n",
            "-------------------------------\n"
          ]
        },
        {
          "output_type": "stream",
          "name": "stderr",
          "text": [
            "loss: 1.487130  Batch:[   91/   92]: 100%|██████████| 92/92 [00:22<00:00,  4.01it/s]\n"
          ]
        },
        {
          "output_type": "stream",
          "name": "stdout",
          "text": [
            "Validation Error: \n",
            " Accuracy: 92.1%, Avg loss: 0.385873 \n",
            "\n",
            "Epoch 5\n",
            "-------------------------------\n"
          ]
        },
        {
          "output_type": "stream",
          "name": "stderr",
          "text": [
            "loss: 1.394451  Batch:[   91/   92]: 100%|██████████| 92/92 [00:22<00:00,  4.01it/s]\n"
          ]
        },
        {
          "output_type": "stream",
          "name": "stdout",
          "text": [
            "Validation Error: \n",
            " Accuracy: 90.9%, Avg loss: 0.415097 \n",
            "\n",
            "Epoch 6\n",
            "-------------------------------\n"
          ]
        },
        {
          "output_type": "stream",
          "name": "stderr",
          "text": [
            "loss: 1.069226  Batch:[   91/   92]: 100%|██████████| 92/92 [00:22<00:00,  4.04it/s]\n"
          ]
        },
        {
          "output_type": "stream",
          "name": "stdout",
          "text": [
            "Validation Error: \n",
            " Accuracy: 91.4%, Avg loss: 0.505984 \n",
            "\n",
            "Epoch 7\n",
            "-------------------------------\n"
          ]
        },
        {
          "output_type": "stream",
          "name": "stderr",
          "text": [
            "loss: 1.505483  Batch:[   91/   92]: 100%|██████████| 92/92 [00:23<00:00,  3.99it/s]\n"
          ]
        },
        {
          "output_type": "stream",
          "name": "stdout",
          "text": [
            "Validation Error: \n",
            " Accuracy: 91.3%, Avg loss: 0.399388 \n",
            "\n",
            "Epoch 8\n",
            "-------------------------------\n"
          ]
        },
        {
          "output_type": "stream",
          "name": "stderr",
          "text": [
            "loss: 1.452428  Batch:[   91/   92]: 100%|██████████| 92/92 [00:22<00:00,  4.02it/s]\n"
          ]
        },
        {
          "output_type": "stream",
          "name": "stdout",
          "text": [
            "Validation Error: \n",
            " Accuracy: 90.2%, Avg loss: 0.429977 \n",
            "\n",
            "Epoch 9\n",
            "-------------------------------\n"
          ]
        },
        {
          "output_type": "stream",
          "name": "stderr",
          "text": [
            "loss: 1.405905  Batch:[   91/   92]: 100%|██████████| 92/92 [00:23<00:00,  3.98it/s]\n"
          ]
        },
        {
          "output_type": "stream",
          "name": "stdout",
          "text": [
            "Validation Error: \n",
            " Accuracy: 91.8%, Avg loss: 0.362641 \n",
            "\n",
            "Epoch 10\n",
            "-------------------------------\n"
          ]
        },
        {
          "output_type": "stream",
          "name": "stderr",
          "text": [
            "loss: 0.606032  Batch:[   91/   92]: 100%|██████████| 92/92 [00:22<00:00,  4.01it/s]\n"
          ]
        },
        {
          "output_type": "stream",
          "name": "stdout",
          "text": [
            "Validation Error: \n",
            " Accuracy: 89.4%, Avg loss: 0.440322 \n",
            "\n",
            "Epoch 11\n",
            "-------------------------------\n"
          ]
        },
        {
          "output_type": "stream",
          "name": "stderr",
          "text": [
            "loss: 1.265214  Batch:[   91/   92]: 100%|██████████| 92/92 [00:23<00:00,  4.00it/s]\n"
          ]
        },
        {
          "output_type": "stream",
          "name": "stdout",
          "text": [
            "Validation Error: \n",
            " Accuracy: 91.0%, Avg loss: 0.445278 \n",
            "\n",
            "Epoch 12\n",
            "-------------------------------\n"
          ]
        },
        {
          "output_type": "stream",
          "name": "stderr",
          "text": [
            "loss: 1.406980  Batch:[   91/   92]: 100%|██████████| 92/92 [00:23<00:00,  3.88it/s]\n"
          ]
        },
        {
          "output_type": "stream",
          "name": "stdout",
          "text": [
            "Validation Error: \n",
            " Accuracy: 91.7%, Avg loss: 0.392472 \n",
            "\n",
            "Epoch 13\n",
            "-------------------------------\n"
          ]
        },
        {
          "output_type": "stream",
          "name": "stderr",
          "text": [
            "loss: 1.233201  Batch:[   91/   92]: 100%|██████████| 92/92 [00:23<00:00,  3.94it/s]\n"
          ]
        },
        {
          "output_type": "stream",
          "name": "stdout",
          "text": [
            "Validation Error: \n",
            " Accuracy: 91.6%, Avg loss: 0.411749 \n",
            "\n",
            "Epoch 14\n",
            "-------------------------------\n"
          ]
        },
        {
          "output_type": "stream",
          "name": "stderr",
          "text": [
            "loss: 0.633325  Batch:[   91/   92]: 100%|██████████| 92/92 [00:24<00:00,  3.83it/s]\n"
          ]
        },
        {
          "output_type": "stream",
          "name": "stdout",
          "text": [
            "Validation Error: \n",
            " Accuracy: 91.7%, Avg loss: 0.391052 \n",
            "\n",
            "Epoch 15\n",
            "-------------------------------\n"
          ]
        },
        {
          "output_type": "stream",
          "name": "stderr",
          "text": [
            "loss: 1.553367  Batch:[   91/   92]: 100%|██████████| 92/92 [00:25<00:00,  3.64it/s]\n"
          ]
        },
        {
          "output_type": "stream",
          "name": "stdout",
          "text": [
            "Validation Error: \n",
            " Accuracy: 92.3%, Avg loss: 0.381562 \n",
            "\n",
            "Epoch 16\n",
            "-------------------------------\n"
          ]
        },
        {
          "output_type": "stream",
          "name": "stderr",
          "text": [
            "loss: 1.242233  Batch:[   91/   92]: 100%|██████████| 92/92 [00:24<00:00,  3.70it/s]\n"
          ]
        },
        {
          "output_type": "stream",
          "name": "stdout",
          "text": [
            "Validation Error: \n",
            " Accuracy: 91.0%, Avg loss: 0.425561 \n",
            "\n",
            "Epoch 17\n",
            "-------------------------------\n"
          ]
        },
        {
          "output_type": "stream",
          "name": "stderr",
          "text": [
            "loss: 1.023346  Batch:[   91/   92]: 100%|██████████| 92/92 [00:24<00:00,  3.69it/s]\n"
          ]
        },
        {
          "output_type": "stream",
          "name": "stdout",
          "text": [
            "Validation Error: \n",
            " Accuracy: 91.4%, Avg loss: 0.450733 \n",
            "\n",
            "Epoch 18\n",
            "-------------------------------\n"
          ]
        },
        {
          "output_type": "stream",
          "name": "stderr",
          "text": [
            "loss: 1.463686  Batch:[   91/   92]: 100%|██████████| 92/92 [00:25<00:00,  3.67it/s]\n"
          ]
        },
        {
          "output_type": "stream",
          "name": "stdout",
          "text": [
            "Validation Error: \n",
            " Accuracy: 90.6%, Avg loss: 0.482398 \n",
            "\n",
            "Epoch 19\n",
            "-------------------------------\n"
          ]
        },
        {
          "output_type": "stream",
          "name": "stderr",
          "text": [
            "loss: 0.827495  Batch:[   91/   92]: 100%|██████████| 92/92 [00:24<00:00,  3.71it/s]\n"
          ]
        },
        {
          "output_type": "stream",
          "name": "stdout",
          "text": [
            "Validation Error: \n",
            " Accuracy: 92.7%, Avg loss: 0.439158 \n",
            "\n",
            "Epoch 20\n",
            "-------------------------------\n"
          ]
        },
        {
          "output_type": "stream",
          "name": "stderr",
          "text": [
            "loss: 1.394133  Batch:[   91/   92]: 100%|██████████| 92/92 [00:25<00:00,  3.61it/s]\n"
          ]
        },
        {
          "output_type": "stream",
          "name": "stdout",
          "text": [
            "Validation Error: \n",
            " Accuracy: 92.0%, Avg loss: 0.443287 \n",
            "\n",
            "Epoch 21\n",
            "-------------------------------\n"
          ]
        },
        {
          "output_type": "stream",
          "name": "stderr",
          "text": [
            "loss: 1.292238  Batch:[   91/   92]: 100%|██████████| 92/92 [00:24<00:00,  3.74it/s]\n"
          ]
        },
        {
          "output_type": "stream",
          "name": "stdout",
          "text": [
            "Validation Error: \n",
            " Accuracy: 91.2%, Avg loss: 0.483271 \n",
            "\n",
            "Epoch 22\n",
            "-------------------------------\n"
          ]
        },
        {
          "output_type": "stream",
          "name": "stderr",
          "text": [
            "loss: 1.131006  Batch:[   91/   92]: 100%|██████████| 92/92 [00:25<00:00,  3.55it/s]\n"
          ]
        },
        {
          "output_type": "stream",
          "name": "stdout",
          "text": [
            "Validation Error: \n",
            " Accuracy: 91.3%, Avg loss: 0.444774 \n",
            "\n",
            "Epoch 23\n",
            "-------------------------------\n"
          ]
        },
        {
          "output_type": "stream",
          "name": "stderr",
          "text": [
            "loss: 1.402002  Batch:[   91/   92]: 100%|██████████| 92/92 [00:26<00:00,  3.48it/s]\n"
          ]
        },
        {
          "output_type": "stream",
          "name": "stdout",
          "text": [
            "Validation Error: \n",
            " Accuracy: 91.8%, Avg loss: 0.442091 \n",
            "\n",
            "Epoch 24\n",
            "-------------------------------\n"
          ]
        },
        {
          "output_type": "stream",
          "name": "stderr",
          "text": [
            "loss: 1.503134  Batch:[   91/   92]: 100%|██████████| 92/92 [00:26<00:00,  3.51it/s]\n"
          ]
        },
        {
          "output_type": "stream",
          "name": "stdout",
          "text": [
            "Validation Error: \n",
            " Accuracy: 90.8%, Avg loss: 0.451614 \n",
            "\n",
            "Epoch 25\n",
            "-------------------------------\n"
          ]
        },
        {
          "output_type": "stream",
          "name": "stderr",
          "text": [
            "loss: 1.195159  Batch:[   91/   92]: 100%|██████████| 92/92 [00:24<00:00,  3.80it/s]\n"
          ]
        },
        {
          "output_type": "stream",
          "name": "stdout",
          "text": [
            "Validation Error: \n",
            " Accuracy: 90.4%, Avg loss: 0.382572 \n",
            "\n",
            "Training done!\n",
            "Best achieved validation loss: 0.3626412645630214\n",
            "Best achieved validation loss: 0.3626412645630214\n"
          ]
        },
        {
          "output_type": "display_data",
          "data": {
            "text/plain": [
              "<Figure size 1200x600 with 2 Axes>"
            ],
            "image/png": "[encoded data removed]"
          },
          "metadata": {}
        }
      ]
    },
    {
      "cell_type": "code",
      "source": [
        "model = models.resnet34(weights='DEFAULT')\n",
        "num_classes = 37\n",
        "# Change the output layer\n",
        "in_features = model.fc.in_features\n",
        "#model.fc = torch.nn.Linear(in_features=in_features, out_features=num_classes, bias=True)\n",
        "model.fc = nn.Linear(in_features, num_classes, bias=True)\n",
        "\n",
        "# train the model\n",
        "# load cutmix model\n",
        "model.load_state_dict(torch.load('resnet34_cutmix2.pth'))\n",
        "\n",
        "for param in model.parameters():\n",
        "    param.requires_grad = False\n",
        "\n",
        "\n",
        "for param in model.layer4.parameters():\n",
        "    param.requires_grad = True\n",
        "for param in model.fc.parameters():\n",
        "    param.requires_grad = True\n",
        "\n",
        "optimizer = torch.optim.Adam([\n",
        "        {'params': model.layer4.parameters(), 'lr': 1e-4},\n",
        "    ], lr=1e-4, weight_decay=1e-4)\n",
        "scheduler = torch.optim.lr_scheduler.ExponentialLR(optimizer, gamma=0.95)\n",
        "# train the model\n",
        "cutmix_9 = data_aug_extension(model=model, data_aug='DEFAULT', optimizer=optimizer, scheduler=scheduler, patience=25)\n",
        "\n",
        "create_graphs(cutmix_9, 'extension_graphs/resnet_34cutmix9')\n",
        "print(f\"Best achieved validation loss: {min([res['validation_loss'] for res in cutmix_9['val_res']])}\")\n",
        "model.load_state_dict(torch.load('best_model_loss.pth'))\n",
        "# save\n",
        "torch.save(model.state_dict(), 'resnet34_cutmix9.pth')\n",
        "\n",
        "# evaluation\n",
        "# load cutmix model\n",
        "model.load_state_dict(torch.load('best_model_loss.pth'))\n",
        "\n",
        "# load in data from original dataset\n",
        "train_data = OxfordIIITPet(root='dataset', split='trainval', target_types='category', transform=resnet34_preprocess, download=True)\n",
        "test_data = OxfordIIITPet(root='dataset', split='test', target_types='category', transform=resnet34_preprocess, download=True)\n",
        "\n",
        "# dataloaders\n",
        "train_dataloader = DataLoader(train_data, batch_size=batch_size, shuffle=True, num_workers=2)\n",
        "test_dataloader = DataLoader(test_data, batch_size=batch_size,shuffle=False, num_workers=2)\n",
        "\n",
        "# freeze all layers\n",
        "for param in model.parameters():\n",
        "    param.requires_grad = False\n",
        "\n",
        "for param in model.fc.parameters():\n",
        "    param.requires_grad = True\n",
        "\n",
        "for param in model.layer4.parameters():\n",
        "    param.requires_grad = True\n",
        "\n",
        "optimizer = torch.optim.Adam(model.parameters(), lr=1e-3, weight_decay=1e-4)\n",
        "\n",
        "scheduler = torch.optim.lr_scheduler.ExponentialLR(optimizer, gamma=0.95)\n",
        "\n",
        "# train for one epoch\n",
        "results = train_model(model, nn.CrossEntropyLoss(), optimizer, train_dataloader, train_dataloader,\n",
        "                      epochs=1, device=device, scheduler=scheduler, data_aug=False)\n",
        "\n",
        "\n",
        "accuracy, test_loss = evaluate_model(test_dataloader, model, nn.CrossEntropyLoss(), device)\n",
        "\n",
        "print(f\"Test Accuracy: {accuracy:.2f}%, Test loss: {test_loss}\")"
      ],
      "metadata": {
        "colab": {
          "base_uri": "https://localhost:8080/",
          "height": 1000
        },
        "id": "aE6vQn6NAsOo",
        "outputId": "5a3b40c1-2bbb-4ba9-aa4d-6fb22c80fd01"
      },
      "execution_count": 48,
      "outputs": [
        {
          "output_type": "stream",
          "name": "stdout",
          "text": [
            "Epoch 1\n",
            "-------------------------------\n"
          ]
        },
        {
          "output_type": "stream",
          "name": "stderr",
          "text": [
            "loss: 0.046787  Batch:[   91/   92]: 100%|██████████| 92/92 [00:22<00:00,  4.04it/s]\n"
          ]
        },
        {
          "output_type": "stream",
          "name": "stdout",
          "text": [
            "Validation Error: \n",
            " Accuracy: 90.5%, Avg loss: 0.266786 \n",
            "\n",
            "Epoch 2\n",
            "-------------------------------\n"
          ]
        },
        {
          "output_type": "stream",
          "name": "stderr",
          "text": [
            "loss: 0.001658  Batch:[   91/   92]: 100%|██████████| 92/92 [00:22<00:00,  4.01it/s]\n"
          ]
        },
        {
          "output_type": "stream",
          "name": "stdout",
          "text": [
            "Validation Error: \n",
            " Accuracy: 91.7%, Avg loss: 0.264222 \n",
            "\n",
            "Epoch 3\n",
            "-------------------------------\n"
          ]
        },
        {
          "output_type": "stream",
          "name": "stderr",
          "text": [
            "loss: 0.017152  Batch:[   91/   92]: 100%|██████████| 92/92 [00:26<00:00,  3.46it/s]\n"
          ]
        },
        {
          "output_type": "stream",
          "name": "stdout",
          "text": [
            "Validation Error: \n",
            " Accuracy: 86.8%, Avg loss: 0.457144 \n",
            "\n",
            "Epoch 4\n",
            "-------------------------------\n"
          ]
        },
        {
          "output_type": "stream",
          "name": "stderr",
          "text": [
            "loss: 0.000906  Batch:[   91/   92]: 100%|██████████| 92/92 [00:24<00:00,  3.70it/s]\n"
          ]
        },
        {
          "output_type": "stream",
          "name": "stdout",
          "text": [
            "Validation Error: \n",
            " Accuracy: 90.8%, Avg loss: 0.331256 \n",
            "\n",
            "Epoch 5\n",
            "-------------------------------\n"
          ]
        },
        {
          "output_type": "stream",
          "name": "stderr",
          "text": [
            "loss: 0.005142  Batch:[   91/   92]: 100%|██████████| 92/92 [00:24<00:00,  3.82it/s]\n"
          ]
        },
        {
          "output_type": "stream",
          "name": "stdout",
          "text": [
            "Validation Error: \n",
            " Accuracy: 91.6%, Avg loss: 0.340076 \n",
            "\n",
            "Epoch 6\n",
            "-------------------------------\n"
          ]
        },
        {
          "output_type": "stream",
          "name": "stderr",
          "text": [
            "loss: 0.010449  Batch:[   91/   92]: 100%|██████████| 92/92 [00:25<00:00,  3.66it/s]\n"
          ]
        },
        {
          "output_type": "stream",
          "name": "stdout",
          "text": [
            "Validation Error: \n",
            " Accuracy: 92.3%, Avg loss: 0.251831 \n",
            "\n",
            "Epoch 7\n",
            "-------------------------------\n"
          ]
        },
        {
          "output_type": "stream",
          "name": "stderr",
          "text": [
            "loss: 0.000740  Batch:[   91/   92]: 100%|██████████| 92/92 [00:24<00:00,  3.80it/s]\n"
          ]
        },
        {
          "output_type": "stream",
          "name": "stdout",
          "text": [
            "Validation Error: \n",
            " Accuracy: 93.6%, Avg loss: 0.238902 \n",
            "\n",
            "Epoch 8\n",
            "-------------------------------\n"
          ]
        },
        {
          "output_type": "stream",
          "name": "stderr",
          "text": [
            "loss: 0.000472  Batch:[   91/   92]: 100%|██████████| 92/92 [00:23<00:00,  3.84it/s]\n"
          ]
        },
        {
          "output_type": "stream",
          "name": "stdout",
          "text": [
            "Validation Error: \n",
            " Accuracy: 94.2%, Avg loss: 0.240887 \n",
            "\n",
            "Epoch 9\n",
            "-------------------------------\n"
          ]
        },
        {
          "output_type": "stream",
          "name": "stderr",
          "text": [
            "loss: 0.000045  Batch:[   91/   92]: 100%|██████████| 92/92 [00:23<00:00,  3.84it/s]\n"
          ]
        },
        {
          "output_type": "stream",
          "name": "stdout",
          "text": [
            "Validation Error: \n",
            " Accuracy: 93.9%, Avg loss: 0.238977 \n",
            "\n",
            "Epoch 10\n",
            "-------------------------------\n"
          ]
        },
        {
          "output_type": "stream",
          "name": "stderr",
          "text": [
            "loss: 0.000046  Batch:[   91/   92]: 100%|██████████| 92/92 [00:23<00:00,  3.98it/s]\n"
          ]
        },
        {
          "output_type": "stream",
          "name": "stdout",
          "text": [
            "Validation Error: \n",
            " Accuracy: 93.9%, Avg loss: 0.241120 \n",
            "\n",
            "Epoch 11\n",
            "-------------------------------\n"
          ]
        },
        {
          "output_type": "stream",
          "name": "stderr",
          "text": [
            "loss: 0.000129  Batch:[   91/   92]: 100%|██████████| 92/92 [00:23<00:00,  3.99it/s]\n"
          ]
        },
        {
          "output_type": "stream",
          "name": "stdout",
          "text": [
            "Validation Error: \n",
            " Accuracy: 94.0%, Avg loss: 0.243457 \n",
            "\n",
            "Epoch 12\n",
            "-------------------------------\n"
          ]
        },
        {
          "output_type": "stream",
          "name": "stderr",
          "text": [
            "loss: 0.000086  Batch:[   91/   92]: 100%|██████████| 92/92 [00:23<00:00,  3.88it/s]\n"
          ]
        },
        {
          "output_type": "stream",
          "name": "stdout",
          "text": [
            "Validation Error: \n",
            " Accuracy: 94.0%, Avg loss: 0.245685 \n",
            "\n",
            "Epoch 13\n",
            "-------------------------------\n"
          ]
        },
        {
          "output_type": "stream",
          "name": "stderr",
          "text": [
            "loss: 0.000039  Batch:[   91/   92]: 100%|██████████| 92/92 [00:23<00:00,  3.86it/s]\n"
          ]
        },
        {
          "output_type": "stream",
          "name": "stdout",
          "text": [
            "Validation Error: \n",
            " Accuracy: 94.0%, Avg loss: 0.248039 \n",
            "\n",
            "Epoch 14\n",
            "-------------------------------\n"
          ]
        },
        {
          "output_type": "stream",
          "name": "stderr",
          "text": [
            "loss: 0.000095  Batch:[   91/   92]: 100%|██████████| 92/92 [00:23<00:00,  3.94it/s]\n"
          ]
        },
        {
          "output_type": "stream",
          "name": "stdout",
          "text": [
            "Validation Error: \n",
            " Accuracy: 94.0%, Avg loss: 0.249807 \n",
            "\n",
            "Epoch 15\n",
            "-------------------------------\n"
          ]
        },
        {
          "output_type": "stream",
          "name": "stderr",
          "text": [
            "loss: 0.000033  Batch:[   91/   92]: 100%|██████████| 92/92 [00:23<00:00,  3.91it/s]\n"
          ]
        },
        {
          "output_type": "stream",
          "name": "stdout",
          "text": [
            "Validation Error: \n",
            " Accuracy: 94.0%, Avg loss: 0.251274 \n",
            "\n",
            "Epoch 16\n",
            "-------------------------------\n"
          ]
        },
        {
          "output_type": "stream",
          "name": "stderr",
          "text": [
            "loss: 0.000020  Batch:[   91/   92]: 100%|██████████| 92/92 [00:25<00:00,  3.66it/s]\n"
          ]
        },
        {
          "output_type": "stream",
          "name": "stdout",
          "text": [
            "Validation Error: \n",
            " Accuracy: 94.2%, Avg loss: 0.252959 \n",
            "\n",
            "Epoch 17\n",
            "-------------------------------\n"
          ]
        },
        {
          "output_type": "stream",
          "name": "stderr",
          "text": [
            "loss: 0.000043  Batch:[   91/   92]: 100%|██████████| 92/92 [00:24<00:00,  3.79it/s]\n"
          ]
        },
        {
          "output_type": "stream",
          "name": "stdout",
          "text": [
            "Validation Error: \n",
            " Accuracy: 94.2%, Avg loss: 0.254506 \n",
            "\n",
            "Epoch 18\n",
            "-------------------------------\n"
          ]
        },
        {
          "output_type": "stream",
          "name": "stderr",
          "text": [
            "loss: 0.000051  Batch:[   91/   92]: 100%|██████████| 92/92 [00:24<00:00,  3.78it/s]\n"
          ]
        },
        {
          "output_type": "stream",
          "name": "stdout",
          "text": [
            "Validation Error: \n",
            " Accuracy: 94.2%, Avg loss: 0.255754 \n",
            "\n",
            "Epoch 19\n",
            "-------------------------------\n"
          ]
        },
        {
          "output_type": "stream",
          "name": "stderr",
          "text": [
            "loss: 0.000032  Batch:[   91/   92]: 100%|██████████| 92/92 [00:23<00:00,  3.84it/s]\n"
          ]
        },
        {
          "output_type": "stream",
          "name": "stdout",
          "text": [
            "Validation Error: \n",
            " Accuracy: 94.3%, Avg loss: 0.256969 \n",
            "\n",
            "Epoch 20\n",
            "-------------------------------\n"
          ]
        },
        {
          "output_type": "stream",
          "name": "stderr",
          "text": [
            "loss: 0.000057  Batch:[   91/   92]: 100%|██████████| 92/92 [00:24<00:00,  3.83it/s]\n"
          ]
        },
        {
          "output_type": "stream",
          "name": "stdout",
          "text": [
            "Validation Error: \n",
            " Accuracy: 94.2%, Avg loss: 0.258211 \n",
            "\n",
            "Epoch 21\n",
            "-------------------------------\n"
          ]
        },
        {
          "output_type": "stream",
          "name": "stderr",
          "text": [
            "loss: 0.000041  Batch:[   91/   92]: 100%|██████████| 92/92 [00:23<00:00,  3.94it/s]\n"
          ]
        },
        {
          "output_type": "stream",
          "name": "stdout",
          "text": [
            "Validation Error: \n",
            " Accuracy: 94.0%, Avg loss: 0.259375 \n",
            "\n",
            "Epoch 22\n",
            "-------------------------------\n"
          ]
        },
        {
          "output_type": "stream",
          "name": "stderr",
          "text": [
            "loss: 0.000009  Batch:[   91/   92]: 100%|██████████| 92/92 [00:22<00:00,  4.01it/s]\n"
          ]
        },
        {
          "output_type": "stream",
          "name": "stdout",
          "text": [
            "Validation Error: \n",
            " Accuracy: 94.2%, Avg loss: 0.260438 \n",
            "\n",
            "Epoch 23\n",
            "-------------------------------\n"
          ]
        },
        {
          "output_type": "stream",
          "name": "stderr",
          "text": [
            "loss: 0.000017  Batch:[   91/   92]: 100%|██████████| 92/92 [00:23<00:00,  3.85it/s]\n"
          ]
        },
        {
          "output_type": "stream",
          "name": "stdout",
          "text": [
            "Validation Error: \n",
            " Accuracy: 94.2%, Avg loss: 0.261384 \n",
            "\n",
            "Epoch 24\n",
            "-------------------------------\n"
          ]
        },
        {
          "output_type": "stream",
          "name": "stderr",
          "text": [
            "loss: 0.000018  Batch:[   91/   92]: 100%|██████████| 92/92 [00:23<00:00,  3.99it/s]\n"
          ]
        },
        {
          "output_type": "stream",
          "name": "stdout",
          "text": [
            "Validation Error: \n",
            " Accuracy: 94.2%, Avg loss: 0.262427 \n",
            "\n",
            "Epoch 25\n",
            "-------------------------------\n"
          ]
        },
        {
          "output_type": "stream",
          "name": "stderr",
          "text": [
            "loss: 0.000014  Batch:[   91/   92]: 100%|██████████| 92/92 [00:22<00:00,  4.06it/s]\n"
          ]
        },
        {
          "output_type": "stream",
          "name": "stdout",
          "text": [
            "Validation Error: \n",
            " Accuracy: 94.3%, Avg loss: 0.263253 \n",
            "\n",
            "Training done!\n",
            "Best achieved validation loss: 0.23890163870933262\n",
            "Best achieved validation loss: 0.23890163870933262\n",
            "Epoch 1\n",
            "-------------------------------\n"
          ]
        },
        {
          "output_type": "stream",
          "name": "stderr",
          "text": [
            "loss: 0.837705  Batch:[  111/  115]: 100%|██████████| 115/115 [00:28<00:00,  3.99it/s]\n"
          ]
        },
        {
          "output_type": "stream",
          "name": "stdout",
          "text": [
            "Validation Error: \n",
            " Accuracy: 74.6%, Avg loss: 0.689910 \n",
            "\n",
            "Training done!\n",
            "Test Accuracy: 69.61%, Test loss: 0.8613415768127078\n"
          ]
        },
        {
          "output_type": "display_data",
          "data": {
            "text/plain": [
              "<Figure size 1200x600 with 2 Axes>"
            ],
            "image/png": "[encoded data removed]"
          },
          "metadata": {}
        }
      ]
    },
    {
      "cell_type": "code",
      "source": [
        "model = models.resnet34(weights='DEFAULT')\n",
        "num_classes = 37\n",
        "# Change the output layer\n",
        "in_features = model.fc.in_features\n",
        "#model.fc = torch.nn.Linear(in_features=in_features, out_features=num_classes, bias=True)\n",
        "model.fc = nn.Linear(in_features, num_classes, bias=True)\n",
        "\n",
        "# train the model\n",
        "# load cutmix model\n",
        "model.load_state_dict(torch.load('resnet34_cutmix2.pth'))\n",
        "\n",
        "for param in model.parameters():\n",
        "    param.requires_grad = False\n",
        "\n",
        "\n",
        "for param in model.layer4.parameters():\n",
        "    param.requires_grad = True\n",
        "for param in model.fc.parameters():\n",
        "    param.requires_grad = True\n",
        "\n",
        "optimizer = torch.optim.Adam([\n",
        "        {'params': model.layer4.parameters(), 'lr': 1e-4},\n",
        "    ], lr=1e-4, weight_decay=1e-4)\n",
        "scheduler = torch.optim.lr_scheduler.ExponentialLR(optimizer, gamma=0.95)\n",
        "# train the model\n",
        "cutmix_10 = data_aug_extension(model=model, data_aug='DEFAULT', optimizer=optimizer, scheduler=scheduler, patience=25)\n",
        "\n",
        "create_graphs(cutmix_10, 'extension_graphs/resnet_34cutmix10')\n",
        "print(f\"Best achieved validation loss: {min([res['validation_loss'] for res in cutmix_10['val_res']])}\")\n",
        "model.load_state_dict(torch.load('best_model_acc.pth'))\n",
        "# save\n",
        "torch.save(model.state_dict(), 'resnet34_cutmix10.pth')\n",
        "\n",
        "# evaluation\n",
        "# load cutmix model\n",
        "model.load_state_dict(torch.load('best_model_acc.pth'))\n",
        "\n",
        "# load in data from original dataset\n",
        "train_data = OxfordIIITPet(root='dataset', split='trainval', target_types='category', transform=resnet34_preprocess, download=True)\n",
        "test_data = OxfordIIITPet(root='dataset', split='test', target_types='category', transform=resnet34_preprocess, download=True)\n",
        "\n",
        "# dataloaders\n",
        "train_dataloader = DataLoader(train_data, batch_size=batch_size, shuffle=True, num_workers=2)\n",
        "test_dataloader = DataLoader(test_data, batch_size=batch_size,shuffle=False, num_workers=2)\n",
        "\n",
        "# freeze all layers\n",
        "for param in model.parameters():\n",
        "    param.requires_grad = False\n",
        "\n",
        "for param in model.fc.parameters():\n",
        "    param.requires_grad = True\n",
        "\n",
        "\n",
        "optimizer = torch.optim.Adam(model.parameters(), lr=1e-3, weight_decay=1e-4)\n",
        "\n",
        "scheduler = torch.optim.lr_scheduler.ExponentialLR(optimizer, gamma=0.95)\n",
        "\n",
        "# train for one epoch\n",
        "results = train_model(model, nn.CrossEntropyLoss(), optimizer, train_dataloader, train_dataloader,\n",
        "                      epochs=1, device=device, scheduler=scheduler, data_aug=False)\n",
        "\n",
        "\n",
        "accuracy, test_loss = evaluate_model(test_dataloader, model, nn.CrossEntropyLoss(), device)\n",
        "\n",
        "print(f\"Test Accuracy: {accuracy:.2f}%, Test loss: {test_loss}\")"
      ],
      "metadata": {
        "colab": {
          "base_uri": "https://localhost:8080/",
          "height": 1000
        },
        "id": "b7Joz1j4Jt75",
        "outputId": "584129ed-2aa6-4ee0-9751-f08f21268b1d"
      },
      "execution_count": 49,
      "outputs": [
        {
          "output_type": "stream",
          "name": "stdout",
          "text": [
            "Epoch 1\n",
            "-------------------------------\n"
          ]
        },
        {
          "output_type": "stream",
          "name": "stderr",
          "text": [
            "loss: 0.015091  Batch:[   91/   92]: 100%|██████████| 92/92 [00:23<00:00,  3.97it/s]\n"
          ]
        },
        {
          "output_type": "stream",
          "name": "stdout",
          "text": [
            "Validation Error: \n",
            " Accuracy: 91.0%, Avg loss: 0.276073 \n",
            "\n",
            "Epoch 2\n",
            "-------------------------------\n"
          ]
        },
        {
          "output_type": "stream",
          "name": "stderr",
          "text": [
            "loss: 0.031905  Batch:[   91/   92]: 100%|██████████| 92/92 [00:23<00:00,  3.92it/s]\n"
          ]
        },
        {
          "output_type": "stream",
          "name": "stdout",
          "text": [
            "Validation Error: \n",
            " Accuracy: 91.3%, Avg loss: 0.365559 \n",
            "\n",
            "Epoch 3\n",
            "-------------------------------\n"
          ]
        },
        {
          "output_type": "stream",
          "name": "stderr",
          "text": [
            "loss: 0.004744  Batch:[   91/   92]: 100%|██████████| 92/92 [00:23<00:00,  3.88it/s]\n"
          ]
        },
        {
          "output_type": "stream",
          "name": "stdout",
          "text": [
            "Validation Error: \n",
            " Accuracy: 91.8%, Avg loss: 0.264683 \n",
            "\n",
            "Epoch 4\n",
            "-------------------------------\n"
          ]
        },
        {
          "output_type": "stream",
          "name": "stderr",
          "text": [
            "loss: 0.006851  Batch:[   91/   92]: 100%|██████████| 92/92 [00:23<00:00,  3.86it/s]\n"
          ]
        },
        {
          "output_type": "stream",
          "name": "stdout",
          "text": [
            "Validation Error: \n",
            " Accuracy: 89.1%, Avg loss: 0.410631 \n",
            "\n",
            "Epoch 5\n",
            "-------------------------------\n"
          ]
        },
        {
          "output_type": "stream",
          "name": "stderr",
          "text": [
            "loss: 0.006997  Batch:[   91/   92]: 100%|██████████| 92/92 [00:23<00:00,  3.98it/s]\n"
          ]
        },
        {
          "output_type": "stream",
          "name": "stdout",
          "text": [
            "Validation Error: \n",
            " Accuracy: 92.5%, Avg loss: 0.252283 \n",
            "\n",
            "Epoch 6\n",
            "-------------------------------\n"
          ]
        },
        {
          "output_type": "stream",
          "name": "stderr",
          "text": [
            "loss: 0.001891  Batch:[   91/   92]: 100%|██████████| 92/92 [00:24<00:00,  3.83it/s]\n"
          ]
        },
        {
          "output_type": "stream",
          "name": "stdout",
          "text": [
            "Validation Error: \n",
            " Accuracy: 92.7%, Avg loss: 0.215885 \n",
            "\n",
            "Epoch 7\n",
            "-------------------------------\n"
          ]
        },
        {
          "output_type": "stream",
          "name": "stderr",
          "text": [
            "loss: 0.000427  Batch:[   91/   92]: 100%|██████████| 92/92 [00:26<00:00,  3.50it/s]\n"
          ]
        },
        {
          "output_type": "stream",
          "name": "stdout",
          "text": [
            "Validation Error: \n",
            " Accuracy: 92.4%, Avg loss: 0.235110 \n",
            "\n",
            "Epoch 8\n",
            "-------------------------------\n"
          ]
        },
        {
          "output_type": "stream",
          "name": "stderr",
          "text": [
            "loss: 0.000819  Batch:[   91/   92]: 100%|██████████| 92/92 [00:25<00:00,  3.57it/s]\n"
          ]
        },
        {
          "output_type": "stream",
          "name": "stdout",
          "text": [
            "Validation Error: \n",
            " Accuracy: 92.9%, Avg loss: 0.243570 \n",
            "\n",
            "Epoch 9\n",
            "-------------------------------\n"
          ]
        },
        {
          "output_type": "stream",
          "name": "stderr",
          "text": [
            "loss: 0.000919  Batch:[   91/   92]: 100%|██████████| 92/92 [00:25<00:00,  3.56it/s]\n"
          ]
        },
        {
          "output_type": "stream",
          "name": "stdout",
          "text": [
            "Validation Error: \n",
            " Accuracy: 93.6%, Avg loss: 0.218492 \n",
            "\n",
            "Epoch 10\n",
            "-------------------------------\n"
          ]
        },
        {
          "output_type": "stream",
          "name": "stderr",
          "text": [
            "loss: 0.000229  Batch:[   91/   92]: 100%|██████████| 92/92 [00:26<00:00,  3.49it/s]\n"
          ]
        },
        {
          "output_type": "stream",
          "name": "stdout",
          "text": [
            "Validation Error: \n",
            " Accuracy: 93.5%, Avg loss: 0.227397 \n",
            "\n",
            "Epoch 11\n",
            "-------------------------------\n"
          ]
        },
        {
          "output_type": "stream",
          "name": "stderr",
          "text": [
            "loss: 0.000076  Batch:[   91/   92]: 100%|██████████| 92/92 [00:25<00:00,  3.56it/s]\n"
          ]
        },
        {
          "output_type": "stream",
          "name": "stdout",
          "text": [
            "Validation Error: \n",
            " Accuracy: 93.9%, Avg loss: 0.233084 \n",
            "\n",
            "Epoch 12\n",
            "-------------------------------\n"
          ]
        },
        {
          "output_type": "stream",
          "name": "stderr",
          "text": [
            "loss: 0.000055  Batch:[   91/   92]: 100%|██████████| 92/92 [00:25<00:00,  3.56it/s]\n"
          ]
        },
        {
          "output_type": "stream",
          "name": "stdout",
          "text": [
            "Validation Error: \n",
            " Accuracy: 93.8%, Avg loss: 0.236789 \n",
            "\n",
            "Epoch 13\n",
            "-------------------------------\n"
          ]
        },
        {
          "output_type": "stream",
          "name": "stderr",
          "text": [
            "loss: 0.000089  Batch:[   91/   92]: 100%|██████████| 92/92 [00:25<00:00,  3.57it/s]\n"
          ]
        },
        {
          "output_type": "stream",
          "name": "stdout",
          "text": [
            "Validation Error: \n",
            " Accuracy: 93.6%, Avg loss: 0.239657 \n",
            "\n",
            "Epoch 14\n",
            "-------------------------------\n"
          ]
        },
        {
          "output_type": "stream",
          "name": "stderr",
          "text": [
            "loss: 0.000105  Batch:[   91/   92]: 100%|██████████| 92/92 [00:25<00:00,  3.61it/s]\n"
          ]
        },
        {
          "output_type": "stream",
          "name": "stdout",
          "text": [
            "Validation Error: \n",
            " Accuracy: 93.8%, Avg loss: 0.242779 \n",
            "\n",
            "Epoch 15\n",
            "-------------------------------\n"
          ]
        },
        {
          "output_type": "stream",
          "name": "stderr",
          "text": [
            "loss: 0.000060  Batch:[   91/   92]: 100%|██████████| 92/92 [00:24<00:00,  3.71it/s]\n"
          ]
        },
        {
          "output_type": "stream",
          "name": "stdout",
          "text": [
            "Validation Error: \n",
            " Accuracy: 93.8%, Avg loss: 0.245165 \n",
            "\n",
            "Epoch 16\n",
            "-------------------------------\n"
          ]
        },
        {
          "output_type": "stream",
          "name": "stderr",
          "text": [
            "loss: 0.000094  Batch:[   91/   92]: 100%|██████████| 92/92 [00:23<00:00,  3.94it/s]\n"
          ]
        },
        {
          "output_type": "stream",
          "name": "stdout",
          "text": [
            "Validation Error: \n",
            " Accuracy: 93.8%, Avg loss: 0.247538 \n",
            "\n",
            "Epoch 17\n",
            "-------------------------------\n"
          ]
        },
        {
          "output_type": "stream",
          "name": "stderr",
          "text": [
            "loss: 0.000064  Batch:[   91/   92]: 100%|██████████| 92/92 [00:23<00:00,  3.85it/s]\n"
          ]
        },
        {
          "output_type": "stream",
          "name": "stdout",
          "text": [
            "Validation Error: \n",
            " Accuracy: 93.9%, Avg loss: 0.249752 \n",
            "\n",
            "Epoch 18\n",
            "-------------------------------\n"
          ]
        },
        {
          "output_type": "stream",
          "name": "stderr",
          "text": [
            "loss: 0.000031  Batch:[   91/   92]: 100%|██████████| 92/92 [00:24<00:00,  3.80it/s]\n"
          ]
        },
        {
          "output_type": "stream",
          "name": "stdout",
          "text": [
            "Validation Error: \n",
            " Accuracy: 94.0%, Avg loss: 0.252275 \n",
            "\n",
            "Epoch 19\n",
            "-------------------------------\n"
          ]
        },
        {
          "output_type": "stream",
          "name": "stderr",
          "text": [
            "loss: 0.000058  Batch:[   91/   92]: 100%|██████████| 92/92 [00:24<00:00,  3.79it/s]\n"
          ]
        },
        {
          "output_type": "stream",
          "name": "stdout",
          "text": [
            "Validation Error: \n",
            " Accuracy: 94.2%, Avg loss: 0.254842 \n",
            "\n",
            "Epoch 20\n",
            "-------------------------------\n"
          ]
        },
        {
          "output_type": "stream",
          "name": "stderr",
          "text": [
            "loss: 0.000031  Batch:[   91/   92]: 100%|██████████| 92/92 [00:31<00:00,  2.95it/s]\n"
          ]
        },
        {
          "output_type": "stream",
          "name": "stdout",
          "text": [
            "Validation Error: \n",
            " Accuracy: 94.0%, Avg loss: 0.257502 \n",
            "\n",
            "Epoch 21\n",
            "-------------------------------\n"
          ]
        },
        {
          "output_type": "stream",
          "name": "stderr",
          "text": [
            "loss: 0.000020  Batch:[   91/   92]: 100%|██████████| 92/92 [00:28<00:00,  3.24it/s]\n"
          ]
        },
        {
          "output_type": "stream",
          "name": "stdout",
          "text": [
            "Validation Error: \n",
            " Accuracy: 94.0%, Avg loss: 0.260749 \n",
            "\n",
            "Epoch 22\n",
            "-------------------------------\n"
          ]
        },
        {
          "output_type": "stream",
          "name": "stderr",
          "text": [
            "loss: 0.000008  Batch:[   91/   92]: 100%|██████████| 92/92 [00:24<00:00,  3.75it/s]\n"
          ]
        },
        {
          "output_type": "stream",
          "name": "stdout",
          "text": [
            "Validation Error: \n",
            " Accuracy: 94.0%, Avg loss: 0.264754 \n",
            "\n",
            "Epoch 23\n",
            "-------------------------------\n"
          ]
        },
        {
          "output_type": "stream",
          "name": "stderr",
          "text": [
            "loss: 0.000037  Batch:[   91/   92]: 100%|██████████| 92/92 [00:23<00:00,  3.84it/s]\n"
          ]
        },
        {
          "output_type": "stream",
          "name": "stdout",
          "text": [
            "Validation Error: \n",
            " Accuracy: 94.0%, Avg loss: 0.268942 \n",
            "\n",
            "Epoch 24\n",
            "-------------------------------\n"
          ]
        },
        {
          "output_type": "stream",
          "name": "stderr",
          "text": [
            "loss: 0.000011  Batch:[   91/   92]: 100%|██████████| 92/92 [00:24<00:00,  3.69it/s]\n"
          ]
        },
        {
          "output_type": "stream",
          "name": "stdout",
          "text": [
            "Validation Error: \n",
            " Accuracy: 94.0%, Avg loss: 0.274302 \n",
            "\n",
            "Epoch 25\n",
            "-------------------------------\n"
          ]
        },
        {
          "output_type": "stream",
          "name": "stderr",
          "text": [
            "loss: 0.000007  Batch:[   91/   92]: 100%|██████████| 92/92 [00:26<00:00,  3.51it/s]\n"
          ]
        },
        {
          "output_type": "stream",
          "name": "stdout",
          "text": [
            "Validation Error: \n",
            " Accuracy: 93.9%, Avg loss: 0.278991 \n",
            "\n",
            "Training done!\n",
            "Best achieved validation loss: 0.21588462364414465\n",
            "Best achieved validation loss: 0.21588462364414465\n",
            "Epoch 1\n",
            "-------------------------------\n"
          ]
        },
        {
          "output_type": "stream",
          "name": "stderr",
          "text": [
            "loss: 0.004116  Batch:[  111/  115]: 100%|██████████| 115/115 [00:29<00:00,  3.90it/s]\n"
          ]
        },
        {
          "output_type": "stream",
          "name": "stdout",
          "text": [
            "Validation Error: \n",
            " Accuracy: 98.8%, Avg loss: 0.045858 \n",
            "\n",
            "Training done!\n",
            "Test Accuracy: 89.15%, Test loss: 0.5481256507904302\n"
          ]
        },
        {
          "output_type": "display_data",
          "data": {
            "text/plain": [
              "<Figure size 1200x600 with 2 Axes>"
            ],
            "image/png": "[encoded data removed]"
          },
          "metadata": {}
        }
      ]
    },
    {
      "cell_type": "code",
      "source": [
        "model = models.resnet34(weights='DEFAULT')\n",
        "num_classes = 37\n",
        "# Change the output layer\n",
        "in_features = model.fc.in_features\n",
        "#model.fc = torch.nn.Linear(in_features=in_features, out_features=num_classes, bias=True)\n",
        "model.fc = nn.Linear(in_features, num_classes, bias=True)\n",
        "\n",
        "# train the model\n",
        "# load cutmix model\n",
        "model.load_state_dict(torch.load('resnet34_cutmix2.pth'))\n",
        "\n",
        "for param in model.parameters():\n",
        "    param.requires_grad = False\n",
        "\n",
        "\n",
        "for param in model.layer4.parameters():\n",
        "    param.requires_grad = True\n",
        "for param in model.fc.parameters():\n",
        "    param.requires_grad = True\n",
        "\n",
        "optimizer = torch.optim.Adam([\n",
        "        {'params': model.layer4.parameters(), 'lr': 1e-4},\n",
        "    ], lr=1e-4, weight_decay=1e-4)\n",
        "scheduler = torch.optim.lr_scheduler.ExponentialLR(optimizer, gamma=0.95)\n",
        "# train the model\n",
        "cutmix_11 = data_aug_extension(model=model, data_aug='DEFAULT', optimizer=optimizer, scheduler=scheduler, patience=5)\n",
        "\n",
        "create_graphs(cutmix_11, 'extension_graphs/resnet_34cutmix11')\n",
        "print(f\"Best achieved validation loss: {min([res['validation_loss'] for res in cutmix_11['val_res']])}\")\n",
        "model.load_state_dict(torch.load('best_model_loss.pth'))\n",
        "# save\n",
        "torch.save(model.state_dict(), 'resnet34_cutmix11.pth')\n",
        "\n",
        "\n",
        "accuracy, test_loss = evaluate_model(test_dataloader, model, nn.CrossEntropyLoss(), device)\n",
        "\n",
        "print(f\"Test Accuracy: {accuracy:.2f}%, Test loss: {test_loss}\")"
      ],
      "metadata": {
        "colab": {
          "base_uri": "https://localhost:8080/",
          "height": 1000
        },
        "id": "U6WsSxemJo3k",
        "outputId": "25c30759-7182-4c14-af55-6f92d8be0cff"
      },
      "execution_count": 51,
      "outputs": [
        {
          "output_type": "stream",
          "name": "stdout",
          "text": [
            "Epoch 1\n",
            "-------------------------------\n"
          ]
        },
        {
          "output_type": "stream",
          "name": "stderr",
          "text": [
            "loss: 0.106789  Batch:[   91/   92]: 100%|██████████| 92/92 [00:22<00:00,  4.03it/s]\n"
          ]
        },
        {
          "output_type": "stream",
          "name": "stdout",
          "text": [
            "Validation Error: \n",
            " Accuracy: 91.2%, Avg loss: 0.275830 \n",
            "\n",
            "Epoch 2\n",
            "-------------------------------\n"
          ]
        },
        {
          "output_type": "stream",
          "name": "stderr",
          "text": [
            "loss: 0.121650  Batch:[   91/   92]: 100%|██████████| 92/92 [00:22<00:00,  4.02it/s]\n"
          ]
        },
        {
          "output_type": "stream",
          "name": "stdout",
          "text": [
            "Validation Error: \n",
            " Accuracy: 91.7%, Avg loss: 0.269580 \n",
            "\n",
            "Epoch 3\n",
            "-------------------------------\n"
          ]
        },
        {
          "output_type": "stream",
          "name": "stderr",
          "text": [
            "loss: 0.003233  Batch:[   91/   92]: 100%|██████████| 92/92 [00:26<00:00,  3.44it/s]\n"
          ]
        },
        {
          "output_type": "stream",
          "name": "stdout",
          "text": [
            "Validation Error: \n",
            " Accuracy: 90.9%, Avg loss: 0.280019 \n",
            "\n",
            "Epoch 4\n",
            "-------------------------------\n"
          ]
        },
        {
          "output_type": "stream",
          "name": "stderr",
          "text": [
            "loss: 0.000742  Batch:[   91/   92]: 100%|██████████| 92/92 [00:24<00:00,  3.78it/s]\n"
          ]
        },
        {
          "output_type": "stream",
          "name": "stdout",
          "text": [
            "Validation Error: \n",
            " Accuracy: 93.1%, Avg loss: 0.226832 \n",
            "\n",
            "Epoch 5\n",
            "-------------------------------\n"
          ]
        },
        {
          "output_type": "stream",
          "name": "stderr",
          "text": [
            "loss: 0.003741  Batch:[   91/   92]: 100%|██████████| 92/92 [00:24<00:00,  3.74it/s]\n"
          ]
        },
        {
          "output_type": "stream",
          "name": "stdout",
          "text": [
            "Validation Error: \n",
            " Accuracy: 92.1%, Avg loss: 0.253311 \n",
            "\n",
            "Epoch 6\n",
            "-------------------------------\n"
          ]
        },
        {
          "output_type": "stream",
          "name": "stderr",
          "text": [
            "loss: 0.001591  Batch:[   91/   92]: 100%|██████████| 92/92 [00:24<00:00,  3.76it/s]\n"
          ]
        },
        {
          "output_type": "stream",
          "name": "stdout",
          "text": [
            "Validation Error: \n",
            " Accuracy: 92.8%, Avg loss: 0.236336 \n",
            "\n",
            "Epoch 7\n",
            "-------------------------------\n"
          ]
        },
        {
          "output_type": "stream",
          "name": "stderr",
          "text": [
            "loss: 0.000347  Batch:[   91/   92]: 100%|██████████| 92/92 [00:24<00:00,  3.75it/s]\n"
          ]
        },
        {
          "output_type": "stream",
          "name": "stdout",
          "text": [
            "Validation Error: \n",
            " Accuracy: 93.9%, Avg loss: 0.213449 \n",
            "\n",
            "Epoch 8\n",
            "-------------------------------\n"
          ]
        },
        {
          "output_type": "stream",
          "name": "stderr",
          "text": [
            "loss: 0.000064  Batch:[   91/   92]: 100%|██████████| 92/92 [00:24<00:00,  3.72it/s]\n"
          ]
        },
        {
          "output_type": "stream",
          "name": "stdout",
          "text": [
            "Validation Error: \n",
            " Accuracy: 93.5%, Avg loss: 0.219555 \n",
            "\n",
            "Epoch 9\n",
            "-------------------------------\n"
          ]
        },
        {
          "output_type": "stream",
          "name": "stderr",
          "text": [
            "loss: 0.000089  Batch:[   91/   92]: 100%|██████████| 92/92 [00:25<00:00,  3.67it/s]\n"
          ]
        },
        {
          "output_type": "stream",
          "name": "stdout",
          "text": [
            "Validation Error: \n",
            " Accuracy: 93.3%, Avg loss: 0.221386 \n",
            "\n",
            "Epoch 10\n",
            "-------------------------------\n"
          ]
        },
        {
          "output_type": "stream",
          "name": "stderr",
          "text": [
            "loss: 0.000076  Batch:[   91/   92]: 100%|██████████| 92/92 [00:24<00:00,  3.71it/s]\n"
          ]
        },
        {
          "output_type": "stream",
          "name": "stdout",
          "text": [
            "Validation Error: \n",
            " Accuracy: 93.5%, Avg loss: 0.224602 \n",
            "\n",
            "Epoch 11\n",
            "-------------------------------\n"
          ]
        },
        {
          "output_type": "stream",
          "name": "stderr",
          "text": [
            "loss: 0.000041  Batch:[   91/   92]: 100%|██████████| 92/92 [00:25<00:00,  3.56it/s]\n"
          ]
        },
        {
          "output_type": "stream",
          "name": "stdout",
          "text": [
            "Validation Error: \n",
            " Accuracy: 93.5%, Avg loss: 0.227732 \n",
            "\n",
            "Epoch 12\n",
            "-------------------------------\n"
          ]
        },
        {
          "output_type": "stream",
          "name": "stderr",
          "text": [
            "loss: 0.000040  Batch:[   91/   92]: 100%|██████████| 92/92 [00:24<00:00,  3.70it/s]\n"
          ]
        },
        {
          "output_type": "stream",
          "name": "stdout",
          "text": [
            "Validation Error: \n",
            " Accuracy: 93.5%, Avg loss: 0.229928 \n",
            "\n",
            "Early stopping!\n",
            "Training done!\n",
            "Best achieved validation loss: 0.2134487687650582\n",
            "Best achieved validation loss: 0.2134487687650582\n",
            "Test Accuracy: 91.66%, Test loss: 0.3294224402831827\n"
          ]
        },
        {
          "output_type": "display_data",
          "data": {
            "text/plain": [
              "<Figure size 1200x600 with 2 Axes>"
            ],
            "image/png": "[encoded data removed]"
          },
          "metadata": {}
        }
      ]
    },
    {
      "cell_type": "code",
      "source": [
        "def combine_results(dict1, dict2):\n",
        "    train_loss = dict1['train_res']['train_loss'] + dict2['train_res']['train_loss']\n",
        "    train_accuracy = dict1['train_res']['train_accuracy'] + dict2['train_res']['train_accuracy']\n",
        "    validation_loss = dict1['val_res']['validation_loss'] + dict2['val_res']['validation_loss']\n",
        "    validation_acc = dict1['val_res']['validation_acc'] + dict2['val_res']['validation_acc']\n",
        "\n",
        "    return {'train_loss' : train_loss, 'train_accuracy': train_accuracy, 'validation_loss': validation_loss, 'validation_acc': validation_acc}\n"
      ],
      "metadata": {
        "id": "0uT3IJJbQ7F_"
      },
      "execution_count": null,
      "outputs": []
    },
    {
      "cell_type": "code",
      "source": [
        "# plot\n",
        "combined_cutmix = combine_results(cutmixres, cutmix_2)\n",
        "create_graphs(combined_cutmix, 'extension_graphs/resnet_34cutmix_combined')\n",
        "\n",
        "combined_mixup = combine_results(mixupres, mixup_2)\n",
        "create_graphs(combined_mixup, 'extension_graphs/resnet_34mixup_combined')\n",
        "\n",
        "combined_random = combine_results(randomres, random_2)\n",
        "create_graphs(combined_random, 'extension_graphs/resnet_34random_combined')\n",
        "\n",
        "combined_randaug = combine_results(randaugres, randaug_2)\n",
        "create_graphs(combined_randaug, 'extension_graphs/resnet_34randaug_combined')"
      ],
      "metadata": {
        "id": "YuauYMsvQ8Pn"
      },
      "execution_count": null,
      "outputs": []
    }
  ],
  "metadata": {
    "accelerator": "GPU",
    "colab": {
      "gpuType": "T4",
      "provenance": []
    },
    "kernelspec": {
      "display_name": "Python 3",
      "name": "python3"
    },
    "language_info": {
      "codemirror_mode": {
        "name": "ipython",
        "version": 3
      },
      "file_extension": ".py",
      "mimetype": "text/x-python",
      "name": "python",
      "nbconvert_exporter": "python",
      "pygments_lexer": "ipython3",
      "version": "3.11.8"
    }
  },
  "nbformat": 4,
  "nbformat_minor": 0
}