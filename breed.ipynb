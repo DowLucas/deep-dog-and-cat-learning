{
 "cells": [
  {
   "cell_type": "markdown",
   "metadata": {},
   "source": [
    "## Imports\n"
   ]
  },
  {
   "cell_type": "code",
   "execution_count": 208,
   "metadata": {},
   "outputs": [],
   "source": [
    "import os\n",
    "import matplotlib.pyplot as plt\n",
    "\n",
    "import requests\n",
    "import tarfile\n",
    "import os\n",
    "\n",
    "from tqdm import tqdm\n",
    "\n",
    "import torch\n",
    "from torchvision.io import read_image\n",
    "from torch.utils.data import Dataset, DataLoader\n",
    "from torchsummary import summary\n",
    "from torchvision import models\n",
    "from torch import nn\n",
    "\n",
    "\n",
    "os.environ['CUDA_LAUNCH_BLOCKING'] = \"1\"\n",
    "\n",
    "device = torch.device(\"cuda\" if torch.cuda.is_available() else \"cpu\")"
   ]
  },
  {
   "cell_type": "markdown",
   "metadata": {},
   "source": [
    "## Definition of global constants"
   ]
  },
  {
   "cell_type": "code",
   "execution_count": 209,
   "metadata": {},
   "outputs": [],
   "source": [
    "IMG_SIZE = (224,224)\n",
    "IMAGE_PATH = os.path.join(os.getcwd(), 'dataset/images')"
   ]
  },
  {
   "cell_type": "markdown",
   "metadata": {},
   "source": [
    "## Defining transformations"
   ]
  },
  {
   "cell_type": "markdown",
   "metadata": {},
   "source": [
    "Defining transforms for images and labels. These are used for preprocessing each image used in the model"
   ]
  },
  {
   "cell_type": "code",
   "execution_count": 210,
   "metadata": {},
   "outputs": [],
   "source": [
    "from torchvision import transforms\n",
    "from torchvision.transforms import v2\n",
    "\n",
    "from torchvision.models import ResNet34_Weights\n",
    "\n",
    "# get transforms from resnet\n",
    "weights = ResNet34_Weights.DEFAULT\n",
    "resnet_preprocess = weights.transforms() # this is the preprocessing done by resnet34\n",
    "\n",
    "# transforms used are those in https://pytorch.org/vision/stable/transforms.html example\n",
    "train_transform = v2.Compose([\n",
    "    # create random transform list\n",
    "    v2.RandAugment()\n",
    "])\n",
    "\n",
    "val_transform = v2.Compose([\n",
    "    v2.Resize(size=(224, 224), antialias=True),\n",
    "    v2.ToDtype(torch.float32, scale=True),\n",
    "    v2.Normalize(mean=[0.485, 0.456, 0.406], std=[0.229, 0.224, 0.225]),\n",
    "])"
   ]
  },
  {
   "cell_type": "markdown",
   "metadata": {},
   "source": [
    "## Definition of training/testing loops"
   ]
  },
  {
   "cell_type": "markdown",
   "metadata": {},
   "source": [
    "We now define the training/test functions as implemented in \n",
    "https://pytorch.org/tutorials/beginner/basics/optimization_tutorial.html"
   ]
  },
  {
   "cell_type": "code",
   "execution_count": 211,
   "metadata": {},
   "outputs": [],
   "source": [
    "def train_loop(dataloader, model, loss_fn, optimizer, device, DEBUG=True, **kwargs):\n",
    "    \"\"\"\n",
    "    Trains the model provided for one epoch.\n",
    "\n",
    "    Returns:\n",
    "        results : {\n",
    "            'train_loss' : float, this is the average loss over the entire dataset,\n",
    "            'train_accuracy' : float, this is the accuracy over the entire dataset\n",
    "        }\n",
    "    \"\"\"\n",
    "    print_every = int(kwargs.get('print_every', 10))\n",
    "    data_aug = kwargs.get('data_aug', False)\n",
    "\n",
    "    train_loss = 0\n",
    "    train_accuracy = 0\n",
    "\n",
    "    num_batches = len(dataloader)\n",
    "    model.train()\n",
    "    model.to(device)\n",
    "\n",
    "\n",
    "    with tqdm(total=num_batches, dynamic_ncols=True) as pbar:\n",
    "        for batch, (X, y) in enumerate(dataloader):\n",
    "            optimizer.zero_grad()\n",
    "            X, y = X.to(device), y.to(device)\n",
    "\n",
    "            #if data_aug:\n",
    "            #    X = train_transform(X)\n",
    "\n",
    "            pred = model(X)\n",
    "            loss = loss_fn(pred, y)\n",
    "\n",
    "            loss.backward()\n",
    "            optimizer.step()\n",
    "\n",
    "            # update loss and accuracy\n",
    "            train_loss += loss.item()\n",
    "            train_accuracy += (pred.argmax(1) == y).type(torch.float).sum().item()\n",
    "\n",
    "            if DEBUG and batch % print_every == 0:\n",
    "                loss_item = loss.item()\n",
    "                pbar.set_description(f\"loss: {loss_item:>7f}  Batch:[{batch+1:>5d}/{num_batches:>5d}]\")\n",
    "            pbar.update(1)\n",
    "    \n",
    "    train_loss /= num_batches\n",
    "    train_accuracy /= len(dataloader.dataset)\n",
    "    return {\n",
    "        'train_loss' : train_loss,\n",
    "        'train_accuracy' : train_accuracy\n",
    "    }"
   ]
  },
  {
   "cell_type": "code",
   "execution_count": 212,
   "metadata": {},
   "outputs": [],
   "source": [
    "def test_loop(dataloader, model, loss_fn, device):\n",
    "    model.eval()\n",
    "    size = len(dataloader.dataset)\n",
    "    num_batches = len(dataloader)\n",
    "    test_loss, correct = 0, 0\n",
    "    model.to(device)  # Move the model to the device\n",
    "    \n",
    "    with torch.no_grad():\n",
    "        for X, y in dataloader:\n",
    "            X, y = X.to(device), y.to(device)  # Move the data to the device\n",
    "            pred = model(X)\n",
    "            test_loss += loss_fn(pred, y).item()\n",
    "            correct += (pred.argmax(1) == y).type(torch.float).sum().item()\n",
    "\n",
    "    test_loss /= num_batches\n",
    "    correct /= size\n",
    "    print(f\"Validation Error: \\n Accuracy: {(100*correct):>0.1f}%, Avg loss: {test_loss:>8f} \\n\")\n",
    "\n",
    "    return {'validation_loss': test_loss, 'validation_acc': correct}"
   ]
  },
  {
   "cell_type": "code",
   "execution_count": 213,
   "metadata": {},
   "outputs": [],
   "source": [
    "def evaluate_model(dataloader, model, loss_fn, device):\n",
    "    model.eval()\n",
    "    size = len(dataloader.dataset)\n",
    "    num_batches = len(dataloader)\n",
    "    test_loss, correct = 0, 0\n",
    "    model.to(device)  # Move the model to the device\n",
    "    \n",
    "    with torch.no_grad():\n",
    "        for X, y in dataloader:\n",
    "            X, y = X.to(device), y.to(device)  # Move the data to the device\n",
    "            pred = model(X)\n",
    "            test_loss += loss_fn(pred, y).item()\n",
    "            correct += (pred.argmax(1) == y).type(torch.float).sum().item()\n",
    "\n",
    "    test_loss /= num_batches\n",
    "    correct /= size\n",
    "    accuracy = 100*correct\n",
    "    return accuracy, test_loss"
   ]
  },
  {
   "cell_type": "markdown",
   "metadata": {},
   "source": [
    "## We create a function that creates the datasets and loads the data"
   ]
  },
  {
   "cell_type": "code",
   "execution_count": 214,
   "metadata": {},
   "outputs": [],
   "source": [
    "import random\n",
    "from torch.utils.data import Subset\n",
    "from torchvision.datasets import OxfordIIITPet\n",
    "\n",
    "def load_data(**kwargs):\n",
    "    transform = kwargs.get('transform', None)\n",
    "    if transform is not None:\n",
    "        training_transform = v2.Compose([\n",
    "            resnet_preprocess,\n",
    "            transform\n",
    "        ])\n",
    "    else:\n",
    "        training_transform = resnet_preprocess\n",
    "    training_data = OxfordIIITPet(root='dataset', split='trainval', target_types='category', transform=training_transform, download=True)\n",
    "    validation_data = OxfordIIITPet(root='dataset', split='trainval', target_types='category', transform=resnet_preprocess, download=False)\n",
    "    test_data = OxfordIIITPet(root='dataset', split='test', target_types='category', transform=resnet_preprocess, download=False)\n",
    "\n",
    "    # shuffle and split into validation and training\n",
    "    indices = list(range(len(training_data)))\n",
    "    random.seed(310)  # fix the seed\n",
    "    random.shuffle(indices)\n",
    "\n",
    "    train_size = int(0.8 * len(training_data))\n",
    "    train_dataset_split = Subset(training_data, indices[:train_size])\n",
    "    val_dataset_split = Subset(validation_data, indices[train_size:])\n",
    "\n",
    "    return train_dataset_split, val_dataset_split, test_data"
   ]
  },
  {
   "cell_type": "markdown",
   "metadata": {},
   "source": [
    "## We define a function for creating models using different hyperparameters"
   ]
  },
  {
   "cell_type": "code",
   "execution_count": 215,
   "metadata": {},
   "outputs": [],
   "source": [
    "num_classes = 37\n",
    "def create_model(**kwargs):\n",
    "    '''\n",
    "    kwargs:\n",
    "        include_layers : int, the number of layers to include in the model, 0 only includes the final layer, 1 includes the final layer and the last layer before it, etc.\n",
    "        fine_tune_bn : bool, whether to fine tune the batch normalization layers\n",
    "    '''\n",
    "    include_layers = kwargs.get('include_layers', 0)\n",
    "    fine_tune_bn = kwargs.get('fine_tune_bn', False)\n",
    "    \n",
    "    model = models.resnet34(weights='DEFAULT')\n",
    "\n",
    "    layers_to_freeze = len(list(model.children())) - include_layers \n",
    "\n",
    "    # Freeze all layers that are not included\n",
    "    for idx, layer in enumerate(model.children()):\n",
    "        # Freeze batchnorm layers if fine_tune_bn is False\n",
    "        if isinstance(layer, torch.nn.modules.batchnorm.BatchNorm2d) and not fine_tune_bn:\n",
    "            for param in layer.parameters():\n",
    "                param.requires_grad = False\n",
    "        else:\n",
    "            if idx < layers_to_freeze:\n",
    "                for param in layer.parameters():\n",
    "                    param.requires_grad = False\n",
    "\n",
    "    # Change the output layer\n",
    "    in_features = model.fc.in_features\n",
    "    #model.fc = torch.nn.Linear(in_features=in_features, out_features=num_classes, bias=True) \n",
    "    model.fc = torch.nn.Sequential(\n",
    "            nn.Linear(in_features, 512),  # Add a dense layer\n",
    "            nn.ReLU(),                 # Activation function\n",
    "            nn.Dropout(0.4),           # Dropout layer for regularization\n",
    "            nn.Linear(512, num_classes, bias=True) # Final output layer\n",
    "        )\n",
    "    return model"
   ]
  },
  {
   "cell_type": "markdown",
   "metadata": {},
   "source": [
    "## Next we define the training function"
   ]
  },
  {
   "cell_type": "code",
   "execution_count": 216,
   "metadata": {},
   "outputs": [],
   "source": [
    "def train_model(model, loss_fn, optimizer, train_dataloader, val_dataloader, **kwargs):\n",
    "    \"\"\"\n",
    "    Args:\n",
    "        **kwargs : {\n",
    "            'epochs' : int,\n",
    "            'device' : torch.device,\n",
    "            'scheduler' : torch.scheduler,\n",
    "            'data_aug' : bool\n",
    "        }\n",
    "    \"\"\"\n",
    "    epochs = kwargs.get('epochs', 5)\n",
    "    device = kwargs.get('device', torch.device('cpu'))\n",
    "    scheduler = kwargs.get('scheduler', None)\n",
    "\n",
    "    training_results = []\n",
    "    validation_results = []\n",
    "    best_loss = 999\n",
    "    counter = 0\n",
    "\n",
    "    for t in range(epochs):\n",
    "        print(f\"Epoch {t+1}\\n-------------------------------\")\n",
    "        train_res = train_loop(train_dataloader, model, loss_fn, optimizer, **kwargs)\n",
    "        if scheduler is not None:\n",
    "            scheduler.step()\n",
    "        val_res = test_loop(val_dataloader, model, loss_fn, device)\n",
    "\n",
    "        # append data\n",
    "        training_results.append(train_res)\n",
    "        validation_results.append(val_res)\n",
    "\n",
    "        if val_res['validation_loss'] < best_loss:\n",
    "            best_loss = val_res['validation_loss']\n",
    "            counter = 0\n",
    "        else:\n",
    "            counter += 1\n",
    "        # break if not improving for last 5 epochs\n",
    "        if t > 5 and counter == 5:\n",
    "            print(\"Early stopping!\")\n",
    "            break\n",
    "    print(\"Training done!\")\n",
    "\n",
    "    return {'train_res': training_results, 'val_res': validation_results}"
   ]
  },
  {
   "cell_type": "markdown",
   "metadata": {},
   "source": [
    "Lets try training a model"
   ]
  },
  {
   "cell_type": "code",
   "execution_count": 217,
   "metadata": {},
   "outputs": [],
   "source": [
    "# make one graph for accuracy and one for loss\n",
    "import seaborn as sns\n",
    "# use style\n",
    "sns.set_theme(style='whitegrid')\n",
    "\n",
    "def create_graphs(results, filename):\n",
    "    train_loss = [res['train_loss'] for res in results['train_res']]\n",
    "    val_loss = [res['validation_loss'] for res in results['val_res']]\n",
    "\n",
    "    train_acc = [res['train_accuracy'] for res in results['train_res']]\n",
    "\n",
    "    val_acc = [res['validation_acc'] for res in results['val_res']]\n",
    "\n",
    "    fig, ax = plt.subplots(1, 2, figsize=(12, 6))\n",
    "\n",
    "    sns.lineplot(x=range(1, len(train_loss)+1), y=train_loss, ax=ax[0], label='train_loss')\n",
    "    sns.lineplot(x=range(1, len(val_loss)+1), y=val_loss, ax=ax[0], label='val_loss')\n",
    "\n",
    "    sns.lineplot(x=range(1, len(train_acc)+1), y=train_acc, ax=ax[1], label='train_acc')\n",
    "    sns.lineplot(x=range(1, len(val_acc)+1), y=val_acc, ax=ax[1], label='val_acc')\n",
    "\n",
    "    ax[0].set_title('Loss')\n",
    "    ax[1].set_title('Accuracy')\n",
    "\n",
    "    ax[0].set_xlabel('Epochs')\n",
    "    ax[1].set_xlabel('Epochs')\n",
    "\n",
    "    plt.savefig(filename)\n"
   ]
  },
  {
   "cell_type": "markdown",
   "metadata": {},
   "source": [
    "We train the network using said parameters, running the test-loop on the validation set for each epoch to see if the model improves"
   ]
  },
  {
   "cell_type": "code",
   "execution_count": 218,
   "metadata": {},
   "outputs": [
    {
     "name": "stdout",
     "output_type": "stream",
     "text": [
      "Number of experiments: 60\n",
      "Include Layers: 0, Learning Rate: 0.001, Data Augmentation: True, Fine Tune BN: True\n",
      "Epoch 1\n",
      "-------------------------------\n"
     ]
    },
    {
     "name": "stderr",
     "output_type": "stream",
     "text": [
      "loss: 2.628140  Batch:[   41/   46]: 100%|██████████| 46/46 [00:43<00:00,  1.05it/s]\n"
     ]
    },
    {
     "name": "stdout",
     "output_type": "stream",
     "text": [
      "Validation Error: \n",
      " Accuracy: 63.0%, Avg loss: 1.842996 \n",
      "\n",
      "Epoch 2\n",
      "-------------------------------\n"
     ]
    },
    {
     "name": "stderr",
     "output_type": "stream",
     "text": [
      "loss: 1.916046  Batch:[   41/   46]: 100%|██████████| 46/46 [00:44<00:00,  1.04it/s]\n"
     ]
    },
    {
     "name": "stdout",
     "output_type": "stream",
     "text": [
      "Validation Error: \n",
      " Accuracy: 76.6%, Avg loss: 1.042143 \n",
      "\n",
      "Epoch 3\n",
      "-------------------------------\n"
     ]
    },
    {
     "name": "stderr",
     "output_type": "stream",
     "text": [
      "loss: 1.824862  Batch:[   41/   46]: 100%|██████████| 46/46 [00:44<00:00,  1.03it/s]\n"
     ]
    },
    {
     "name": "stdout",
     "output_type": "stream",
     "text": [
      "Validation Error: \n",
      " Accuracy: 79.8%, Avg loss: 0.798568 \n",
      "\n",
      "Epoch 4\n",
      "-------------------------------\n"
     ]
    },
    {
     "name": "stderr",
     "output_type": "stream",
     "text": [
      "loss: 1.382915  Batch:[   41/   46]: 100%|██████████| 46/46 [00:43<00:00,  1.05it/s]\n"
     ]
    },
    {
     "name": "stdout",
     "output_type": "stream",
     "text": [
      "Validation Error: \n",
      " Accuracy: 79.9%, Avg loss: 0.692536 \n",
      "\n",
      "Epoch 5\n",
      "-------------------------------\n"
     ]
    },
    {
     "name": "stderr",
     "output_type": "stream",
     "text": [
      "loss: 1.584468  Batch:[   41/   46]: 100%|██████████| 46/46 [00:43<00:00,  1.05it/s]\n"
     ]
    },
    {
     "name": "stdout",
     "output_type": "stream",
     "text": [
      "Validation Error: \n",
      " Accuracy: 83.2%, Avg loss: 0.615071 \n",
      "\n",
      "Epoch 6\n",
      "-------------------------------\n"
     ]
    },
    {
     "name": "stderr",
     "output_type": "stream",
     "text": [
      "loss: 1.574989  Batch:[   41/   46]: 100%|██████████| 46/46 [00:44<00:00,  1.03it/s]\n"
     ]
    },
    {
     "name": "stdout",
     "output_type": "stream",
     "text": [
      "Validation Error: \n",
      " Accuracy: 84.0%, Avg loss: 0.559443 \n",
      "\n",
      "Epoch 7\n",
      "-------------------------------\n"
     ]
    },
    {
     "name": "stderr",
     "output_type": "stream",
     "text": [
      "loss: 1.522976  Batch:[   41/   46]: 100%|██████████| 46/46 [00:44<00:00,  1.04it/s]\n"
     ]
    },
    {
     "name": "stdout",
     "output_type": "stream",
     "text": [
      "Validation Error: \n",
      " Accuracy: 84.9%, Avg loss: 0.523163 \n",
      "\n",
      "Epoch 8\n",
      "-------------------------------\n"
     ]
    },
    {
     "name": "stderr",
     "output_type": "stream",
     "text": [
      "loss: 1.333343  Batch:[   41/   46]: 100%|██████████| 46/46 [00:44<00:00,  1.04it/s]\n"
     ]
    },
    {
     "name": "stdout",
     "output_type": "stream",
     "text": [
      "Validation Error: \n",
      " Accuracy: 83.8%, Avg loss: 0.530309 \n",
      "\n",
      "Epoch 9\n",
      "-------------------------------\n"
     ]
    },
    {
     "name": "stderr",
     "output_type": "stream",
     "text": [
      "loss: 1.241600  Batch:[   41/   46]: 100%|██████████| 46/46 [00:44<00:00,  1.03it/s]\n"
     ]
    },
    {
     "name": "stdout",
     "output_type": "stream",
     "text": [
      "Validation Error: \n",
      " Accuracy: 84.8%, Avg loss: 0.500185 \n",
      "\n",
      "Epoch 10\n",
      "-------------------------------\n"
     ]
    },
    {
     "name": "stderr",
     "output_type": "stream",
     "text": [
      "loss: 1.443892  Batch:[   41/   46]: 100%|██████████| 46/46 [00:44<00:00,  1.03it/s]\n"
     ]
    },
    {
     "name": "stdout",
     "output_type": "stream",
     "text": [
      "Validation Error: \n",
      " Accuracy: 84.8%, Avg loss: 0.487575 \n",
      "\n",
      "Epoch 11\n",
      "-------------------------------\n"
     ]
    },
    {
     "name": "stderr",
     "output_type": "stream",
     "text": [
      "loss: 1.410048  Batch:[   41/   46]: 100%|██████████| 46/46 [00:43<00:00,  1.05it/s]\n"
     ]
    },
    {
     "name": "stdout",
     "output_type": "stream",
     "text": [
      "Validation Error: \n",
      " Accuracy: 85.3%, Avg loss: 0.491467 \n",
      "\n",
      "Epoch 12\n",
      "-------------------------------\n"
     ]
    },
    {
     "name": "stderr",
     "output_type": "stream",
     "text": [
      "loss: 1.180563  Batch:[   41/   46]: 100%|██████████| 46/46 [00:43<00:00,  1.05it/s]\n"
     ]
    },
    {
     "name": "stdout",
     "output_type": "stream",
     "text": [
      "Validation Error: \n",
      " Accuracy: 87.4%, Avg loss: 0.455198 \n",
      "\n",
      "Epoch 13\n",
      "-------------------------------\n"
     ]
    },
    {
     "name": "stderr",
     "output_type": "stream",
     "text": [
      "loss: 1.358215  Batch:[   41/   46]: 100%|██████████| 46/46 [00:44<00:00,  1.03it/s]\n"
     ]
    },
    {
     "name": "stdout",
     "output_type": "stream",
     "text": [
      "Validation Error: \n",
      " Accuracy: 86.1%, Avg loss: 0.455851 \n",
      "\n",
      "Epoch 14\n",
      "-------------------------------\n"
     ]
    },
    {
     "name": "stderr",
     "output_type": "stream",
     "text": [
      "loss: 1.097346  Batch:[   41/   46]: 100%|██████████| 46/46 [00:43<00:00,  1.05it/s]\n"
     ]
    },
    {
     "name": "stdout",
     "output_type": "stream",
     "text": [
      "Validation Error: \n",
      " Accuracy: 86.0%, Avg loss: 0.449250 \n",
      "\n",
      "Epoch 15\n",
      "-------------------------------\n"
     ]
    },
    {
     "name": "stderr",
     "output_type": "stream",
     "text": [
      "loss: 1.090383  Batch:[   41/   46]: 100%|██████████| 46/46 [00:43<00:00,  1.05it/s]\n"
     ]
    },
    {
     "name": "stdout",
     "output_type": "stream",
     "text": [
      "Validation Error: \n",
      " Accuracy: 87.1%, Avg loss: 0.437946 \n",
      "\n",
      "Epoch 16\n",
      "-------------------------------\n"
     ]
    },
    {
     "name": "stderr",
     "output_type": "stream",
     "text": [
      "loss: 1.339447  Batch:[   41/   46]: 100%|██████████| 46/46 [00:43<00:00,  1.05it/s]\n"
     ]
    },
    {
     "name": "stdout",
     "output_type": "stream",
     "text": [
      "Validation Error: \n",
      " Accuracy: 86.4%, Avg loss: 0.426463 \n",
      "\n",
      "Epoch 17\n",
      "-------------------------------\n"
     ]
    },
    {
     "name": "stderr",
     "output_type": "stream",
     "text": [
      "loss: 1.296094  Batch:[   41/   46]: 100%|██████████| 46/46 [00:44<00:00,  1.03it/s]\n"
     ]
    },
    {
     "name": "stdout",
     "output_type": "stream",
     "text": [
      "Validation Error: \n",
      " Accuracy: 87.0%, Avg loss: 0.424165 \n",
      "\n",
      "Epoch 18\n",
      "-------------------------------\n"
     ]
    },
    {
     "name": "stderr",
     "output_type": "stream",
     "text": [
      "loss: 0.995329  Batch:[   41/   46]: 100%|██████████| 46/46 [00:44<00:00,  1.03it/s]\n"
     ]
    },
    {
     "name": "stdout",
     "output_type": "stream",
     "text": [
      "Validation Error: \n",
      " Accuracy: 86.8%, Avg loss: 0.426362 \n",
      "\n",
      "Epoch 19\n",
      "-------------------------------\n"
     ]
    },
    {
     "name": "stderr",
     "output_type": "stream",
     "text": [
      "loss: 1.088627  Batch:[   41/   46]: 100%|██████████| 46/46 [00:44<00:00,  1.04it/s]\n"
     ]
    },
    {
     "name": "stdout",
     "output_type": "stream",
     "text": [
      "Validation Error: \n",
      " Accuracy: 86.4%, Avg loss: 0.419823 \n",
      "\n",
      "Epoch 20\n",
      "-------------------------------\n"
     ]
    },
    {
     "name": "stderr",
     "output_type": "stream",
     "text": [
      "loss: 1.166482  Batch:[   41/   46]: 100%|██████████| 46/46 [00:44<00:00,  1.04it/s]\n"
     ]
    },
    {
     "name": "stdout",
     "output_type": "stream",
     "text": [
      "Validation Error: \n",
      " Accuracy: 88.0%, Avg loss: 0.405310 \n",
      "\n",
      "Epoch 21\n",
      "-------------------------------\n"
     ]
    },
    {
     "name": "stderr",
     "output_type": "stream",
     "text": [
      "loss: 1.222537  Batch:[   41/   46]: 100%|██████████| 46/46 [00:43<00:00,  1.05it/s]\n"
     ]
    },
    {
     "name": "stdout",
     "output_type": "stream",
     "text": [
      "Validation Error: \n",
      " Accuracy: 87.2%, Avg loss: 0.410238 \n",
      "\n",
      "Epoch 22\n",
      "-------------------------------\n"
     ]
    },
    {
     "name": "stderr",
     "output_type": "stream",
     "text": [
      "loss: 0.961736  Batch:[   41/   46]: 100%|██████████| 46/46 [00:43<00:00,  1.05it/s]\n"
     ]
    },
    {
     "name": "stdout",
     "output_type": "stream",
     "text": [
      "Validation Error: \n",
      " Accuracy: 88.7%, Avg loss: 0.414331 \n",
      "\n",
      "Epoch 23\n",
      "-------------------------------\n"
     ]
    },
    {
     "name": "stderr",
     "output_type": "stream",
     "text": [
      "loss: 1.269366  Batch:[   41/   46]: 100%|██████████| 46/46 [00:43<00:00,  1.05it/s]\n"
     ]
    },
    {
     "name": "stdout",
     "output_type": "stream",
     "text": [
      "Validation Error: \n",
      " Accuracy: 87.5%, Avg loss: 0.412157 \n",
      "\n",
      "Epoch 24\n",
      "-------------------------------\n"
     ]
    },
    {
     "name": "stderr",
     "output_type": "stream",
     "text": [
      "loss: 1.121705  Batch:[   41/   46]: 100%|██████████| 46/46 [00:44<00:00,  1.04it/s]\n"
     ]
    },
    {
     "name": "stdout",
     "output_type": "stream",
     "text": [
      "Validation Error: \n",
      " Accuracy: 87.8%, Avg loss: 0.410425 \n",
      "\n",
      "Epoch 25\n",
      "-------------------------------\n"
     ]
    },
    {
     "name": "stderr",
     "output_type": "stream",
     "text": [
      "loss: 1.082022  Batch:[   41/   46]: 100%|██████████| 46/46 [00:43<00:00,  1.05it/s]\n"
     ]
    },
    {
     "name": "stdout",
     "output_type": "stream",
     "text": [
      "Validation Error: \n",
      " Accuracy: 87.4%, Avg loss: 0.407977 \n",
      "\n",
      "Early stopping!\n",
      "Training done!\n",
      "Test Accuracy: 87.44%\n",
      "Include Layers: 0, Learning Rate: 0.001, Data Augmentation: True, Fine Tune BN: False\n",
      "Epoch 1\n",
      "-------------------------------\n"
     ]
    },
    {
     "name": "stderr",
     "output_type": "stream",
     "text": [
      "loss: 2.566758  Batch:[   41/   46]: 100%|██████████| 46/46 [00:44<00:00,  1.03it/s]\n"
     ]
    },
    {
     "name": "stdout",
     "output_type": "stream",
     "text": [
      "Validation Error: \n",
      " Accuracy: 64.0%, Avg loss: 1.811119 \n",
      "\n",
      "Epoch 2\n",
      "-------------------------------\n"
     ]
    },
    {
     "name": "stderr",
     "output_type": "stream",
     "text": [
      "loss: 1.643245  Batch:[   41/   46]: 100%|██████████| 46/46 [00:44<00:00,  1.03it/s]\n"
     ]
    },
    {
     "name": "stdout",
     "output_type": "stream",
     "text": [
      "Validation Error: \n",
      " Accuracy: 77.3%, Avg loss: 0.983322 \n",
      "\n",
      "Epoch 3\n",
      "-------------------------------\n"
     ]
    },
    {
     "name": "stderr",
     "output_type": "stream",
     "text": [
      "loss: 1.655386  Batch:[   41/   46]: 100%|██████████| 46/46 [00:44<00:00,  1.03it/s]\n"
     ]
    },
    {
     "name": "stdout",
     "output_type": "stream",
     "text": [
      "Validation Error: \n",
      " Accuracy: 82.6%, Avg loss: 0.751469 \n",
      "\n",
      "Epoch 4\n",
      "-------------------------------\n"
     ]
    },
    {
     "name": "stderr",
     "output_type": "stream",
     "text": [
      "loss: 1.490390  Batch:[   41/   46]: 100%|██████████| 46/46 [00:44<00:00,  1.04it/s]\n"
     ]
    },
    {
     "name": "stdout",
     "output_type": "stream",
     "text": [
      "Validation Error: \n",
      " Accuracy: 82.1%, Avg loss: 0.676756 \n",
      "\n",
      "Epoch 5\n",
      "-------------------------------\n"
     ]
    },
    {
     "name": "stderr",
     "output_type": "stream",
     "text": [
      "loss: 1.476078  Batch:[   41/   46]: 100%|██████████| 46/46 [00:43<00:00,  1.05it/s]\n"
     ]
    },
    {
     "name": "stdout",
     "output_type": "stream",
     "text": [
      "Validation Error: \n",
      " Accuracy: 83.8%, Avg loss: 0.595210 \n",
      "\n",
      "Epoch 6\n",
      "-------------------------------\n"
     ]
    },
    {
     "name": "stderr",
     "output_type": "stream",
     "text": [
      "loss: 1.140485  Batch:[   41/   46]: 100%|██████████| 46/46 [00:44<00:00,  1.04it/s]\n"
     ]
    },
    {
     "name": "stdout",
     "output_type": "stream",
     "text": [
      "Validation Error: \n",
      " Accuracy: 86.0%, Avg loss: 0.553618 \n",
      "\n",
      "Epoch 7\n",
      "-------------------------------\n"
     ]
    },
    {
     "name": "stderr",
     "output_type": "stream",
     "text": [
      "loss: 1.758843  Batch:[   41/   46]: 100%|██████████| 46/46 [00:44<00:00,  1.04it/s]\n"
     ]
    },
    {
     "name": "stdout",
     "output_type": "stream",
     "text": [
      "Validation Error: \n",
      " Accuracy: 87.1%, Avg loss: 0.509365 \n",
      "\n",
      "Epoch 8\n",
      "-------------------------------\n"
     ]
    },
    {
     "name": "stderr",
     "output_type": "stream",
     "text": [
      "loss: 1.444700  Batch:[   41/   46]: 100%|██████████| 46/46 [00:43<00:00,  1.05it/s]\n"
     ]
    },
    {
     "name": "stdout",
     "output_type": "stream",
     "text": [
      "Validation Error: \n",
      " Accuracy: 86.7%, Avg loss: 0.501207 \n",
      "\n",
      "Epoch 9\n",
      "-------------------------------\n"
     ]
    },
    {
     "name": "stderr",
     "output_type": "stream",
     "text": [
      "loss: 1.373017  Batch:[   41/   46]: 100%|██████████| 46/46 [00:44<00:00,  1.03it/s]\n"
     ]
    },
    {
     "name": "stdout",
     "output_type": "stream",
     "text": [
      "Validation Error: \n",
      " Accuracy: 86.3%, Avg loss: 0.498647 \n",
      "\n",
      "Epoch 10\n",
      "-------------------------------\n"
     ]
    },
    {
     "name": "stderr",
     "output_type": "stream",
     "text": [
      "loss: 1.338351  Batch:[   41/   46]: 100%|██████████| 46/46 [00:44<00:00,  1.04it/s]\n"
     ]
    },
    {
     "name": "stdout",
     "output_type": "stream",
     "text": [
      "Validation Error: \n",
      " Accuracy: 85.1%, Avg loss: 0.483325 \n",
      "\n",
      "Epoch 11\n",
      "-------------------------------\n"
     ]
    },
    {
     "name": "stderr",
     "output_type": "stream",
     "text": [
      "loss: 1.502724  Batch:[   41/   46]: 100%|██████████| 46/46 [00:43<00:00,  1.05it/s]\n"
     ]
    },
    {
     "name": "stdout",
     "output_type": "stream",
     "text": [
      "Validation Error: \n",
      " Accuracy: 86.7%, Avg loss: 0.459448 \n",
      "\n",
      "Epoch 12\n",
      "-------------------------------\n"
     ]
    },
    {
     "name": "stderr",
     "output_type": "stream",
     "text": [
      "loss: 1.285367  Batch:[   41/   46]: 100%|██████████| 46/46 [00:43<00:00,  1.05it/s]\n"
     ]
    },
    {
     "name": "stdout",
     "output_type": "stream",
     "text": [
      "Validation Error: \n",
      " Accuracy: 87.8%, Avg loss: 0.453570 \n",
      "\n",
      "Epoch 13\n",
      "-------------------------------\n"
     ]
    },
    {
     "name": "stderr",
     "output_type": "stream",
     "text": [
      "loss: 1.206878  Batch:[   41/   46]: 100%|██████████| 46/46 [00:44<00:00,  1.03it/s]\n"
     ]
    },
    {
     "name": "stdout",
     "output_type": "stream",
     "text": [
      "Validation Error: \n",
      " Accuracy: 87.0%, Avg loss: 0.453212 \n",
      "\n",
      "Epoch 14\n",
      "-------------------------------\n"
     ]
    },
    {
     "name": "stderr",
     "output_type": "stream",
     "text": [
      "loss: 1.063823  Batch:[   41/   46]: 100%|██████████| 46/46 [00:43<00:00,  1.05it/s]\n"
     ]
    },
    {
     "name": "stdout",
     "output_type": "stream",
     "text": [
      "Validation Error: \n",
      " Accuracy: 87.4%, Avg loss: 0.448515 \n",
      "\n",
      "Epoch 15\n",
      "-------------------------------\n"
     ]
    },
    {
     "name": "stderr",
     "output_type": "stream",
     "text": [
      "loss: 0.958283  Batch:[   41/   46]: 100%|██████████| 46/46 [00:44<00:00,  1.04it/s]\n"
     ]
    },
    {
     "name": "stdout",
     "output_type": "stream",
     "text": [
      "Validation Error: \n",
      " Accuracy: 87.2%, Avg loss: 0.450522 \n",
      "\n",
      "Epoch 16\n",
      "-------------------------------\n"
     ]
    },
    {
     "name": "stderr",
     "output_type": "stream",
     "text": [
      "loss: 0.971354  Batch:[   41/   46]: 100%|██████████| 46/46 [00:43<00:00,  1.05it/s]\n"
     ]
    },
    {
     "name": "stdout",
     "output_type": "stream",
     "text": [
      "Validation Error: \n",
      " Accuracy: 87.2%, Avg loss: 0.440838 \n",
      "\n",
      "Epoch 17\n",
      "-------------------------------\n"
     ]
    },
    {
     "name": "stderr",
     "output_type": "stream",
     "text": [
      "loss: 1.191910  Batch:[   41/   46]: 100%|██████████| 46/46 [00:44<00:00,  1.04it/s]\n"
     ]
    },
    {
     "name": "stdout",
     "output_type": "stream",
     "text": [
      "Validation Error: \n",
      " Accuracy: 87.8%, Avg loss: 0.423837 \n",
      "\n",
      "Epoch 18\n",
      "-------------------------------\n"
     ]
    },
    {
     "name": "stderr",
     "output_type": "stream",
     "text": [
      "loss: 0.947645  Batch:[   41/   46]: 100%|██████████| 46/46 [00:44<00:00,  1.03it/s]\n"
     ]
    },
    {
     "name": "stdout",
     "output_type": "stream",
     "text": [
      "Validation Error: \n",
      " Accuracy: 88.2%, Avg loss: 0.421419 \n",
      "\n",
      "Epoch 19\n",
      "-------------------------------\n"
     ]
    },
    {
     "name": "stderr",
     "output_type": "stream",
     "text": [
      "loss: 0.920872  Batch:[   41/   46]: 100%|██████████| 46/46 [00:44<00:00,  1.04it/s]\n"
     ]
    },
    {
     "name": "stdout",
     "output_type": "stream",
     "text": [
      "Validation Error: \n",
      " Accuracy: 87.8%, Avg loss: 0.435887 \n",
      "\n",
      "Epoch 20\n",
      "-------------------------------\n"
     ]
    },
    {
     "name": "stderr",
     "output_type": "stream",
     "text": [
      "loss: 1.040960  Batch:[   41/   46]: 100%|██████████| 46/46 [00:43<00:00,  1.06it/s]\n"
     ]
    },
    {
     "name": "stdout",
     "output_type": "stream",
     "text": [
      "Validation Error: \n",
      " Accuracy: 87.5%, Avg loss: 0.422756 \n",
      "\n",
      "Epoch 21\n",
      "-------------------------------\n"
     ]
    },
    {
     "name": "stderr",
     "output_type": "stream",
     "text": [
      "loss: 1.266699  Batch:[   41/   46]: 100%|██████████| 46/46 [00:44<00:00,  1.03it/s]\n"
     ]
    },
    {
     "name": "stdout",
     "output_type": "stream",
     "text": [
      "Validation Error: \n",
      " Accuracy: 88.2%, Avg loss: 0.413855 \n",
      "\n",
      "Epoch 22\n",
      "-------------------------------\n"
     ]
    },
    {
     "name": "stderr",
     "output_type": "stream",
     "text": [
      "loss: 1.417039  Batch:[   41/   46]: 100%|██████████| 46/46 [00:44<00:00,  1.04it/s]\n"
     ]
    },
    {
     "name": "stdout",
     "output_type": "stream",
     "text": [
      "Validation Error: \n",
      " Accuracy: 88.2%, Avg loss: 0.400837 \n",
      "\n",
      "Epoch 23\n",
      "-------------------------------\n"
     ]
    },
    {
     "name": "stderr",
     "output_type": "stream",
     "text": [
      "loss: 0.891338  Batch:[   41/   46]: 100%|██████████| 46/46 [00:43<00:00,  1.05it/s]\n"
     ]
    },
    {
     "name": "stdout",
     "output_type": "stream",
     "text": [
      "Validation Error: \n",
      " Accuracy: 88.3%, Avg loss: 0.414276 \n",
      "\n",
      "Epoch 24\n",
      "-------------------------------\n"
     ]
    },
    {
     "name": "stderr",
     "output_type": "stream",
     "text": [
      "loss: 1.109173  Batch:[   41/   46]: 100%|██████████| 46/46 [00:43<00:00,  1.05it/s]\n"
     ]
    },
    {
     "name": "stdout",
     "output_type": "stream",
     "text": [
      "Validation Error: \n",
      " Accuracy: 88.5%, Avg loss: 0.414260 \n",
      "\n",
      "Epoch 25\n",
      "-------------------------------\n"
     ]
    },
    {
     "name": "stderr",
     "output_type": "stream",
     "text": [
      "loss: 1.027998  Batch:[   41/   46]: 100%|██████████| 46/46 [00:44<00:00,  1.03it/s]\n"
     ]
    },
    {
     "name": "stdout",
     "output_type": "stream",
     "text": [
      "Validation Error: \n",
      " Accuracy: 88.6%, Avg loss: 0.403083 \n",
      "\n",
      "Epoch 26\n",
      "-------------------------------\n"
     ]
    },
    {
     "name": "stderr",
     "output_type": "stream",
     "text": [
      "loss: 0.965995  Batch:[   41/   46]: 100%|██████████| 46/46 [00:44<00:00,  1.04it/s]\n"
     ]
    },
    {
     "name": "stdout",
     "output_type": "stream",
     "text": [
      "Validation Error: \n",
      " Accuracy: 88.2%, Avg loss: 0.404368 \n",
      "\n",
      "Epoch 27\n",
      "-------------------------------\n"
     ]
    },
    {
     "name": "stderr",
     "output_type": "stream",
     "text": [
      "loss: 1.291359  Batch:[   41/   46]: 100%|██████████| 46/46 [00:43<00:00,  1.05it/s]\n"
     ]
    },
    {
     "name": "stdout",
     "output_type": "stream",
     "text": [
      "Validation Error: \n",
      " Accuracy: 88.0%, Avg loss: 0.409495 \n",
      "\n",
      "Early stopping!\n",
      "Training done!\n",
      "Test Accuracy: 87.33%\n",
      "Include Layers: 0, Learning Rate: 0.001, Data Augmentation: False, Fine Tune BN: True\n",
      "Epoch 1\n",
      "-------------------------------\n"
     ]
    },
    {
     "name": "stderr",
     "output_type": "stream",
     "text": [
      "loss: 0.900485  Batch:[   41/   46]: 100%|██████████| 46/46 [00:43<00:00,  1.05it/s]\n"
     ]
    },
    {
     "name": "stdout",
     "output_type": "stream",
     "text": [
      "Validation Error: \n",
      " Accuracy: 84.6%, Avg loss: 0.715153 \n",
      "\n",
      "Epoch 2\n",
      "-------------------------------\n"
     ]
    },
    {
     "name": "stderr",
     "output_type": "stream",
     "text": [
      "loss: 0.573556  Batch:[   41/   46]: 100%|██████████| 46/46 [00:44<00:00,  1.03it/s]\n"
     ]
    },
    {
     "name": "stdout",
     "output_type": "stream",
     "text": [
      "Validation Error: \n",
      " Accuracy: 86.0%, Avg loss: 0.449908 \n",
      "\n",
      "Epoch 3\n",
      "-------------------------------\n"
     ]
    },
    {
     "name": "stderr",
     "output_type": "stream",
     "text": [
      "loss: 0.468967  Batch:[   41/   46]: 100%|██████████| 46/46 [00:44<00:00,  1.03it/s]\n"
     ]
    },
    {
     "name": "stdout",
     "output_type": "stream",
     "text": [
      "Validation Error: \n",
      " Accuracy: 89.7%, Avg loss: 0.353886 \n",
      "\n",
      "Epoch 4\n",
      "-------------------------------\n"
     ]
    },
    {
     "name": "stderr",
     "output_type": "stream",
     "text": [
      "loss: 0.261866  Batch:[   41/   46]: 100%|██████████| 46/46 [00:44<00:00,  1.04it/s]\n"
     ]
    },
    {
     "name": "stdout",
     "output_type": "stream",
     "text": [
      "Validation Error: \n",
      " Accuracy: 89.5%, Avg loss: 0.343839 \n",
      "\n",
      "Epoch 5\n",
      "-------------------------------\n"
     ]
    },
    {
     "name": "stderr",
     "output_type": "stream",
     "text": [
      "loss: 0.145789  Batch:[   41/   46]: 100%|██████████| 46/46 [00:44<00:00,  1.03it/s]\n"
     ]
    },
    {
     "name": "stdout",
     "output_type": "stream",
     "text": [
      "Validation Error: \n",
      " Accuracy: 91.2%, Avg loss: 0.307411 \n",
      "\n",
      "Epoch 6\n",
      "-------------------------------\n"
     ]
    },
    {
     "name": "stderr",
     "output_type": "stream",
     "text": [
      "loss: 0.259751  Batch:[   41/   46]: 100%|██████████| 46/46 [00:44<00:00,  1.04it/s]\n"
     ]
    },
    {
     "name": "stdout",
     "output_type": "stream",
     "text": [
      "Validation Error: \n",
      " Accuracy: 91.7%, Avg loss: 0.300053 \n",
      "\n",
      "Epoch 7\n",
      "-------------------------------\n"
     ]
    },
    {
     "name": "stderr",
     "output_type": "stream",
     "text": [
      "loss: 0.143215  Batch:[   41/   46]: 100%|██████████| 46/46 [00:44<00:00,  1.04it/s]\n"
     ]
    },
    {
     "name": "stdout",
     "output_type": "stream",
     "text": [
      "Validation Error: \n",
      " Accuracy: 91.2%, Avg loss: 0.288287 \n",
      "\n",
      "Epoch 8\n",
      "-------------------------------\n"
     ]
    },
    {
     "name": "stderr",
     "output_type": "stream",
     "text": [
      "loss: 0.167478  Batch:[   41/   46]: 100%|██████████| 46/46 [00:44<00:00,  1.04it/s]\n"
     ]
    },
    {
     "name": "stdout",
     "output_type": "stream",
     "text": [
      "Validation Error: \n",
      " Accuracy: 91.4%, Avg loss: 0.272368 \n",
      "\n",
      "Epoch 9\n",
      "-------------------------------\n"
     ]
    },
    {
     "name": "stderr",
     "output_type": "stream",
     "text": [
      "loss: 0.201099  Batch:[   41/   46]: 100%|██████████| 46/46 [00:43<00:00,  1.06it/s]\n"
     ]
    },
    {
     "name": "stdout",
     "output_type": "stream",
     "text": [
      "Validation Error: \n",
      " Accuracy: 90.2%, Avg loss: 0.283513 \n",
      "\n",
      "Epoch 10\n",
      "-------------------------------\n"
     ]
    },
    {
     "name": "stderr",
     "output_type": "stream",
     "text": [
      "loss: 0.094273  Batch:[   41/   46]: 100%|██████████| 46/46 [00:44<00:00,  1.03it/s]\n"
     ]
    },
    {
     "name": "stdout",
     "output_type": "stream",
     "text": [
      "Validation Error: \n",
      " Accuracy: 91.0%, Avg loss: 0.276267 \n",
      "\n",
      "Epoch 11\n",
      "-------------------------------\n"
     ]
    },
    {
     "name": "stderr",
     "output_type": "stream",
     "text": [
      "loss: 0.217917  Batch:[   41/   46]: 100%|██████████| 46/46 [00:44<00:00,  1.03it/s]\n"
     ]
    },
    {
     "name": "stdout",
     "output_type": "stream",
     "text": [
      "Validation Error: \n",
      " Accuracy: 90.8%, Avg loss: 0.280000 \n",
      "\n",
      "Epoch 12\n",
      "-------------------------------\n"
     ]
    },
    {
     "name": "stderr",
     "output_type": "stream",
     "text": [
      "loss: 0.064571  Batch:[   41/   46]: 100%|██████████| 46/46 [00:43<00:00,  1.05it/s]\n"
     ]
    },
    {
     "name": "stdout",
     "output_type": "stream",
     "text": [
      "Validation Error: \n",
      " Accuracy: 91.2%, Avg loss: 0.278079 \n",
      "\n",
      "Epoch 13\n",
      "-------------------------------\n"
     ]
    },
    {
     "name": "stderr",
     "output_type": "stream",
     "text": [
      "loss: 0.106219  Batch:[   41/   46]: 100%|██████████| 46/46 [00:44<00:00,  1.03it/s]\n"
     ]
    },
    {
     "name": "stdout",
     "output_type": "stream",
     "text": [
      "Validation Error: \n",
      " Accuracy: 91.4%, Avg loss: 0.267983 \n",
      "\n",
      "Epoch 14\n",
      "-------------------------------\n"
     ]
    },
    {
     "name": "stderr",
     "output_type": "stream",
     "text": [
      "loss: 0.143481  Batch:[   41/   46]: 100%|██████████| 46/46 [00:44<00:00,  1.04it/s]\n"
     ]
    },
    {
     "name": "stdout",
     "output_type": "stream",
     "text": [
      "Validation Error: \n",
      " Accuracy: 91.0%, Avg loss: 0.271982 \n",
      "\n",
      "Epoch 15\n",
      "-------------------------------\n"
     ]
    },
    {
     "name": "stderr",
     "output_type": "stream",
     "text": [
      "loss: 0.064132  Batch:[   41/   46]: 100%|██████████| 46/46 [00:44<00:00,  1.04it/s]\n"
     ]
    },
    {
     "name": "stdout",
     "output_type": "stream",
     "text": [
      "Validation Error: \n",
      " Accuracy: 91.0%, Avg loss: 0.267396 \n",
      "\n",
      "Epoch 16\n",
      "-------------------------------\n"
     ]
    },
    {
     "name": "stderr",
     "output_type": "stream",
     "text": [
      "loss: 0.141115  Batch:[   41/   46]: 100%|██████████| 46/46 [00:44<00:00,  1.03it/s]\n"
     ]
    },
    {
     "name": "stdout",
     "output_type": "stream",
     "text": [
      "Validation Error: \n",
      " Accuracy: 91.2%, Avg loss: 0.272874 \n",
      "\n",
      "Epoch 17\n",
      "-------------------------------\n"
     ]
    },
    {
     "name": "stderr",
     "output_type": "stream",
     "text": [
      "loss: 0.132973  Batch:[   41/   46]: 100%|██████████| 46/46 [00:43<00:00,  1.05it/s]\n"
     ]
    },
    {
     "name": "stdout",
     "output_type": "stream",
     "text": [
      "Validation Error: \n",
      " Accuracy: 91.2%, Avg loss: 0.264313 \n",
      "\n",
      "Epoch 18\n",
      "-------------------------------\n"
     ]
    },
    {
     "name": "stderr",
     "output_type": "stream",
     "text": [
      "loss: 0.093812  Batch:[   41/   46]: 100%|██████████| 46/46 [00:44<00:00,  1.03it/s]\n"
     ]
    },
    {
     "name": "stdout",
     "output_type": "stream",
     "text": [
      "Validation Error: \n",
      " Accuracy: 90.6%, Avg loss: 0.268371 \n",
      "\n",
      "Epoch 19\n",
      "-------------------------------\n"
     ]
    },
    {
     "name": "stderr",
     "output_type": "stream",
     "text": [
      "loss: 0.163818  Batch:[   41/   46]: 100%|██████████| 46/46 [00:44<00:00,  1.03it/s]\n"
     ]
    },
    {
     "name": "stdout",
     "output_type": "stream",
     "text": [
      "Validation Error: \n",
      " Accuracy: 91.2%, Avg loss: 0.264925 \n",
      "\n",
      "Epoch 20\n",
      "-------------------------------\n"
     ]
    },
    {
     "name": "stderr",
     "output_type": "stream",
     "text": [
      "loss: 0.180012  Batch:[   41/   46]: 100%|██████████| 46/46 [00:44<00:00,  1.04it/s]\n"
     ]
    },
    {
     "name": "stdout",
     "output_type": "stream",
     "text": [
      "Validation Error: \n",
      " Accuracy: 91.0%, Avg loss: 0.269832 \n",
      "\n",
      "Epoch 21\n",
      "-------------------------------\n"
     ]
    },
    {
     "name": "stderr",
     "output_type": "stream",
     "text": [
      "loss: 0.093976  Batch:[   41/   46]: 100%|██████████| 46/46 [00:44<00:00,  1.04it/s]\n"
     ]
    },
    {
     "name": "stdout",
     "output_type": "stream",
     "text": [
      "Validation Error: \n",
      " Accuracy: 91.3%, Avg loss: 0.259099 \n",
      "\n",
      "Epoch 22\n",
      "-------------------------------\n"
     ]
    },
    {
     "name": "stderr",
     "output_type": "stream",
     "text": [
      "loss: 0.087661  Batch:[   41/   46]: 100%|██████████| 46/46 [00:44<00:00,  1.03it/s]\n"
     ]
    },
    {
     "name": "stdout",
     "output_type": "stream",
     "text": [
      "Validation Error: \n",
      " Accuracy: 92.3%, Avg loss: 0.257697 \n",
      "\n",
      "Epoch 23\n",
      "-------------------------------\n"
     ]
    },
    {
     "name": "stderr",
     "output_type": "stream",
     "text": [
      "loss: 0.078875  Batch:[   41/   46]: 100%|██████████| 46/46 [00:43<00:00,  1.05it/s]\n"
     ]
    },
    {
     "name": "stdout",
     "output_type": "stream",
     "text": [
      "Validation Error: \n",
      " Accuracy: 91.8%, Avg loss: 0.262414 \n",
      "\n",
      "Epoch 24\n",
      "-------------------------------\n"
     ]
    },
    {
     "name": "stderr",
     "output_type": "stream",
     "text": [
      "loss: 0.084743  Batch:[   41/   46]: 100%|██████████| 46/46 [00:43<00:00,  1.05it/s]\n"
     ]
    },
    {
     "name": "stdout",
     "output_type": "stream",
     "text": [
      "Validation Error: \n",
      " Accuracy: 91.4%, Avg loss: 0.264995 \n",
      "\n",
      "Epoch 25\n",
      "-------------------------------\n"
     ]
    },
    {
     "name": "stderr",
     "output_type": "stream",
     "text": [
      "loss: 0.046633  Batch:[   41/   46]: 100%|██████████| 46/46 [00:44<00:00,  1.03it/s]\n"
     ]
    },
    {
     "name": "stdout",
     "output_type": "stream",
     "text": [
      "Validation Error: \n",
      " Accuracy: 92.0%, Avg loss: 0.257046 \n",
      "\n",
      "Epoch 26\n",
      "-------------------------------\n"
     ]
    },
    {
     "name": "stderr",
     "output_type": "stream",
     "text": [
      "loss: 0.144389  Batch:[   41/   46]: 100%|██████████| 46/46 [00:44<00:00,  1.03it/s]\n"
     ]
    },
    {
     "name": "stdout",
     "output_type": "stream",
     "text": [
      "Validation Error: \n",
      " Accuracy: 91.0%, Avg loss: 0.267540 \n",
      "\n",
      "Epoch 27\n",
      "-------------------------------\n"
     ]
    },
    {
     "name": "stderr",
     "output_type": "stream",
     "text": [
      "loss: 0.128669  Batch:[   41/   46]: 100%|██████████| 46/46 [00:44<00:00,  1.04it/s]\n"
     ]
    },
    {
     "name": "stdout",
     "output_type": "stream",
     "text": [
      "Validation Error: \n",
      " Accuracy: 91.7%, Avg loss: 0.258956 \n",
      "\n",
      "Epoch 28\n",
      "-------------------------------\n"
     ]
    },
    {
     "name": "stderr",
     "output_type": "stream",
     "text": [
      "loss: 0.083062  Batch:[   41/   46]: 100%|██████████| 46/46 [00:44<00:00,  1.04it/s]\n"
     ]
    },
    {
     "name": "stdout",
     "output_type": "stream",
     "text": [
      "Validation Error: \n",
      " Accuracy: 91.6%, Avg loss: 0.267115 \n",
      "\n",
      "Epoch 29\n",
      "-------------------------------\n"
     ]
    },
    {
     "name": "stderr",
     "output_type": "stream",
     "text": [
      "loss: 0.160307  Batch:[   41/   46]: 100%|██████████| 46/46 [00:43<00:00,  1.05it/s]\n"
     ]
    },
    {
     "name": "stdout",
     "output_type": "stream",
     "text": [
      "Validation Error: \n",
      " Accuracy: 91.6%, Avg loss: 0.261112 \n",
      "\n",
      "Epoch 30\n",
      "-------------------------------\n"
     ]
    },
    {
     "name": "stderr",
     "output_type": "stream",
     "text": [
      "loss: 0.091522  Batch:[   41/   46]: 100%|██████████| 46/46 [00:43<00:00,  1.05it/s]\n"
     ]
    },
    {
     "name": "stdout",
     "output_type": "stream",
     "text": [
      "Validation Error: \n",
      " Accuracy: 92.0%, Avg loss: 0.260506 \n",
      "\n",
      "Early stopping!\n",
      "Training done!\n",
      "Test Accuracy: 89.94%\n",
      "Include Layers: 0, Learning Rate: 0.001, Data Augmentation: False, Fine Tune BN: False\n",
      "Epoch 1\n",
      "-------------------------------\n"
     ]
    },
    {
     "name": "stderr",
     "output_type": "stream",
     "text": [
      "loss: 0.944046  Batch:[   41/   46]: 100%|██████████| 46/46 [00:44<00:00,  1.04it/s]\n"
     ]
    },
    {
     "name": "stdout",
     "output_type": "stream",
     "text": [
      "Validation Error: \n",
      " Accuracy: 79.5%, Avg loss: 0.750037 \n",
      "\n",
      "Epoch 2\n",
      "-------------------------------\n"
     ]
    },
    {
     "name": "stderr",
     "output_type": "stream",
     "text": [
      "loss: 0.494545  Batch:[   41/   46]: 100%|██████████| 46/46 [00:44<00:00,  1.04it/s]\n"
     ]
    },
    {
     "name": "stdout",
     "output_type": "stream",
     "text": [
      "Validation Error: \n",
      " Accuracy: 89.0%, Avg loss: 0.414128 \n",
      "\n",
      "Epoch 3\n",
      "-------------------------------\n"
     ]
    },
    {
     "name": "stderr",
     "output_type": "stream",
     "text": [
      "loss: 0.402815  Batch:[   41/   46]: 100%|██████████| 46/46 [00:44<00:00,  1.03it/s]\n"
     ]
    },
    {
     "name": "stdout",
     "output_type": "stream",
     "text": [
      "Validation Error: \n",
      " Accuracy: 89.5%, Avg loss: 0.350211 \n",
      "\n",
      "Epoch 4\n",
      "-------------------------------\n"
     ]
    },
    {
     "name": "stderr",
     "output_type": "stream",
     "text": [
      "loss: 0.393625  Batch:[   41/   46]: 100%|██████████| 46/46 [00:44<00:00,  1.04it/s]\n"
     ]
    },
    {
     "name": "stdout",
     "output_type": "stream",
     "text": [
      "Validation Error: \n",
      " Accuracy: 87.6%, Avg loss: 0.359385 \n",
      "\n",
      "Epoch 5\n",
      "-------------------------------\n"
     ]
    },
    {
     "name": "stderr",
     "output_type": "stream",
     "text": [
      "loss: 0.174698  Batch:[   41/   46]: 100%|██████████| 46/46 [00:43<00:00,  1.05it/s]\n"
     ]
    },
    {
     "name": "stdout",
     "output_type": "stream",
     "text": [
      "Validation Error: \n",
      " Accuracy: 90.4%, Avg loss: 0.316498 \n",
      "\n",
      "Epoch 6\n",
      "-------------------------------\n"
     ]
    },
    {
     "name": "stderr",
     "output_type": "stream",
     "text": [
      "loss: 0.278499  Batch:[   41/   46]: 100%|██████████| 46/46 [00:44<00:00,  1.03it/s]\n"
     ]
    },
    {
     "name": "stdout",
     "output_type": "stream",
     "text": [
      "Validation Error: \n",
      " Accuracy: 91.2%, Avg loss: 0.297524 \n",
      "\n",
      "Epoch 7\n",
      "-------------------------------\n"
     ]
    },
    {
     "name": "stderr",
     "output_type": "stream",
     "text": [
      "loss: 0.151920  Batch:[   41/   46]: 100%|██████████| 46/46 [00:44<00:00,  1.03it/s]\n"
     ]
    },
    {
     "name": "stdout",
     "output_type": "stream",
     "text": [
      "Validation Error: \n",
      " Accuracy: 90.9%, Avg loss: 0.289649 \n",
      "\n",
      "Epoch 8\n",
      "-------------------------------\n"
     ]
    },
    {
     "name": "stderr",
     "output_type": "stream",
     "text": [
      "loss: 0.205160  Batch:[   41/   46]: 100%|██████████| 46/46 [00:44<00:00,  1.04it/s]\n"
     ]
    },
    {
     "name": "stdout",
     "output_type": "stream",
     "text": [
      "Validation Error: \n",
      " Accuracy: 89.9%, Avg loss: 0.290081 \n",
      "\n",
      "Epoch 9\n",
      "-------------------------------\n"
     ]
    },
    {
     "name": "stderr",
     "output_type": "stream",
     "text": [
      "loss: 0.244166  Batch:[   41/   46]: 100%|██████████| 46/46 [00:44<00:00,  1.04it/s]\n"
     ]
    },
    {
     "name": "stdout",
     "output_type": "stream",
     "text": [
      "Validation Error: \n",
      " Accuracy: 90.5%, Avg loss: 0.289565 \n",
      "\n",
      "Epoch 10\n",
      "-------------------------------\n"
     ]
    },
    {
     "name": "stderr",
     "output_type": "stream",
     "text": [
      "loss: 0.316262  Batch:[   41/   46]: 100%|██████████| 46/46 [00:44<00:00,  1.04it/s]\n"
     ]
    },
    {
     "name": "stdout",
     "output_type": "stream",
     "text": [
      "Validation Error: \n",
      " Accuracy: 91.0%, Avg loss: 0.285695 \n",
      "\n",
      "Epoch 11\n",
      "-------------------------------\n"
     ]
    },
    {
     "name": "stderr",
     "output_type": "stream",
     "text": [
      "loss: 0.120492  Batch:[   41/   46]: 100%|██████████| 46/46 [00:43<00:00,  1.05it/s]\n"
     ]
    },
    {
     "name": "stdout",
     "output_type": "stream",
     "text": [
      "Validation Error: \n",
      " Accuracy: 90.8%, Avg loss: 0.275472 \n",
      "\n",
      "Epoch 12\n",
      "-------------------------------\n"
     ]
    },
    {
     "name": "stderr",
     "output_type": "stream",
     "text": [
      "loss: 0.116488  Batch:[   41/   46]: 100%|██████████| 46/46 [00:44<00:00,  1.03it/s]\n"
     ]
    },
    {
     "name": "stdout",
     "output_type": "stream",
     "text": [
      "Validation Error: \n",
      " Accuracy: 91.4%, Avg loss: 0.272440 \n",
      "\n",
      "Epoch 13\n",
      "-------------------------------\n"
     ]
    },
    {
     "name": "stderr",
     "output_type": "stream",
     "text": [
      "loss: 0.215917  Batch:[   41/   46]: 100%|██████████| 46/46 [00:44<00:00,  1.03it/s]\n"
     ]
    },
    {
     "name": "stdout",
     "output_type": "stream",
     "text": [
      "Validation Error: \n",
      " Accuracy: 91.0%, Avg loss: 0.266488 \n",
      "\n",
      "Epoch 14\n",
      "-------------------------------\n"
     ]
    },
    {
     "name": "stderr",
     "output_type": "stream",
     "text": [
      "loss: 0.119809  Batch:[   41/   46]: 100%|██████████| 46/46 [00:44<00:00,  1.04it/s]\n"
     ]
    },
    {
     "name": "stdout",
     "output_type": "stream",
     "text": [
      "Validation Error: \n",
      " Accuracy: 90.5%, Avg loss: 0.271762 \n",
      "\n",
      "Epoch 15\n",
      "-------------------------------\n"
     ]
    },
    {
     "name": "stderr",
     "output_type": "stream",
     "text": [
      "loss: 0.120762  Batch:[   41/   46]: 100%|██████████| 46/46 [00:44<00:00,  1.03it/s]\n"
     ]
    },
    {
     "name": "stdout",
     "output_type": "stream",
     "text": [
      "Validation Error: \n",
      " Accuracy: 91.0%, Avg loss: 0.272502 \n",
      "\n",
      "Epoch 16\n",
      "-------------------------------\n"
     ]
    },
    {
     "name": "stderr",
     "output_type": "stream",
     "text": [
      "loss: 0.072411  Batch:[   41/   46]: 100%|██████████| 46/46 [00:44<00:00,  1.03it/s]\n"
     ]
    },
    {
     "name": "stdout",
     "output_type": "stream",
     "text": [
      "Validation Error: \n",
      " Accuracy: 91.3%, Avg loss: 0.267647 \n",
      "\n",
      "Epoch 17\n",
      "-------------------------------\n"
     ]
    },
    {
     "name": "stderr",
     "output_type": "stream",
     "text": [
      "loss: 0.071573  Batch:[   41/   46]: 100%|██████████| 46/46 [00:43<00:00,  1.05it/s]\n"
     ]
    },
    {
     "name": "stdout",
     "output_type": "stream",
     "text": [
      "Validation Error: \n",
      " Accuracy: 91.3%, Avg loss: 0.276755 \n",
      "\n",
      "Epoch 18\n",
      "-------------------------------\n"
     ]
    },
    {
     "name": "stderr",
     "output_type": "stream",
     "text": [
      "loss: 0.095376  Batch:[   41/   46]: 100%|██████████| 46/46 [00:43<00:00,  1.05it/s]\n"
     ]
    },
    {
     "name": "stdout",
     "output_type": "stream",
     "text": [
      "Validation Error: \n",
      " Accuracy: 92.0%, Avg loss: 0.257859 \n",
      "\n",
      "Epoch 19\n",
      "-------------------------------\n"
     ]
    },
    {
     "name": "stderr",
     "output_type": "stream",
     "text": [
      "loss: 0.104463  Batch:[   41/   46]: 100%|██████████| 46/46 [00:43<00:00,  1.05it/s]\n"
     ]
    },
    {
     "name": "stdout",
     "output_type": "stream",
     "text": [
      "Validation Error: \n",
      " Accuracy: 91.3%, Avg loss: 0.258562 \n",
      "\n",
      "Epoch 20\n",
      "-------------------------------\n"
     ]
    },
    {
     "name": "stderr",
     "output_type": "stream",
     "text": [
      "loss: 0.101558  Batch:[   41/   46]: 100%|██████████| 46/46 [00:44<00:00,  1.03it/s]\n"
     ]
    },
    {
     "name": "stdout",
     "output_type": "stream",
     "text": [
      "Validation Error: \n",
      " Accuracy: 91.3%, Avg loss: 0.262075 \n",
      "\n",
      "Epoch 21\n",
      "-------------------------------\n"
     ]
    },
    {
     "name": "stderr",
     "output_type": "stream",
     "text": [
      "loss: 0.043811  Batch:[   41/   46]: 100%|██████████| 46/46 [00:44<00:00,  1.04it/s]\n"
     ]
    },
    {
     "name": "stdout",
     "output_type": "stream",
     "text": [
      "Validation Error: \n",
      " Accuracy: 90.9%, Avg loss: 0.262677 \n",
      "\n",
      "Epoch 22\n",
      "-------------------------------\n"
     ]
    },
    {
     "name": "stderr",
     "output_type": "stream",
     "text": [
      "loss: 0.070850  Batch:[   41/   46]: 100%|██████████| 46/46 [00:44<00:00,  1.04it/s]\n"
     ]
    },
    {
     "name": "stdout",
     "output_type": "stream",
     "text": [
      "Validation Error: \n",
      " Accuracy: 91.2%, Avg loss: 0.267772 \n",
      "\n",
      "Epoch 23\n",
      "-------------------------------\n"
     ]
    },
    {
     "name": "stderr",
     "output_type": "stream",
     "text": [
      "loss: 0.086690  Batch:[   41/   46]: 100%|██████████| 46/46 [00:43<00:00,  1.05it/s]\n"
     ]
    },
    {
     "name": "stdout",
     "output_type": "stream",
     "text": [
      "Validation Error: \n",
      " Accuracy: 91.7%, Avg loss: 0.258668 \n",
      "\n",
      "Early stopping!\n",
      "Training done!\n",
      "Test Accuracy: 90.38%\n",
      "Include Layers: 0, Learning Rate: 0.005, Data Augmentation: True, Fine Tune BN: True\n",
      "Epoch 1\n",
      "-------------------------------\n"
     ]
    },
    {
     "name": "stderr",
     "output_type": "stream",
     "text": [
      "loss: 3.445498  Batch:[   11/   46]:  41%|████▏     | 19/46 [00:18<00:25,  1.08it/s]"
     ]
    }
   ],
   "source": [
    "import csv\n",
    "\n",
    "\n",
    "# Define the hyperparameters and settings to test\n",
    "include_layers_list = [0, 1, 2, 3, 4] #[-999, 1, 2]\n",
    "learning_rates = [1e-3, 5e-3, 1e-2]\n",
    "data_augmentation_enabled = [True, False]#\", False]\n",
    "#fine_tune_bn = [True, False]\n",
    "fine_tune_bn = [True, False]\n",
    "batch_size = 64\n",
    "_epochs = 100\n",
    "\n",
    "# Number of combinations of hyperparameters and settings\n",
    "num_experiments = len(include_layers_list) * len(learning_rates) * len(data_augmentation_enabled) * len(fine_tune_bn)\n",
    "print(f\"Number of experiments: {num_experiments}\")\n",
    "\n",
    "with open('experiment_results.csv', 'w', newline='') as file:\n",
    "    writer = csv.writer(file)\n",
    "    model_name = f'Layers: {len(include_layers_list)}, LR: {len(learning_rates)}, Data Aug: {len(data_augmentation_enabled)}, Fine Tune BN: {len(fine_tune_bn)}'\n",
    "    writer.writerow([\"Include Layers\", \"Learning Rate\", \"Data Augmentation\", \"Fine Tune BN\", \"Test Accuracy\", \"Test Loss\"])\n",
    "\n",
    "    # Loop over all combinations of hyperparameters and settings\n",
    "    for include_layers in include_layers_list:\n",
    "        for lr in learning_rates:\n",
    "            for data_aug in data_augmentation_enabled:\n",
    "                for bn in fine_tune_bn:\n",
    "                    print(f\"Include Layers: {include_layers}, Learning Rate: {lr}, Data Augmentation: {data_aug}, Fine Tune BN: {bn}\")\n",
    "\n",
    "                    # Create the model and set up the layers to be fine-tuned\n",
    "                    model = create_model(include_layers=include_layers, fine_tune_bn=bn)\n",
    "\n",
    "                    # Set up the optimizer\n",
    "                    optimizer = torch.optim.Adam(model.parameters(), lr=lr)\n",
    "\n",
    "                    # Set up the data augmentation transformations if enabled\n",
    "                    if data_aug:\n",
    "                        train_transform = v2.RandAugment()\n",
    "                    else:\n",
    "                        train_transform = None\n",
    "\n",
    "                    # Load the data\n",
    "                    train_data, val_data, test_data = load_data(transform=train_transform)\n",
    "\n",
    "                    train_dataloader = DataLoader(train_data, batch_size=batch_size, shuffle=True, num_workers=4)\n",
    "                    val_dataloader = DataLoader(val_data, batch_size=batch_size, shuffle=False, num_workers=4)\n",
    "                    test_dataloader = DataLoader(test_data, batch_size=batch_size,shuffle=False, num_workers=4)\n",
    "                    \n",
    "                    scheduler = torch.optim.lr_scheduler.ExponentialLR(optimizer, gamma=0.9)\n",
    "\n",
    "                    # Train the model\n",
    "                    results = train_model(model, nn.CrossEntropyLoss(), optimizer, train_dataloader, val_dataloader, epochs=_epochs, device=device, scheduler=scheduler, \n",
    "                                data_aug=data_aug)\n",
    "\n",
    "                    # Evaluate the model on the validation set and get the accuracy\n",
    "                    accuracy, test_loss = evaluate_model(test_dataloader, model, nn.CrossEntropyLoss(), device)\n",
    "\n",
    "                    print(f\"Test Accuracy: {accuracy:.2f}%\") \n",
    "\n",
    "                    # Write the results to the CSV file\n",
    "                    writer.writerow([include_layers, lr, data_aug, bn, accuracy, test_loss])\n",
    "\n",
    "                    # generate graphs and save them\n",
    "                    filename = f'graphs/{include_layers}_{lr}_{data_aug}_{bn}.png'\n",
    "                    create_graphs(results, filename)"
   ]
  },
  {
   "cell_type": "code",
   "execution_count": null,
   "metadata": {},
   "outputs": [
    {
     "data": {
      "text/plain": [
       "[{'validation_loss': 1.4826598564783733, 'validation_acc': 0.6358695652173914},\n",
       " {'validation_loss': 1.117304543654124, 'validation_acc': 0.688858695652174},\n",
       " {'validation_loss': 1.0559398233890533, 'validation_acc': 0.6820652173913043},\n",
       " {'validation_loss': 0.9870882381995519, 'validation_acc': 0.6956521739130435},\n",
       " {'validation_loss': 0.8537923643986384, 'validation_acc': 0.7269021739130435},\n",
       " {'validation_loss': 0.8517323533693949, 'validation_acc': 0.7364130434782609},\n",
       " {'validation_loss': 0.8505455205837885, 'validation_acc': 0.7404891304347826}]"
      ]
     },
     "execution_count": 154,
     "metadata": {},
     "output_type": "execute_result"
    }
   ],
   "source": [
    "results['val_res']"
   ]
  }
 ],
 "metadata": {
  "kernelspec": {
   "display_name": "venv",
   "language": "python",
   "name": "python3"
  },
  "language_info": {
   "codemirror_mode": {
    "name": "ipython",
    "version": 3
   },
   "file_extension": ".py",
   "mimetype": "text/x-python",
   "name": "python",
   "nbconvert_exporter": "python",
   "pygments_lexer": "ipython3",
   "version": "3.11.8"
  }
 },
 "nbformat": 4,
 "nbformat_minor": 2
}
