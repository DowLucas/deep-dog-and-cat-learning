{
 "cells": [
  {
   "cell_type": "markdown",
   "metadata": {},
   "source": [
    "## Imports\n"
   ]
  },
  {
   "cell_type": "code",
   "execution_count": 1,
   "metadata": {},
   "outputs": [],
   "source": [
    "import os\n",
    "import matplotlib.pyplot as plt\n",
    "\n",
    "import requests\n",
    "import tarfile\n",
    "import os\n",
    "\n",
    "from tqdm import tqdm\n",
    "\n",
    "import torch\n",
    "from torchvision.io import read_image\n",
    "from torch.utils.data import Dataset, DataLoader\n",
    "from torchsummary import summary\n",
    "from torchvision import models\n",
    "from torch import nn\n",
    "\n",
    "\n",
    "os.environ['CUDA_LAUNCH_BLOCKING'] = \"1\"\n",
    "\n",
    "device = torch.device(\"cuda\" if torch.cuda.is_available() else \"cpu\")"
   ]
  },
  {
   "cell_type": "markdown",
   "metadata": {},
   "source": [
    "## Definition of global constants"
   ]
  },
  {
   "cell_type": "code",
   "execution_count": 2,
   "metadata": {},
   "outputs": [],
   "source": [
    "IMG_SIZE = (224,224)\n",
    "IMAGE_PATH = os.path.join(os.getcwd(), 'dataset/images')"
   ]
  },
  {
   "cell_type": "markdown",
   "metadata": {},
   "source": [
    "## Defining transformations"
   ]
  },
  {
   "cell_type": "markdown",
   "metadata": {},
   "source": [
    "Defining transforms for images and labels. These are used for preprocessing each image used in the model"
   ]
  },
  {
   "cell_type": "code",
   "execution_count": 3,
   "metadata": {},
   "outputs": [],
   "source": [
    "from torchvision import transforms\n",
    "from torchvision.transforms import v2\n",
    "\n",
    "from torchvision.models import ResNet34_Weights\n",
    "\n",
    "# get transforms from resnet\n",
    "weights = ResNet34_Weights.DEFAULT\n",
    "resnet_preprocess = weights.transforms() # this is the preprocessing done by resnet34\n",
    "\n",
    "# transforms used are those in https://pytorch.org/vision/stable/transforms.html example\n",
    "train_transform = v2.Compose([\n",
    "    # create random transform list\n",
    "    v2.RandAugment()\n",
    "])\n",
    "\n",
    "val_transform = v2.Compose([\n",
    "    v2.Resize(size=(224, 224), antialias=True),\n",
    "    v2.ToDtype(torch.float32, scale=True),\n",
    "    v2.Normalize(mean=[0.485, 0.456, 0.406], std=[0.229, 0.224, 0.225]),\n",
    "])"
   ]
  },
  {
   "cell_type": "markdown",
   "metadata": {},
   "source": [
    "## Definition of training/testing loops"
   ]
  },
  {
   "cell_type": "markdown",
   "metadata": {},
   "source": [
    "We now define the training/test functions as implemented in \n",
    "https://pytorch.org/tutorials/beginner/basics/optimization_tutorial.html"
   ]
  },
  {
   "cell_type": "code",
   "execution_count": 4,
   "metadata": {},
   "outputs": [],
   "source": [
    "def train_loop(dataloader, model, loss_fn, optimizer, device, DEBUG=True, **kwargs):\n",
    "    \"\"\"\n",
    "    Trains the model provided for one epoch.\n",
    "\n",
    "    Returns:\n",
    "        results : {\n",
    "            'train_loss' : float, this is the average loss over the entire dataset,\n",
    "            'train_accuracy' : float, this is the accuracy over the entire dataset\n",
    "        }\n",
    "    \"\"\"\n",
    "    print_every = int(kwargs.get('print_every', 10))\n",
    "    data_aug = kwargs.get('data_aug', False)\n",
    "\n",
    "    train_loss = 0\n",
    "    train_accuracy = 0\n",
    "\n",
    "    num_batches = len(dataloader)\n",
    "    model.train()\n",
    "    model.to(device)\n",
    "\n",
    "\n",
    "    with tqdm(total=num_batches, dynamic_ncols=True) as pbar:\n",
    "        for batch, (X, y) in enumerate(dataloader):\n",
    "            optimizer.zero_grad()\n",
    "            X, y = X.to(device), y.to(device)\n",
    "\n",
    "            #if data_aug:\n",
    "            #    X = train_transform(X)\n",
    "\n",
    "            pred = model(X)\n",
    "            loss = loss_fn(pred, y)\n",
    "\n",
    "            loss.backward()\n",
    "            optimizer.step()\n",
    "\n",
    "            # update loss and accuracy\n",
    "            train_loss += loss.item()\n",
    "            train_accuracy += (pred.argmax(1) == y).type(torch.float).sum().item()\n",
    "\n",
    "            if DEBUG and batch % print_every == 0:\n",
    "                loss_item = loss.item()\n",
    "                pbar.set_description(f\"loss: {loss_item:>7f}  Batch:[{batch+1:>5d}/{num_batches:>5d}]\")\n",
    "            pbar.update(1)\n",
    "    \n",
    "    train_loss /= num_batches\n",
    "    train_accuracy /= len(dataloader.dataset)\n",
    "    return {\n",
    "        'train_loss' : train_loss,\n",
    "        'train_accuracy' : train_accuracy\n",
    "    }"
   ]
  },
  {
   "cell_type": "code",
   "execution_count": 5,
   "metadata": {},
   "outputs": [],
   "source": [
    "def test_loop(dataloader, model, loss_fn, device):\n",
    "    model.eval()\n",
    "    size = len(dataloader.dataset)\n",
    "    num_batches = len(dataloader)\n",
    "    test_loss, correct = 0, 0\n",
    "    model.to(device)  # Move the model to the device\n",
    "    \n",
    "    with torch.no_grad():\n",
    "        for X, y in dataloader:\n",
    "            X, y = X.to(device), y.to(device)  # Move the data to the device\n",
    "            pred = model(X)\n",
    "            test_loss += loss_fn(pred, y).item()\n",
    "            correct += (pred.argmax(1) == y).type(torch.float).sum().item()\n",
    "\n",
    "    test_loss /= num_batches\n",
    "    correct /= size\n",
    "    print(f\"Validation Error: \\n Accuracy: {(100*correct):>0.1f}%, Avg loss: {test_loss:>8f} \\n\")\n",
    "\n",
    "    return {'validation_loss': test_loss, 'validation_acc': correct}"
   ]
  },
  {
   "cell_type": "code",
   "execution_count": 6,
   "metadata": {},
   "outputs": [],
   "source": [
    "def evaluate_model(dataloader, model, loss_fn, device):\n",
    "    model.eval()\n",
    "    size = len(dataloader.dataset)\n",
    "    num_batches = len(dataloader)\n",
    "    test_loss, correct = 0, 0\n",
    "    model.to(device)  # Move the model to the device\n",
    "    \n",
    "    with torch.no_grad():\n",
    "        for X, y in dataloader:\n",
    "            X, y = X.to(device), y.to(device)  # Move the data to the device\n",
    "            pred = model(X)\n",
    "            test_loss += loss_fn(pred, y).item()\n",
    "            correct += (pred.argmax(1) == y).type(torch.float).sum().item()\n",
    "\n",
    "    test_loss /= num_batches\n",
    "    correct /= size\n",
    "    accuracy = 100*correct\n",
    "    return accuracy, test_loss"
   ]
  },
  {
   "cell_type": "markdown",
   "metadata": {},
   "source": [
    "## We create a function that creates the datasets and loads the data"
   ]
  },
  {
   "cell_type": "code",
   "execution_count": 7,
   "metadata": {},
   "outputs": [],
   "source": [
    "import random\n",
    "from torch.utils.data import Subset\n",
    "from torchvision.datasets import OxfordIIITPet\n",
    "\n",
    "def load_data(**kwargs):\n",
    "    transform = kwargs.get('transform', None)\n",
    "    if transform is not None:\n",
    "        training_transform = v2.Compose([\n",
    "            resnet_preprocess,\n",
    "            transform\n",
    "        ])\n",
    "    else:\n",
    "        training_transform = resnet_preprocess\n",
    "    training_data = OxfordIIITPet(root='dataset', split='trainval', target_types='category', transform=training_transform, download=True)\n",
    "    validation_data = OxfordIIITPet(root='dataset', split='trainval', target_types='category', transform=resnet_preprocess, download=False)\n",
    "    test_data = OxfordIIITPet(root='dataset', split='test', target_types='category', transform=resnet_preprocess, download=False)\n",
    "\n",
    "    # shuffle and split into validation and training\n",
    "    indices = list(range(len(training_data)))\n",
    "    random.seed(310)  # fix the seed\n",
    "    random.shuffle(indices)\n",
    "\n",
    "    train_size = int(0.8 * len(training_data))\n",
    "    train_dataset_split = Subset(training_data, indices[:train_size])\n",
    "    val_dataset_split = Subset(validation_data, indices[train_size:])\n",
    "\n",
    "    return train_dataset_split, val_dataset_split, test_data"
   ]
  },
  {
   "cell_type": "markdown",
   "metadata": {},
   "source": [
    "## We define a function for creating models using different hyperparameters"
   ]
  },
  {
   "cell_type": "code",
   "execution_count": 8,
   "metadata": {},
   "outputs": [],
   "source": [
    "num_classes = 37\n",
    "def create_model(**kwargs):\n",
    "    '''\n",
    "    kwargs:\n",
    "        include_layers : int, the number of layers to include in the model, 0 only includes the final layer, 1 includes the final layer and the last layer before it, etc.\n",
    "        fine_tune_bn : bool, whether to fine tune the batch normalization layers\n",
    "    '''\n",
    "    include_layers = kwargs.get('include_layers', 0)\n",
    "    fine_tune_bn = kwargs.get('fine_tune_bn', False)\n",
    "    \n",
    "    model = models.resnet34(weights='DEFAULT')\n",
    "\n",
    "    layers_to_freeze = len(list(model.children())) - include_layers \n",
    "\n",
    "    # Freeze all layers that are not included\n",
    "    for idx, layer in enumerate(model.children()):\n",
    "        # Freeze batchnorm layers if fine_tune_bn is False\n",
    "        if isinstance(layer, torch.nn.modules.batchnorm.BatchNorm2d) and not fine_tune_bn:\n",
    "            for param in layer.parameters():\n",
    "                param.requires_grad = False\n",
    "        else:\n",
    "            if idx < layers_to_freeze:\n",
    "                for param in layer.parameters():\n",
    "                    param.requires_grad = False\n",
    "\n",
    "    # Change the output layer\n",
    "    in_features = model.fc.in_features\n",
    "    #model.fc = torch.nn.Linear(in_features=in_features, out_features=num_classes, bias=True) \n",
    "    model.fc = torch.nn.Sequential(\n",
    "            nn.Linear(in_features, 512),  # Add a dense layer\n",
    "            nn.ReLU(),                 # Activation function\n",
    "            nn.Dropout(0.4),           # Dropout layer for regularization\n",
    "            nn.Linear(512, num_classes, bias=True) # Final output layer\n",
    "        )\n",
    "    return model"
   ]
  },
  {
   "cell_type": "markdown",
   "metadata": {},
   "source": [
    "## Next we define the training function"
   ]
  },
  {
   "cell_type": "code",
   "execution_count": 9,
   "metadata": {},
   "outputs": [],
   "source": [
    "def train_model(model, loss_fn, optimizer, train_dataloader, val_dataloader, **kwargs):\n",
    "    \"\"\"\n",
    "    Args:\n",
    "        **kwargs : {\n",
    "            'epochs' : int,\n",
    "            'device' : torch.device,\n",
    "            'scheduler' : torch.scheduler,\n",
    "            'data_aug' : bool\n",
    "        }\n",
    "    \"\"\"\n",
    "    epochs = kwargs.get('epochs', 5)\n",
    "    device = kwargs.get('device', torch.device('cpu'))\n",
    "    scheduler = kwargs.get('scheduler', None)\n",
    "\n",
    "    training_results = []\n",
    "    validation_results = []\n",
    "    best_loss = 999\n",
    "    counter = 0\n",
    "\n",
    "    for t in range(epochs):\n",
    "        print(f\"Epoch {t+1}\\n-------------------------------\")\n",
    "        train_res = train_loop(train_dataloader, model, loss_fn, optimizer, **kwargs)\n",
    "        if scheduler is not None:\n",
    "            scheduler.step()\n",
    "        val_res = test_loop(val_dataloader, model, loss_fn, device)\n",
    "\n",
    "        # append data\n",
    "        training_results.append(train_res)\n",
    "        validation_results.append(val_res)\n",
    "\n",
    "        if val_res['validation_loss'] < best_loss:\n",
    "            best_loss = val_res['validation_loss']\n",
    "            counter = 0\n",
    "        else:\n",
    "            counter += 1\n",
    "        # break if not improving for last 5 epochs\n",
    "        if t > 5 and counter == 5:\n",
    "            print(\"Early stopping!\")\n",
    "            break\n",
    "    print(\"Training done!\")\n",
    "\n",
    "    return {'train_res': training_results, 'val_res': validation_results}"
   ]
  },
  {
   "cell_type": "markdown",
   "metadata": {},
   "source": [
    "Lets try training a model"
   ]
  },
  {
   "cell_type": "code",
   "execution_count": 10,
   "metadata": {},
   "outputs": [],
   "source": [
    "# make one graph for accuracy and one for loss\n",
    "import seaborn as sns\n",
    "# use style\n",
    "sns.set_theme(style='whitegrid')\n",
    "\n",
    "def create_graphs(results, filename):\n",
    "    train_loss = [res['train_loss'] for res in results['train_res']]\n",
    "    val_loss = [res['validation_loss'] for res in results['val_res']]\n",
    "\n",
    "    train_acc = [res['train_accuracy'] for res in results['train_res']]\n",
    "\n",
    "    val_acc = [res['validation_acc'] for res in results['val_res']]\n",
    "\n",
    "    fig, ax = plt.subplots(1, 2, figsize=(12, 6))\n",
    "\n",
    "    sns.lineplot(x=range(1, len(train_loss)+1), y=train_loss, ax=ax[0], label='train_loss')\n",
    "    sns.lineplot(x=range(1, len(val_loss)+1), y=val_loss, ax=ax[0], label='val_loss')\n",
    "\n",
    "    sns.lineplot(x=range(1, len(train_acc)+1), y=train_acc, ax=ax[1], label='train_acc')\n",
    "    sns.lineplot(x=range(1, len(val_acc)+1), y=val_acc, ax=ax[1], label='val_acc')\n",
    "\n",
    "    ax[0].set_title('Loss')\n",
    "    ax[1].set_title('Accuracy')\n",
    "\n",
    "    ax[0].set_xlabel('Epochs')\n",
    "    ax[1].set_xlabel('Epochs')\n",
    "\n",
    "    plt.savefig(filename)\n"
   ]
  },
  {
   "cell_type": "markdown",
   "metadata": {},
   "source": [
    "We train the network using said parameters, running the test-loop on the validation set for each epoch to see if the model improves"
   ]
  },
  {
   "cell_type": "code",
   "execution_count": 17,
   "metadata": {},
   "outputs": [
    {
     "name": "stdout",
     "output_type": "stream",
     "text": [
      "Number of experiments: 24\n"
     ]
    },
    {
     "data": {
      "text/plain": [
       "'\\nwith open(\\'experiment_results.csv\\', \\'w\\', newline=\\'\\') as file:\\n    writer = csv.writer(file)\\n    model_name = f\\'Layers: {len(include_layers_list)}, LR: {len(learning_rates)}, Data Aug: {len(data_augmentation_enabled)}, Fine Tune BN: {len(fine_tune_bn)}\\'\\n    writer.writerow([\"Include Layers\", \"Learning Rate\", \"Data Augmentation\", \"Fine Tune BN\", \"Test Accuracy\", \"Test Loss\"])\\n\\n    # Loop over all combinations of hyperparameters and settings\\n    for include_layers in include_layers_list:\\n        for lr in learning_rates:\\n            for data_aug in data_augmentation_enabled:\\n                for bn in fine_tune_bn:\\n                    # check if graph exists, if so, skip\\n                    graph_name = f\\'graphs/{include_layers}_{lr}_{data_aug}_{bn}.png\\'\\n                    if os.path.exists(graph_name):\\n                        print(f\"Graph already exists for {include_layers}_{lr}_{data_aug}_{bn}.png, skipping...\")\\n                        continue\\n\\n                    print(f\"Include Layers: {include_layers}, Learning Rate: {lr}, Data Augmentation: {data_aug}, Fine Tune BN: {bn}\")\\n\\n                    # Create the model and set up the layers to be fine-tuned\\n                    model = create_model(include_layers=include_layers, fine_tune_bn=bn)\\n\\n                    # Set up the optimizer\\n                    optimizer = torch.optim.Adam(model.parameters(), lr=lr)\\n\\n                    # Set up the data augmentation transformations if enabled\\n                    if data_aug:\\n                        train_transform = v2.RandAugment()\\n                    else:\\n                        train_transform = None\\n\\n                    # Load the data\\n                    train_data, val_data, test_data = load_data(transform=train_transform)\\n\\n                    train_dataloader = DataLoader(train_data, batch_size=batch_size, shuffle=True, num_workers=4)\\n                    val_dataloader = DataLoader(val_data, batch_size=batch_size, shuffle=False, num_workers=4)\\n                    test_dataloader = DataLoader(test_data, batch_size=batch_size,shuffle=False, num_workers=4)\\n                    \\n                    scheduler = torch.optim.lr_scheduler.ExponentialLR(optimizer, gamma=0.9)\\n\\n                    # Train the model\\n                    results = train_model(model, nn.CrossEntropyLoss(), optimizer, train_dataloader, val_dataloader, epochs=_epochs, device=device, scheduler=scheduler, \\n                                data_aug=data_aug)\\n\\n                    # Evaluate the model on the validation set and get the accuracy\\n                    accuracy, test_loss = evaluate_model(test_dataloader, model, nn.CrossEntropyLoss(), device)\\n\\n                    print(f\"Test Accuracy: {accuracy:.2f}%\") \\n\\n                    # Write the results to the CSV file\\n                    writer.writerow([include_layers, lr, data_aug, bn, accuracy, test_loss])\\n\\n                    # generate graphs and save them\\n                    filename = f\\'graphs/{include_layers}_{lr}_{data_aug}_{bn}.png\\'\\n                    create_graphs(results, filename)\\n'"
      ]
     },
     "execution_count": 17,
     "metadata": {},
     "output_type": "execute_result"
    }
   ],
   "source": [
    "import csv\n",
    "\n",
    "\n",
    "# Define the hyperparameters and settings to test\n",
    "include_layers_list = [1, 2, 3] #[-999, 1, 2]\n",
    "learning_rates = [1e-3, 5e-3]\n",
    "data_augmentation_enabled = [True, False]#\", False]\n",
    "#fine_tune_bn = [True, False]\n",
    "fine_tune_bn = [True, False]\n",
    "batch_size = 64\n",
    "_epochs = 100\n",
    "\n",
    "# Number of combinations of hyperparameters and settings\n",
    "num_experiments = len(include_layers_list) * len(learning_rates) * len(data_augmentation_enabled) * len(fine_tune_bn)\n",
    "print(f\"Number of experiments: {num_experiments}\")\n",
    "\"\"\"\n",
    "with open('experiment_results.csv', 'w', newline='') as file:\n",
    "    writer = csv.writer(file)\n",
    "    model_name = f'Layers: {len(include_layers_list)}, LR: {len(learning_rates)}, Data Aug: {len(data_augmentation_enabled)}, Fine Tune BN: {len(fine_tune_bn)}'\n",
    "    writer.writerow([\"Include Layers\", \"Learning Rate\", \"Data Augmentation\", \"Fine Tune BN\", \"Test Accuracy\", \"Test Loss\"])\n",
    "\n",
    "    # Loop over all combinations of hyperparameters and settings\n",
    "    for include_layers in include_layers_list:\n",
    "        for lr in learning_rates:\n",
    "            for data_aug in data_augmentation_enabled:\n",
    "                for bn in fine_tune_bn:\n",
    "                    # check if graph exists, if so, skip\n",
    "                    graph_name = f'graphs/{include_layers}_{lr}_{data_aug}_{bn}.png'\n",
    "                    if os.path.exists(graph_name):\n",
    "                        print(f\"Graph already exists for {include_layers}_{lr}_{data_aug}_{bn}.png, skipping...\")\n",
    "                        continue\n",
    "\n",
    "                    print(f\"Include Layers: {include_layers}, Learning Rate: {lr}, Data Augmentation: {data_aug}, Fine Tune BN: {bn}\")\n",
    "\n",
    "                    # Create the model and set up the layers to be fine-tuned\n",
    "                    model = create_model(include_layers=include_layers, fine_tune_bn=bn)\n",
    "\n",
    "                    # Set up the optimizer\n",
    "                    optimizer = torch.optim.Adam(model.parameters(), lr=lr)\n",
    "\n",
    "                    # Set up the data augmentation transformations if enabled\n",
    "                    if data_aug:\n",
    "                        train_transform = v2.RandAugment()\n",
    "                    else:\n",
    "                        train_transform = None\n",
    "\n",
    "                    # Load the data\n",
    "                    train_data, val_data, test_data = load_data(transform=train_transform)\n",
    "\n",
    "                    train_dataloader = DataLoader(train_data, batch_size=batch_size, shuffle=True, num_workers=4)\n",
    "                    val_dataloader = DataLoader(val_data, batch_size=batch_size, shuffle=False, num_workers=4)\n",
    "                    test_dataloader = DataLoader(test_data, batch_size=batch_size,shuffle=False, num_workers=4)\n",
    "                    \n",
    "                    scheduler = torch.optim.lr_scheduler.ExponentialLR(optimizer, gamma=0.9)\n",
    "\n",
    "                    # Train the model\n",
    "                    results = train_model(model, nn.CrossEntropyLoss(), optimizer, train_dataloader, val_dataloader, epochs=_epochs, device=device, scheduler=scheduler, \n",
    "                                data_aug=data_aug)\n",
    "\n",
    "                    # Evaluate the model on the validation set and get the accuracy\n",
    "                    accuracy, test_loss = evaluate_model(test_dataloader, model, nn.CrossEntropyLoss(), device)\n",
    "\n",
    "                    print(f\"Test Accuracy: {accuracy:.2f}%\") \n",
    "\n",
    "                    # Write the results to the CSV file\n",
    "                    writer.writerow([include_layers, lr, data_aug, bn, accuracy, test_loss])\n",
    "\n",
    "                    # generate graphs and save them\n",
    "                    filename = f'graphs/{include_layers}_{lr}_{data_aug}_{bn}.png'\n",
    "                    create_graphs(results, filename)\n",
    "\"\"\""
   ]
  },
  {
   "cell_type": "code",
   "execution_count": 26,
   "metadata": {},
   "outputs": [
    {
     "ename": "AttributeError",
     "evalue": "'numpy.ndarray' object has no attribute 'imshow'",
     "output_type": "error",
     "traceback": [
      "\u001b[0;31m---------------------------------------------------------------------------\u001b[0m",
      "\u001b[0;31mAttributeError\u001b[0m                            Traceback (most recent call last)",
      "Cell \u001b[0;32mIn[26], line 15\u001b[0m\n\u001b[1;32m     13\u001b[0m \u001b[38;5;66;03m# load the image\u001b[39;00m\n\u001b[1;32m     14\u001b[0m img \u001b[38;5;241m=\u001b[39m plt\u001b[38;5;241m.\u001b[39mimread(filename)\n\u001b[0;32m---> 15\u001b[0m ax[idx]\u001b[38;5;241m.\u001b[39mimshow(img)\n\u001b[1;32m     16\u001b[0m ax[idx]\u001b[38;5;241m.\u001b[39maxis(\u001b[38;5;124m'\u001b[39m\u001b[38;5;124moff\u001b[39m\u001b[38;5;124m'\u001b[39m)\n\u001b[1;32m     17\u001b[0m ax[idx]\u001b[38;5;241m.\u001b[39mset_title(\u001b[38;5;124mf\u001b[39m\u001b[38;5;124m'\u001b[39m\u001b[38;5;124mData Aug: \u001b[39m\u001b[38;5;132;01m{\u001b[39;00mdata_aug\u001b[38;5;132;01m}\u001b[39;00m\u001b[38;5;124m, Fine Tune BN: \u001b[39m\u001b[38;5;132;01m{\u001b[39;00mbn\u001b[38;5;132;01m}\u001b[39;00m\u001b[38;5;124m'\u001b[39m)\n",
      "\u001b[0;31mAttributeError\u001b[0m: 'numpy.ndarray' object has no attribute 'imshow'"
     ]
    },
    {
     "data": {
      "image/png": "[encoded data removed]",
      "text/plain": [
       "<Figure size 2000x2000 with 4 Axes>"
      ]
     },
     "metadata": {},
     "output_type": "display_data"
    }
   ],
   "source": [
    "# now we want to visualize the graphs\n",
    "import matplotlib.pyplot as plt\n",
    "import seaborn as sns\n",
    "import pandas as pd\n",
    "\n",
    "# show all graphs for lowest learning rate\n",
    "fig, ax = plt.subplots(2, 2, figsize=(20, 20))\n",
    "\n",
    "for idx, data_aug in enumerate(data_augmentation_enabled):\n",
    "    for j, bn in enumerate(fine_tune_bn):\n",
    "        filename = f'graphs/1_0.001_{data_aug}_{bn}.png'\n",
    "        \n",
    "        # load the image\n",
    "        img = plt.imread(filename)\n",
    "        ax[idx].imshow(img)\n",
    "        ax[idx].axis('off')\n",
    "        ax[idx].set_title(f'Data Aug: {data_aug}, Fine Tune BN: {bn}')\n",
    "\n",
    "\n",
    "\n",
    "plt.show()\n"
   ]
  }
 ],
 "metadata": {
  "kernelspec": {
   "display_name": "venv",
   "language": "python",
   "name": "python3"
  },
  "language_info": {
   "codemirror_mode": {
    "name": "ipython",
    "version": 3
   },
   "file_extension": ".py",
   "mimetype": "text/x-python",
   "name": "python",
   "nbconvert_exporter": "python",
   "pygments_lexer": "ipython3",
   "version": "3.11.8"
  }
 },
 "nbformat": 4,
 "nbformat_minor": 2
}
